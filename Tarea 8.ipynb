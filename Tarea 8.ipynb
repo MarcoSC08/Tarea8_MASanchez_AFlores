{
 "cells": [
  {
   "cell_type": "markdown",
   "metadata": {},
   "source": [
    "<img style=\"float: left; margin: 30px 15px 15px 15px;\" src=\"https://pngimage.net/wp-content/uploads/2018/06/logo-iteso-png-5.png\" width=\"300\" height=\"500\" /> \n",
    "    \n",
    "    \n",
    "### <font color='navy'> Simulación de procesos financieros. \n",
    "\n",
    "**Nombres:** Marco Antonio Sánchez Covarrubias. Andrea Flores Fernandez.\n",
    "\n",
    "**Fecha:** 22 de Noviembre del 2021.\n",
    "\n",
    "**Expediente** : if720268. if725449.\n",
    "**Profesor:** Oscar David Jaramillo Zuluaga.\n",
    "    \n",
    "**Link Github**: https://github.com/MarcoSC08/Tarea8_MASanchez_AFlores\n",
    "\n",
    "# Tarea 8: Clase 22"
   ]
  },
  {
   "cell_type": "markdown",
   "metadata": {},
   "source": [
    "## Valoración de opciones tipo \"Put\"\n",
    "> Replicar el procedimiento anterior para valoración de opciones 'call', pero en este caso para opciones tipo 'put' y además deben de comparar con los resultados teoricos del método de valuación de Black-Scholes (ecuación del principio de clase)"
   ]
  },
  {
   "cell_type": "markdown",
   "metadata": {},
   "source": [
    "### Ejercicio 1: $$ P(S(t),t)=max\\{K-S(T),0\\} \\rightarrow \\text{En el caso de Put}$$ "
   ]
  },
  {
   "cell_type": "markdown",
   "metadata": {},
   "source": [
    "#### Solución estudiante 1"
   ]
  },
  {
   "cell_type": "code",
   "execution_count": 1,
   "metadata": {},
   "outputs": [
    {
     "name": "stdout",
     "output_type": "stream",
     "text": [
      "Collecting package metadata (current_repodata.json): done\n",
      "Solving environment: done\n",
      "\n",
      "# All requested packages already installed.\n",
      "\n",
      "\n",
      "Note: you may need to restart the kernel to use updated packages.\n"
     ]
    }
   ],
   "source": [
    "conda install pandas-datareader"
   ]
  },
  {
   "cell_type": "code",
<<<<<<< HEAD
   "execution_count": 1,
   "metadata": {},
   "outputs": [],
   "source": [
    "import yfinance as yf"
   ]
  },
  {
   "cell_type": "code",
=======
>>>>>>> main
   "execution_count": 2,
   "metadata": {},
   "outputs": [],
   "source": [
    "#importar los paquetes que se van a usar\n",
    "import pandas as pd\n",
    "import pandas_datareader.data as web\n",
    "import numpy as np\n",
    "import datetime\n",
    "import matplotlib.pyplot as plt\n",
    "import scipy.stats as st\n",
    "import seaborn as sns\n",
    "%matplotlib inline\n",
    "#algunas opciones para Pandas\n",
    "pd.set_option('display.notebook_repr_html', True)\n",
    "pd.set_option('display.max_columns', 6)\n",
    "pd.set_option('display.max_rows', 10)\n",
    "pd.set_option('display.width', 78)\n",
    "pd.set_option('precision', 3)"
   ]
  },
  {
   "cell_type": "code",
   "execution_count": 3,
   "metadata": {},
   "outputs": [
    {
     "data": {
      "text/html": [
       "<div>\n",
       "<style scoped>\n",
       "    .dataframe tbody tr th:only-of-type {\n",
       "        vertical-align: middle;\n",
       "    }\n",
       "\n",
       "    .dataframe tbody tr th {\n",
       "        vertical-align: top;\n",
       "    }\n",
       "\n",
       "    .dataframe thead th {\n",
       "        text-align: right;\n",
       "    }\n",
       "</style>\n",
       "<table border=\"1\" class=\"dataframe\">\n",
       "  <thead>\n",
       "    <tr style=\"text-align: right;\">\n",
       "      <th></th>\n",
       "      <th>Open</th>\n",
       "      <th>High</th>\n",
       "      <th>Low</th>\n",
       "      <th>Close</th>\n",
       "      <th>Volume</th>\n",
       "    </tr>\n",
       "    <tr>\n",
       "      <th>Date</th>\n",
       "      <th></th>\n",
       "      <th></th>\n",
       "      <th></th>\n",
       "      <th></th>\n",
       "      <th></th>\n",
       "    </tr>\n",
       "  </thead>\n",
       "  <tbody>\n",
       "    <tr>\n",
       "      <th>2021-11-22</th>\n",
       "      <td>161.680</td>\n",
       "      <td>165.700</td>\n",
       "      <td>161.000</td>\n",
       "      <td>161.020</td>\n",
       "      <td>117467889</td>\n",
       "    </tr>\n",
       "    <tr>\n",
       "      <th>2021-11-19</th>\n",
       "      <td>157.650</td>\n",
       "      <td>161.020</td>\n",
       "      <td>156.533</td>\n",
       "      <td>160.550</td>\n",
       "      <td>117305597</td>\n",
       "    </tr>\n",
       "    <tr>\n",
       "      <th>2021-11-18</th>\n",
       "      <td>153.710</td>\n",
       "      <td>158.670</td>\n",
       "      <td>153.050</td>\n",
       "      <td>157.870</td>\n",
       "      <td>137827673</td>\n",
       "    </tr>\n",
       "    <tr>\n",
       "      <th>2021-11-17</th>\n",
       "      <td>150.995</td>\n",
       "      <td>155.000</td>\n",
       "      <td>150.990</td>\n",
       "      <td>153.490</td>\n",
       "      <td>88807000</td>\n",
       "    </tr>\n",
       "    <tr>\n",
       "      <th>2021-11-16</th>\n",
       "      <td>149.940</td>\n",
       "      <td>151.488</td>\n",
       "      <td>149.340</td>\n",
       "      <td>151.000</td>\n",
       "      <td>59256210</td>\n",
       "    </tr>\n",
       "    <tr>\n",
       "      <th>...</th>\n",
       "      <td>...</td>\n",
       "      <td>...</td>\n",
       "      <td>...</td>\n",
       "      <td>...</td>\n",
       "      <td>...</td>\n",
       "    </tr>\n",
       "    <tr>\n",
       "      <th>2015-01-08</th>\n",
       "      <td>24.723</td>\n",
       "      <td>25.388</td>\n",
       "      <td>24.598</td>\n",
       "      <td>25.328</td>\n",
       "      <td>262141489</td>\n",
       "    </tr>\n",
       "    <tr>\n",
       "      <th>2015-01-07</th>\n",
       "      <td>24.268</td>\n",
       "      <td>24.485</td>\n",
       "      <td>24.147</td>\n",
       "      <td>24.393</td>\n",
       "      <td>177012556</td>\n",
       "    </tr>\n",
       "    <tr>\n",
       "      <th>2015-01-06</th>\n",
       "      <td>24.142</td>\n",
       "      <td>24.316</td>\n",
       "      <td>23.681</td>\n",
       "      <td>24.052</td>\n",
       "      <td>290504541</td>\n",
       "    </tr>\n",
       "    <tr>\n",
       "      <th>2015-01-05</th>\n",
       "      <td>24.507</td>\n",
       "      <td>24.585</td>\n",
       "      <td>23.860</td>\n",
       "      <td>24.050</td>\n",
       "      <td>283893124</td>\n",
       "    </tr>\n",
       "    <tr>\n",
       "      <th>2015-01-02</th>\n",
       "      <td>25.210</td>\n",
       "      <td>25.222</td>\n",
       "      <td>24.300</td>\n",
       "      <td>24.745</td>\n",
       "      <td>235028741</td>\n",
       "    </tr>\n",
       "  </tbody>\n",
       "</table>\n",
       "<p>1736 rows × 5 columns</p>\n",
       "</div>"
      ],
      "text/plain": [
       "               Open     High      Low    Close     Volume\n",
       "Date                                                     \n",
       "2021-11-22  161.680  165.700  161.000  161.020  117467889\n",
       "2021-11-19  157.650  161.020  156.533  160.550  117305597\n",
       "2021-11-18  153.710  158.670  153.050  157.870  137827673\n",
       "2021-11-17  150.995  155.000  150.990  153.490   88807000\n",
       "2021-11-16  149.940  151.488  149.340  151.000   59256210\n",
       "...             ...      ...      ...      ...        ...\n",
       "2015-01-08   24.723   25.388   24.598   25.328  262141489\n",
       "2015-01-07   24.268   24.485   24.147   24.393  177012556\n",
       "2015-01-06   24.142   24.316   23.681   24.052  290504541\n",
       "2015-01-05   24.507   24.585   23.860   24.050  283893124\n",
       "2015-01-02   25.210   25.222   24.300   24.745  235028741\n",
       "\n",
       "[1736 rows x 5 columns]"
      ]
     },
     "execution_count": 3,
     "metadata": {},
     "output_type": "execute_result"
    }
   ],
   "source": [
    "from datetime import datetime\n",
    "ticker = 'AAPL'\n",
    "source = 'stooq'\n",
    "start = '2015-01-01'\n",
    "end = datetime.today()\n",
    "aapl_goo = web.DataReader(ticker, source, start=start)\n",
    "aapl_goo"
   ]
  },
  {
   "cell_type": "code",
   "execution_count": 4,
<<<<<<< HEAD
   "metadata": {},
   "outputs": [
    {
     "ename": "IndexError",
     "evalue": "tuple index out of range",
     "output_type": "error",
     "traceback": [
      "\u001b[0;31m---------------------------------------------------------------------------\u001b[0m",
      "\u001b[0;31mIndexError\u001b[0m                                Traceback (most recent call last)",
      "\u001b[0;32m<ipython-input-4-ea34808ec2e3>\u001b[0m in \u001b[0;36m<module>\u001b[0;34m\u001b[0m\n\u001b[1;32m      9\u001b[0m     \u001b[0;32mreturn\u001b[0m \u001b[0mcalls\u001b[0m\u001b[0;34m,\u001b[0m \u001b[0mputs\u001b[0m\u001b[0;34m\u001b[0m\u001b[0;34m\u001b[0m\u001b[0m\n\u001b[1;32m     10\u001b[0m \u001b[0;34m\u001b[0m\u001b[0m\n\u001b[0;32m---> 11\u001b[0;31m \u001b[0mc\u001b[0m\u001b[0;34m,\u001b[0m \u001b[0mp\u001b[0m \u001b[0;34m=\u001b[0m \u001b[0moptions_yf\u001b[0m\u001b[0;34m(\u001b[0m\u001b[0;34m\"APPL\"\u001b[0m\u001b[0;34m)\u001b[0m\u001b[0;34m\u001b[0m\u001b[0;34m\u001b[0m\u001b[0m\n\u001b[0m",
      "\u001b[0;32m<ipython-input-4-ea34808ec2e3>\u001b[0m in \u001b[0;36moptions_yf\u001b[0;34m(ticker)\u001b[0m\n\u001b[1;32m      6\u001b[0m     \"\"\"\n\u001b[1;32m      7\u001b[0m     \u001b[0mstock\u001b[0m \u001b[0;34m=\u001b[0m \u001b[0myf\u001b[0m\u001b[0;34m.\u001b[0m\u001b[0mTicker\u001b[0m\u001b[0;34m(\u001b[0m\u001b[0mticker\u001b[0m\u001b[0;34m)\u001b[0m\u001b[0;34m\u001b[0m\u001b[0;34m\u001b[0m\u001b[0m\n\u001b[0;32m----> 8\u001b[0;31m     \u001b[0mcalls\u001b[0m\u001b[0;34m,\u001b[0m \u001b[0mputs\u001b[0m \u001b[0;34m=\u001b[0m \u001b[0mstock\u001b[0m\u001b[0;34m.\u001b[0m\u001b[0moption_chain\u001b[0m\u001b[0;34m(\u001b[0m\u001b[0mstock\u001b[0m\u001b[0;34m.\u001b[0m\u001b[0moptions\u001b[0m\u001b[0;34m[\u001b[0m\u001b[0;36m0\u001b[0m\u001b[0;34m]\u001b[0m\u001b[0;34m)\u001b[0m\u001b[0;34m\u001b[0m\u001b[0;34m\u001b[0m\u001b[0m\n\u001b[0m\u001b[1;32m      9\u001b[0m     \u001b[0;32mreturn\u001b[0m \u001b[0mcalls\u001b[0m\u001b[0;34m,\u001b[0m \u001b[0mputs\u001b[0m\u001b[0;34m\u001b[0m\u001b[0;34m\u001b[0m\u001b[0m\n\u001b[1;32m     10\u001b[0m \u001b[0;34m\u001b[0m\u001b[0m\n",
      "\u001b[0;31mIndexError\u001b[0m: tuple index out of range"
     ]
    }
   ],
   "source": [
    "def options_yf(ticker : \"Ticker en formato string\"):\n",
    "    \"\"\"\n",
    "    options_yf descarga información de opciones financieras con ayuda de yfinance\n",
    "\n",
    "    *ticker : es el símbolo de cotización de la acción\n",
    "    \"\"\"\n",
    "    stock = yf.Ticker(ticker)\n",
    "    calls, puts = stock.option_chain(stock.options[0]) \n",
    "    return calls, puts\n",
    " \n",
    "c, p = options_yf(\"APPL\")"
   ]
  },
  {
   "cell_type": "code",
   "execution_count": 5,
=======
>>>>>>> main
   "metadata": {},
   "outputs": [
    {
     "ename": "RemoteDataError",
     "evalue": "Unable to read URL: https://query1.finance.yahoo.com/v7/finance/options/AAPL\nResponse Text:\nb'Forbidden'",
     "output_type": "error",
     "traceback": [
      "\u001b[0;31m---------------------------------------------------------------------------\u001b[0m",
      "\u001b[0;31mRemoteDataError\u001b[0m                           Traceback (most recent call last)",
<<<<<<< HEAD
      "\u001b[0;32m<ipython-input-5-9110058a8ad3>\u001b[0m in \u001b[0;36m<module>\u001b[0;34m\u001b[0m\n\u001b[1;32m      1\u001b[0m \u001b[0;31m# solución estudiante 1\u001b[0m\u001b[0;34m\u001b[0m\u001b[0;34m\u001b[0m\u001b[0;34m\u001b[0m\u001b[0m\n\u001b[1;32m      2\u001b[0m \u001b[0maapl\u001b[0m \u001b[0;34m=\u001b[0m \u001b[0mweb\u001b[0m\u001b[0;34m.\u001b[0m\u001b[0mYahooOptions\u001b[0m\u001b[0;34m(\u001b[0m\u001b[0;34m'AAPL'\u001b[0m\u001b[0;34m)\u001b[0m\u001b[0;34m\u001b[0m\u001b[0;34m\u001b[0m\u001b[0m\n\u001b[0;32m----> 3\u001b[0;31m \u001b[0maapl_opt\u001b[0m \u001b[0;34m=\u001b[0m \u001b[0maapl\u001b[0m\u001b[0;34m.\u001b[0m\u001b[0mget_all_data\u001b[0m\u001b[0;34m(\u001b[0m\u001b[0;34m)\u001b[0m\u001b[0;34m.\u001b[0m\u001b[0mreset_index\u001b[0m\u001b[0;34m(\u001b[0m\u001b[0;34m)\u001b[0m\u001b[0;34m\u001b[0m\u001b[0;34m\u001b[0m\u001b[0m\n\u001b[0m\u001b[1;32m      4\u001b[0m \u001b[0maapl_opt\u001b[0m\u001b[0;34m.\u001b[0m\u001b[0mset_index\u001b[0m\u001b[0;34m(\u001b[0m\u001b[0;34m'Expiry'\u001b[0m\u001b[0;34m)\u001b[0m\u001b[0;34m\u001b[0m\u001b[0;34m\u001b[0m\u001b[0m\n",
      "\u001b[0;32m~/opt/anaconda3/lib/python3.8/site-packages/pandas_datareader/yahoo/options.py\u001b[0m in \u001b[0;36mget_all_data\u001b[0;34m(self, call, put)\u001b[0m\n\u001b[1;32m    618\u001b[0m         \"\"\"\n\u001b[1;32m    619\u001b[0m \u001b[0;34m\u001b[0m\u001b[0m\n\u001b[0;32m--> 620\u001b[0;31m         \u001b[0;32mreturn\u001b[0m \u001b[0mself\u001b[0m\u001b[0;34m.\u001b[0m\u001b[0m_load_data\u001b[0m\u001b[0;34m(\u001b[0m\u001b[0;34m)\u001b[0m\u001b[0;34m\u001b[0m\u001b[0;34m\u001b[0m\u001b[0m\n\u001b[0m\u001b[1;32m    621\u001b[0m \u001b[0;34m\u001b[0m\u001b[0m\n\u001b[1;32m    622\u001b[0m     \u001b[0;32mdef\u001b[0m \u001b[0m_get_data_in_date_range\u001b[0m\u001b[0;34m(\u001b[0m\u001b[0mself\u001b[0m\u001b[0;34m,\u001b[0m \u001b[0mdates\u001b[0m\u001b[0;34m,\u001b[0m \u001b[0mcall\u001b[0m\u001b[0;34m=\u001b[0m\u001b[0;32mTrue\u001b[0m\u001b[0;34m,\u001b[0m \u001b[0mput\u001b[0m\u001b[0;34m=\u001b[0m\u001b[0;32mTrue\u001b[0m\u001b[0;34m)\u001b[0m\u001b[0;34m:\u001b[0m\u001b[0;34m\u001b[0m\u001b[0;34m\u001b[0m\u001b[0m\n",
      "\u001b[0;32m~/opt/anaconda3/lib/python3.8/site-packages/pandas_datareader/yahoo/options.py\u001b[0m in \u001b[0;36m_load_data\u001b[0;34m(self, exp_dates)\u001b[0m\n\u001b[1;32m    852\u001b[0m         \u001b[0;32mtry\u001b[0m\u001b[0;34m:\u001b[0m\u001b[0;34m\u001b[0m\u001b[0;34m\u001b[0m\u001b[0m\n\u001b[1;32m    853\u001b[0m             \u001b[0;32mif\u001b[0m \u001b[0mexp_dates\u001b[0m \u001b[0;32mis\u001b[0m \u001b[0;32mNone\u001b[0m\u001b[0;34m:\u001b[0m\u001b[0;34m\u001b[0m\u001b[0;34m\u001b[0m\u001b[0m\n\u001b[0;32m--> 854\u001b[0;31m                 \u001b[0mexp_dates\u001b[0m \u001b[0;34m=\u001b[0m \u001b[0mself\u001b[0m\u001b[0;34m.\u001b[0m\u001b[0m_get_expiry_dates\u001b[0m\u001b[0;34m(\u001b[0m\u001b[0;34m)\u001b[0m\u001b[0;34m\u001b[0m\u001b[0;34m\u001b[0m\u001b[0m\n\u001b[0m\u001b[1;32m    855\u001b[0m             exp_unix_times = [\n\u001b[1;32m    856\u001b[0m                 int(\n",
      "\u001b[0;32m~/opt/anaconda3/lib/python3.8/site-packages/pandas_datareader/yahoo/options.py\u001b[0m in \u001b[0;36m_get_expiry_dates\u001b[0;34m(self)\u001b[0m\n\u001b[1;32m    679\u001b[0m \u001b[0;34m\u001b[0m\u001b[0m\n\u001b[1;32m    680\u001b[0m         \u001b[0murl\u001b[0m \u001b[0;34m=\u001b[0m \u001b[0mself\u001b[0m\u001b[0;34m.\u001b[0m\u001b[0m_OPTIONS_BASE_URL\u001b[0m\u001b[0;34m.\u001b[0m\u001b[0mformat\u001b[0m\u001b[0;34m(\u001b[0m\u001b[0msym\u001b[0m\u001b[0;34m=\u001b[0m\u001b[0mself\u001b[0m\u001b[0;34m.\u001b[0m\u001b[0msymbol\u001b[0m\u001b[0;34m)\u001b[0m\u001b[0;34m\u001b[0m\u001b[0;34m\u001b[0m\u001b[0m\n\u001b[0;32m--> 681\u001b[0;31m         \u001b[0mjd\u001b[0m \u001b[0;34m=\u001b[0m \u001b[0mself\u001b[0m\u001b[0;34m.\u001b[0m\u001b[0m_parse_url\u001b[0m\u001b[0;34m(\u001b[0m\u001b[0murl\u001b[0m\u001b[0;34m)\u001b[0m\u001b[0;34m\u001b[0m\u001b[0;34m\u001b[0m\u001b[0m\n\u001b[0m\u001b[1;32m    682\u001b[0m \u001b[0;34m\u001b[0m\u001b[0m\n\u001b[1;32m    683\u001b[0m         expiry_dates = [\n",
      "\u001b[0;32m~/opt/anaconda3/lib/python3.8/site-packages/pandas_datareader/yahoo/options.py\u001b[0m in \u001b[0;36m_parse_url\u001b[0;34m(self, url)\u001b[0m\n\u001b[1;32m    705\u001b[0m         \u001b[0mA\u001b[0m \u001b[0mJSON\u001b[0m \u001b[0mobject\u001b[0m\u001b[0;34m\u001b[0m\u001b[0;34m\u001b[0m\u001b[0m\n\u001b[1;32m    706\u001b[0m         \"\"\"\n\u001b[0;32m--> 707\u001b[0;31m         \u001b[0mjd\u001b[0m \u001b[0;34m=\u001b[0m \u001b[0mjson\u001b[0m\u001b[0;34m.\u001b[0m\u001b[0mloads\u001b[0m\u001b[0;34m(\u001b[0m\u001b[0mself\u001b[0m\u001b[0;34m.\u001b[0m\u001b[0m_read_url_as_StringIO\u001b[0m\u001b[0;34m(\u001b[0m\u001b[0murl\u001b[0m\u001b[0;34m)\u001b[0m\u001b[0;34m.\u001b[0m\u001b[0mread\u001b[0m\u001b[0;34m(\u001b[0m\u001b[0;34m)\u001b[0m\u001b[0;34m)\u001b[0m\u001b[0;34m\u001b[0m\u001b[0;34m\u001b[0m\u001b[0m\n\u001b[0m\u001b[1;32m    708\u001b[0m         \u001b[0;32mif\u001b[0m \u001b[0mjd\u001b[0m \u001b[0;32mis\u001b[0m \u001b[0;32mNone\u001b[0m\u001b[0;34m:\u001b[0m  \u001b[0;31m# pragma: no cover\u001b[0m\u001b[0;34m\u001b[0m\u001b[0;34m\u001b[0m\u001b[0m\n\u001b[1;32m    709\u001b[0m             raise RemoteDataError(\n",
      "\u001b[0;32m~/opt/anaconda3/lib/python3.8/site-packages/pandas_datareader/base.py\u001b[0m in \u001b[0;36m_read_url_as_StringIO\u001b[0;34m(self, url, params)\u001b[0m\n\u001b[1;32m    117\u001b[0m         \u001b[0mOpen\u001b[0m \u001b[0murl\u001b[0m \u001b[0;34m(\u001b[0m\u001b[0;32mand\u001b[0m \u001b[0mretry\u001b[0m\u001b[0;34m)\u001b[0m\u001b[0;34m\u001b[0m\u001b[0;34m\u001b[0m\u001b[0m\n\u001b[1;32m    118\u001b[0m         \"\"\"\n\u001b[0;32m--> 119\u001b[0;31m         \u001b[0mresponse\u001b[0m \u001b[0;34m=\u001b[0m \u001b[0mself\u001b[0m\u001b[0;34m.\u001b[0m\u001b[0m_get_response\u001b[0m\u001b[0;34m(\u001b[0m\u001b[0murl\u001b[0m\u001b[0;34m,\u001b[0m \u001b[0mparams\u001b[0m\u001b[0;34m=\u001b[0m\u001b[0mparams\u001b[0m\u001b[0;34m)\u001b[0m\u001b[0;34m\u001b[0m\u001b[0;34m\u001b[0m\u001b[0m\n\u001b[0m\u001b[1;32m    120\u001b[0m         \u001b[0mtext\u001b[0m \u001b[0;34m=\u001b[0m \u001b[0mself\u001b[0m\u001b[0;34m.\u001b[0m\u001b[0m_sanitize_response\u001b[0m\u001b[0;34m(\u001b[0m\u001b[0mresponse\u001b[0m\u001b[0;34m)\u001b[0m\u001b[0;34m\u001b[0m\u001b[0;34m\u001b[0m\u001b[0m\n\u001b[1;32m    121\u001b[0m         \u001b[0mout\u001b[0m \u001b[0;34m=\u001b[0m \u001b[0mStringIO\u001b[0m\u001b[0;34m(\u001b[0m\u001b[0;34m)\u001b[0m\u001b[0;34m\u001b[0m\u001b[0;34m\u001b[0m\u001b[0m\n",
      "\u001b[0;32m~/opt/anaconda3/lib/python3.8/site-packages/pandas_datareader/base.py\u001b[0m in \u001b[0;36m_get_response\u001b[0;34m(self, url, params, headers)\u001b[0m\n\u001b[1;32m    179\u001b[0m             \u001b[0mmsg\u001b[0m \u001b[0;34m+=\u001b[0m \u001b[0;34m\"\\nResponse Text:\\n{0}\"\u001b[0m\u001b[0;34m.\u001b[0m\u001b[0mformat\u001b[0m\u001b[0;34m(\u001b[0m\u001b[0mlast_response_text\u001b[0m\u001b[0;34m)\u001b[0m\u001b[0;34m\u001b[0m\u001b[0;34m\u001b[0m\u001b[0m\n\u001b[1;32m    180\u001b[0m \u001b[0;34m\u001b[0m\u001b[0m\n\u001b[0;32m--> 181\u001b[0;31m         \u001b[0;32mraise\u001b[0m \u001b[0mRemoteDataError\u001b[0m\u001b[0;34m(\u001b[0m\u001b[0mmsg\u001b[0m\u001b[0;34m)\u001b[0m\u001b[0;34m\u001b[0m\u001b[0;34m\u001b[0m\u001b[0m\n\u001b[0m\u001b[1;32m    182\u001b[0m \u001b[0;34m\u001b[0m\u001b[0m\n\u001b[1;32m    183\u001b[0m     \u001b[0;32mdef\u001b[0m \u001b[0m_get_crumb\u001b[0m\u001b[0;34m(\u001b[0m\u001b[0mself\u001b[0m\u001b[0;34m,\u001b[0m \u001b[0;34m*\u001b[0m\u001b[0margs\u001b[0m\u001b[0;34m)\u001b[0m\u001b[0;34m:\u001b[0m\u001b[0;34m\u001b[0m\u001b[0;34m\u001b[0m\u001b[0m\n",
=======
      "\u001b[0;32m<ipython-input-4-9110058a8ad3>\u001b[0m in \u001b[0;36m<module>\u001b[0;34m\u001b[0m\n\u001b[1;32m      1\u001b[0m \u001b[0;31m# solución estudiante 1\u001b[0m\u001b[0;34m\u001b[0m\u001b[0;34m\u001b[0m\u001b[0;34m\u001b[0m\u001b[0m\n\u001b[1;32m      2\u001b[0m \u001b[0maapl\u001b[0m \u001b[0;34m=\u001b[0m \u001b[0mweb\u001b[0m\u001b[0;34m.\u001b[0m\u001b[0mYahooOptions\u001b[0m\u001b[0;34m(\u001b[0m\u001b[0;34m'AAPL'\u001b[0m\u001b[0;34m)\u001b[0m\u001b[0;34m\u001b[0m\u001b[0;34m\u001b[0m\u001b[0m\n\u001b[0;32m----> 3\u001b[0;31m \u001b[0maapl_opt\u001b[0m \u001b[0;34m=\u001b[0m \u001b[0maapl\u001b[0m\u001b[0;34m.\u001b[0m\u001b[0mget_all_data\u001b[0m\u001b[0;34m(\u001b[0m\u001b[0;34m)\u001b[0m\u001b[0;34m.\u001b[0m\u001b[0mreset_index\u001b[0m\u001b[0;34m(\u001b[0m\u001b[0;34m)\u001b[0m\u001b[0;34m\u001b[0m\u001b[0;34m\u001b[0m\u001b[0m\n\u001b[0m\u001b[1;32m      4\u001b[0m \u001b[0maapl_opt\u001b[0m\u001b[0;34m.\u001b[0m\u001b[0mset_index\u001b[0m\u001b[0;34m(\u001b[0m\u001b[0;34m'Expiry'\u001b[0m\u001b[0;34m)\u001b[0m\u001b[0;34m\u001b[0m\u001b[0;34m\u001b[0m\u001b[0m\n",
      "\u001b[0;32m/opt/anaconda3/lib/python3.8/site-packages/pandas_datareader/yahoo/options.py\u001b[0m in \u001b[0;36mget_all_data\u001b[0;34m(self, call, put)\u001b[0m\n\u001b[1;32m    618\u001b[0m         \"\"\"\n\u001b[1;32m    619\u001b[0m \u001b[0;34m\u001b[0m\u001b[0m\n\u001b[0;32m--> 620\u001b[0;31m         \u001b[0;32mreturn\u001b[0m \u001b[0mself\u001b[0m\u001b[0;34m.\u001b[0m\u001b[0m_load_data\u001b[0m\u001b[0;34m(\u001b[0m\u001b[0;34m)\u001b[0m\u001b[0;34m\u001b[0m\u001b[0;34m\u001b[0m\u001b[0m\n\u001b[0m\u001b[1;32m    621\u001b[0m \u001b[0;34m\u001b[0m\u001b[0m\n\u001b[1;32m    622\u001b[0m     \u001b[0;32mdef\u001b[0m \u001b[0m_get_data_in_date_range\u001b[0m\u001b[0;34m(\u001b[0m\u001b[0mself\u001b[0m\u001b[0;34m,\u001b[0m \u001b[0mdates\u001b[0m\u001b[0;34m,\u001b[0m \u001b[0mcall\u001b[0m\u001b[0;34m=\u001b[0m\u001b[0;32mTrue\u001b[0m\u001b[0;34m,\u001b[0m \u001b[0mput\u001b[0m\u001b[0;34m=\u001b[0m\u001b[0;32mTrue\u001b[0m\u001b[0;34m)\u001b[0m\u001b[0;34m:\u001b[0m\u001b[0;34m\u001b[0m\u001b[0;34m\u001b[0m\u001b[0m\n",
      "\u001b[0;32m/opt/anaconda3/lib/python3.8/site-packages/pandas_datareader/yahoo/options.py\u001b[0m in \u001b[0;36m_load_data\u001b[0;34m(self, exp_dates)\u001b[0m\n\u001b[1;32m    852\u001b[0m         \u001b[0;32mtry\u001b[0m\u001b[0;34m:\u001b[0m\u001b[0;34m\u001b[0m\u001b[0;34m\u001b[0m\u001b[0m\n\u001b[1;32m    853\u001b[0m             \u001b[0;32mif\u001b[0m \u001b[0mexp_dates\u001b[0m \u001b[0;32mis\u001b[0m \u001b[0;32mNone\u001b[0m\u001b[0;34m:\u001b[0m\u001b[0;34m\u001b[0m\u001b[0;34m\u001b[0m\u001b[0m\n\u001b[0;32m--> 854\u001b[0;31m                 \u001b[0mexp_dates\u001b[0m \u001b[0;34m=\u001b[0m \u001b[0mself\u001b[0m\u001b[0;34m.\u001b[0m\u001b[0m_get_expiry_dates\u001b[0m\u001b[0;34m(\u001b[0m\u001b[0;34m)\u001b[0m\u001b[0;34m\u001b[0m\u001b[0;34m\u001b[0m\u001b[0m\n\u001b[0m\u001b[1;32m    855\u001b[0m             exp_unix_times = [\n\u001b[1;32m    856\u001b[0m                 int(\n",
      "\u001b[0;32m/opt/anaconda3/lib/python3.8/site-packages/pandas_datareader/yahoo/options.py\u001b[0m in \u001b[0;36m_get_expiry_dates\u001b[0;34m(self)\u001b[0m\n\u001b[1;32m    679\u001b[0m \u001b[0;34m\u001b[0m\u001b[0m\n\u001b[1;32m    680\u001b[0m         \u001b[0murl\u001b[0m \u001b[0;34m=\u001b[0m \u001b[0mself\u001b[0m\u001b[0;34m.\u001b[0m\u001b[0m_OPTIONS_BASE_URL\u001b[0m\u001b[0;34m.\u001b[0m\u001b[0mformat\u001b[0m\u001b[0;34m(\u001b[0m\u001b[0msym\u001b[0m\u001b[0;34m=\u001b[0m\u001b[0mself\u001b[0m\u001b[0;34m.\u001b[0m\u001b[0msymbol\u001b[0m\u001b[0;34m)\u001b[0m\u001b[0;34m\u001b[0m\u001b[0;34m\u001b[0m\u001b[0m\n\u001b[0;32m--> 681\u001b[0;31m         \u001b[0mjd\u001b[0m \u001b[0;34m=\u001b[0m \u001b[0mself\u001b[0m\u001b[0;34m.\u001b[0m\u001b[0m_parse_url\u001b[0m\u001b[0;34m(\u001b[0m\u001b[0murl\u001b[0m\u001b[0;34m)\u001b[0m\u001b[0;34m\u001b[0m\u001b[0;34m\u001b[0m\u001b[0m\n\u001b[0m\u001b[1;32m    682\u001b[0m \u001b[0;34m\u001b[0m\u001b[0m\n\u001b[1;32m    683\u001b[0m         expiry_dates = [\n",
      "\u001b[0;32m/opt/anaconda3/lib/python3.8/site-packages/pandas_datareader/yahoo/options.py\u001b[0m in \u001b[0;36m_parse_url\u001b[0;34m(self, url)\u001b[0m\n\u001b[1;32m    705\u001b[0m         \u001b[0mA\u001b[0m \u001b[0mJSON\u001b[0m \u001b[0mobject\u001b[0m\u001b[0;34m\u001b[0m\u001b[0;34m\u001b[0m\u001b[0m\n\u001b[1;32m    706\u001b[0m         \"\"\"\n\u001b[0;32m--> 707\u001b[0;31m         \u001b[0mjd\u001b[0m \u001b[0;34m=\u001b[0m \u001b[0mjson\u001b[0m\u001b[0;34m.\u001b[0m\u001b[0mloads\u001b[0m\u001b[0;34m(\u001b[0m\u001b[0mself\u001b[0m\u001b[0;34m.\u001b[0m\u001b[0m_read_url_as_StringIO\u001b[0m\u001b[0;34m(\u001b[0m\u001b[0murl\u001b[0m\u001b[0;34m)\u001b[0m\u001b[0;34m.\u001b[0m\u001b[0mread\u001b[0m\u001b[0;34m(\u001b[0m\u001b[0;34m)\u001b[0m\u001b[0;34m)\u001b[0m\u001b[0;34m\u001b[0m\u001b[0;34m\u001b[0m\u001b[0m\n\u001b[0m\u001b[1;32m    708\u001b[0m         \u001b[0;32mif\u001b[0m \u001b[0mjd\u001b[0m \u001b[0;32mis\u001b[0m \u001b[0;32mNone\u001b[0m\u001b[0;34m:\u001b[0m  \u001b[0;31m# pragma: no cover\u001b[0m\u001b[0;34m\u001b[0m\u001b[0;34m\u001b[0m\u001b[0m\n\u001b[1;32m    709\u001b[0m             raise RemoteDataError(\n",
      "\u001b[0;32m/opt/anaconda3/lib/python3.8/site-packages/pandas_datareader/base.py\u001b[0m in \u001b[0;36m_read_url_as_StringIO\u001b[0;34m(self, url, params)\u001b[0m\n\u001b[1;32m    117\u001b[0m         \u001b[0mOpen\u001b[0m \u001b[0murl\u001b[0m \u001b[0;34m(\u001b[0m\u001b[0;32mand\u001b[0m \u001b[0mretry\u001b[0m\u001b[0;34m)\u001b[0m\u001b[0;34m\u001b[0m\u001b[0;34m\u001b[0m\u001b[0m\n\u001b[1;32m    118\u001b[0m         \"\"\"\n\u001b[0;32m--> 119\u001b[0;31m         \u001b[0mresponse\u001b[0m \u001b[0;34m=\u001b[0m \u001b[0mself\u001b[0m\u001b[0;34m.\u001b[0m\u001b[0m_get_response\u001b[0m\u001b[0;34m(\u001b[0m\u001b[0murl\u001b[0m\u001b[0;34m,\u001b[0m \u001b[0mparams\u001b[0m\u001b[0;34m=\u001b[0m\u001b[0mparams\u001b[0m\u001b[0;34m)\u001b[0m\u001b[0;34m\u001b[0m\u001b[0;34m\u001b[0m\u001b[0m\n\u001b[0m\u001b[1;32m    120\u001b[0m         \u001b[0mtext\u001b[0m \u001b[0;34m=\u001b[0m \u001b[0mself\u001b[0m\u001b[0;34m.\u001b[0m\u001b[0m_sanitize_response\u001b[0m\u001b[0;34m(\u001b[0m\u001b[0mresponse\u001b[0m\u001b[0;34m)\u001b[0m\u001b[0;34m\u001b[0m\u001b[0;34m\u001b[0m\u001b[0m\n\u001b[1;32m    121\u001b[0m         \u001b[0mout\u001b[0m \u001b[0;34m=\u001b[0m \u001b[0mStringIO\u001b[0m\u001b[0;34m(\u001b[0m\u001b[0;34m)\u001b[0m\u001b[0;34m\u001b[0m\u001b[0;34m\u001b[0m\u001b[0m\n",
      "\u001b[0;32m/opt/anaconda3/lib/python3.8/site-packages/pandas_datareader/base.py\u001b[0m in \u001b[0;36m_get_response\u001b[0;34m(self, url, params, headers)\u001b[0m\n\u001b[1;32m    179\u001b[0m             \u001b[0mmsg\u001b[0m \u001b[0;34m+=\u001b[0m \u001b[0;34m\"\\nResponse Text:\\n{0}\"\u001b[0m\u001b[0;34m.\u001b[0m\u001b[0mformat\u001b[0m\u001b[0;34m(\u001b[0m\u001b[0mlast_response_text\u001b[0m\u001b[0;34m)\u001b[0m\u001b[0;34m\u001b[0m\u001b[0;34m\u001b[0m\u001b[0m\n\u001b[1;32m    180\u001b[0m \u001b[0;34m\u001b[0m\u001b[0m\n\u001b[0;32m--> 181\u001b[0;31m         \u001b[0;32mraise\u001b[0m \u001b[0mRemoteDataError\u001b[0m\u001b[0;34m(\u001b[0m\u001b[0mmsg\u001b[0m\u001b[0;34m)\u001b[0m\u001b[0;34m\u001b[0m\u001b[0;34m\u001b[0m\u001b[0m\n\u001b[0m\u001b[1;32m    182\u001b[0m \u001b[0;34m\u001b[0m\u001b[0m\n\u001b[1;32m    183\u001b[0m     \u001b[0;32mdef\u001b[0m \u001b[0m_get_crumb\u001b[0m\u001b[0;34m(\u001b[0m\u001b[0mself\u001b[0m\u001b[0;34m,\u001b[0m \u001b[0;34m*\u001b[0m\u001b[0margs\u001b[0m\u001b[0;34m)\u001b[0m\u001b[0;34m:\u001b[0m\u001b[0;34m\u001b[0m\u001b[0;34m\u001b[0m\u001b[0m\n",
>>>>>>> main
      "\u001b[0;31mRemoteDataError\u001b[0m: Unable to read URL: https://query1.finance.yahoo.com/v7/finance/options/AAPL\nResponse Text:\nb'Forbidden'"
     ]
    }
   ],
   "source": [
    "# solución estudiante 1\n",
    "aapl = web.YahooOptions('AAPL')\n",
    "aapl_opt = aapl.get_all_data().reset_index()\n",
    "aapl_opt.set_index('Expiry')\n"
   ]
  },
  {
   "cell_type": "code",
   "execution_count": null,
   "metadata": {},
   "outputs": [],
   "source": [
    "#Precio del activo subyacente \n",
    "aapl_opt.Underlying_Price[0]"
   ]
  },
  {
   "cell_type": "code",
   "execution_count": null,
   "metadata": {},
   "outputs": [],
   "source": [
    "#Datos de la opción\n",
    "aapl_opt.loc[0]\n",
    "aapl_opt.loc[0, 'JSON']"
   ]
  },
  {
   "cell_type": "code",
   "execution_count": null,
   "metadata": {},
   "outputs": [],
   "source": [
    "#tipos de opciones\n",
    "aapl_opt.loc[:, 'Type']"
   ]
  },
  {
   "cell_type": "code",
   "execution_count": null,
   "metadata": {},
   "outputs": [],
   "source": [
    "#fechas en que expiran\n",
    "pd.set_option('display.max_rows', 10)\n",
    "aapl_opt.loc[:, 'Expiry']"
   ]
  },
  {
   "cell_type": "code",
   "execution_count": null,
   "metadata": {},
   "outputs": [],
   "source": [
    "#Consulta de opciones put \n",
    "fecha1 = '2021-06-18'\n",
    "fecha2 = '2022-09-16'\n",
    "put06_f1 = aapl_opt.loc[(aapl_opt.Expiry== fecha1) & (aapl_opt.Type=='put')]\n",
    "put06_f2 = aapl_opt.loc[(aapl_opt.Expiry== fecha2) & (aapl_opt.Type=='put')]\n",
    "put06_f1"
   ]
  },
  {
   "cell_type": "code",
   "execution_count": null,
   "metadata": {},
   "outputs": [],
   "source": [
    "#Put de la fecha 1\n",
    "ax = put06_f1.set_index('Strike').loc[:, 'IV'].plot(figsize=(8,6))\n",
    "ax.axvline(put06_f1.Underlying_Price.iloc[0], color='g')"
   ]
  },
  {
   "cell_type": "code",
   "execution_count": 11,
   "metadata": {},
   "outputs": [],
   "source": [
    "# Función para descargar precios de cierre ajustados:\n",
    "def get_adj_closes(tickers, start_date=None, end_date=None):\n",
    "    # Fecha inicio por defecto (start_date='2010-01-01') y fecha fin por defecto (end_date=today)\n",
    "    # Descargamos DataFrame con todos los datos\n",
    "    closes = web.DataReader(name=tickers, data_source='yahoo', start=start_date, end=end_date)\n",
    "    # Solo necesitamos los precios ajustados en el cierre\n",
    "    closes = closes['Adj Close']\n",
    "    # Se ordenan los índices de manera ascendente\n",
    "    closes.sort_index(inplace=True)\n",
    "    return closes"
   ]
  },
  {
   "cell_type": "code",
   "execution_count": 12,
   "metadata": {},
   "outputs": [
    {
     "data": {
      "image/png": "iVBORw0KGgoAAAANSUhEUgAAAeYAAAEtCAYAAADdvMO4AAAAOXRFWHRTb2Z0d2FyZQBNYXRwbG90bGliIHZlcnNpb24zLjMuNCwgaHR0cHM6Ly9tYXRwbG90bGliLm9yZy8QVMy6AAAACXBIWXMAAAsTAAALEwEAmpwYAABE5UlEQVR4nO3dd3zdZd3/8dcnezdtko403YMu2kJDmWUVAdmI8AMVUBBQWbcDBdRbRFBUROFGBBRkCEX23qtAC4WW7t3SlTZt0jZ7J+f6/XFOTs/JaNZJzkn6fj4ePHLO9V3XuRryOdc25xwiIiISGaLCnQERERHZR4FZREQkgigwi4iIRBAFZhERkQiiwCwiIhJBFJhFREQiSEy4MwCQmZnpRo4cGe5siIiI9JhFixbtds5lNU2PiMA8cuRIFi5cGO5siIiI9Bgz29JSupqyRUREIogCs4iISARRYBYREYkgEdHH3JK6ujry8vKorq4Od1Z6TEJCAjk5OcTGxoY7KyIiEiYRG5jz8vJITU1l5MiRmFm4s9PtnHPs2bOHvLw8Ro0aFe7siIhImERsU3Z1dTUZGRkHRFAGMDMyMjIOqBYCERFpLmIDM3DABOVGB9rnFRGR5iI6MEeCF154ATNjzZo1QemLFy/GzHjrrbeC0qOjo5k+fTpTpkzh/PPPp7KyEoCUlJQey7OIiIROTX0D1XUNPfY8BeY2zJkzh2OOOYannnqqxfQ5c+YEpScmJrJkyRJWrFhBXFwc999/f09mV0REQuyT9buZ8Os3WbqtuEeep8C8H+Xl5cybN4+HHnooKDA753j22Wd55JFHePvtt1vtF541axYbNmzoqeyKiEg32F5cBcCQfgk98ryIHZUd6LevrGTVjtKQ3nNSdhq/OXPyfs958cUXOfXUUxk/fjwDBgzgyy+/5NBDD2XevHmMGjWKMWPGcPzxx/P666/zjW98I+ja+vp63njjDU499dSQ5ltERHrW9qIq4qKjyEyJ75Hnqca8H3PmzOHCCy8E4MILL/Q3W7eWDlBVVcX06dPJzc1l+PDhXH755T2fcRERCZm84iqy0xOIiuqZAbrmnNv/CWYPA2cABc65KQHp1wLXAPXAa865n/vSbwIuBxqA65xzbzW/a7Dc3FzXdBOL1atXM3HixI59mhDas2cPOTk5DBw4EDOjoaEBM2PTpk0MHTqU2NhYoqOj/fOP8/PzSU1NJSUlhfLy8mb3ay29qXB/bhERCXbO3+eRHB/NE98/IqT3NbNFzrncpuntqTE/AgS1x5rZCcDZwFTn3GTgTl/6JOBCYLLvmvvMLLprWQ+PZ599lksuuYQtW7awefNmtm3bxqhRo7jtttuYNm0a27ZtY/PmzWzZsoXzzjuPF198MdxZFhGRbrC9uIqh6Yk99rw2A7Nz7iNgb5PkHwJ3OOdqfOcU+NLPBp5yztU45zYBG4CZIcxvj5kzZw7nnntuUNp5553HZ5991mL6k08+ud/7VVZWkpOT4//vrrvuCnmeRUQktDweR2FZDYPTembgF3R+8Nd4YJaZ3Q5UAz9zzn0BDAU+Czgvz5fWjJldCVwJMHz48E5mo/t8+OGHzdKuu+46rrvuumbpZ511FmeddRZAq83VHo8npPkTEZHuV+Wbv5wc33NjpTs7+CsG6A8cAdwAPG3eZata6hlvsRPbOfegcy7XOZeblZXVyWyIiIh0n8bAnBjXc72ynQ3MecDzzutzwANk+tKHBZyXA+zoWhZFRETCo6rWG5gTYiM/ML8InAhgZuOBOGA38DJwoZnFm9koYBzweQjyKSIi0uMal+JM6sEac5uN5mY2BzgeyDSzPOA3wMPAw2a2AqgFLnXeeVcrzexpYBXeaVRXO+c6vcCoc+6A2tihralrIiLSs/xN2T1YY24zMDvnLmrl0HdaOf924PauZAogISGBPXv2HDBbPzbOh05I6LmRfyIifd3cdYWsyS/lquPGdOr6xqbsiArM4ZKTk0NeXh6FhYXhzkqPSUhIICcnJ9zZEBHpMy592Nub2tnAXOmrMSdEUlN2uMTGxjJq1KhwZ0NERHqpuoZ901TLqutITYjt8D2qw1Bj1lrZIiLSJwVufrSzpOVdANsSjj5mBWYREemTFm4p8r/O72pg7gXzmEVERCLamvx9NeY9FTWdukdvmscsIiISseauK+SZRXkMTPXuoVxb37llkStqfEtyqsYsIiLSebe8vBLYtzBIewKzc46RN77GfR9u8KeVVdeRGBtNTHTPhUsFZhER6XNKq+oAGD8oFYCadgTmxnP+9OZaPlxbgHOO8pp6UhN6dgKTArOIiPQJn321h8c/2wLAwTn9ALjlrMkA1Da0HZgb+5MBvvvvLzjs9ncprqwjpYcDc8TOYxYREemICx/07jr87ZnDKauu56gxGQzy7aPcnqbsxhHYjXaX1/Lmyp0cMXpA6DO7H6oxi4hIrxe418A7q3exJr+UrNR4oqOM6CijrLq+zXtU17W8tcO4gakhy2d7KDCLiEivUd9Kk3ReUZX/9VWPL6KitoGsFO+I7AaP46FPNjFvw+5W73vrK6s48S9z/e+PGpPhf/2zUw7qarY7RIFZRER6haKKWsb+8g0e/3Qz76zaxcUPLfDXct9aubPZ+Zm+qVKNvv2vBS3et77Bw8PzNgWljcpM9r/ul9jxpTy7Qn3MIiLSKzQuEnLba6v9I6jziqoYOzCFHcXNV/ZqrDE/98MjOe8fn7Z636LKOv/r5LhoHrt8JsP6J/HEgq3ERPX87oYKzCIi0itU13mDceDUp8KyGjJT4qisbd6H3Dia+tDh/Yky8DioqW8gPiZ4sZAS39Squy+cztnThwLePuuLjxhB7sj+3fJZ9keBWUREeoWWBmf96IlFFFXWcfDQfsHpx4/hxAkDATAz/veMSdzyyipufn4FozKTuObEcf5zS6u9gTktYPcpM+N350zpjo/RJgVmERHpFZpOZ4J9zdDLt5f402aOHMDPT50QdF5yvDfcPfdlHgA/OG6MfzWvglJvE3l6Us/2JbdGg79ERKRXqKxteTpToF+dPpEHL5nRLL3pAK6lefsC+aIte4mLiWLikLSuZzIEVGMWEZGIV13XwN/eXd/isRMnDGRAchynTh7MSZMGtXjOsAFJQe+XbCtmxghv//GCTXuZPiy9R3eQ2h8FZhERiXi/f301qwO2cWw0YXAqfzxvKllNpkY1NbxJYK6o8Q4Wq2/wsGpHKVccOzp0me0iBWYREYl4j326Jej9mKxkXrn2GOKio9q181NjH3Ojxv7q/JJq6j2OkRlJLV0WFupjFhGRXuOxy2YC3ilOSXExnd6OcVdpNbe8vJILHvDObx6YmhCyPHaVaswiIhJk0Za9LN1WwmXHjAp3Vppp3Maxce5xR5w8aRBvr9oFwPNfbg861rRGHU5tftUws4fNrMDMVrRw7Gdm5swsMyDtJjPbYGZrzeyUUGdYRES613n/+JRbX13V6rrU4TAwNZ6LZg5joK8v+bjxAzt8j398ZwZrbzu1xWNJcZEx8AvaV2N+BLgXeCww0cyGAV8DtgakTQIuBCYD2cC7ZjbeOdf2GHcREYko+SXVzUYzh0NpdR17KmrJSk0gKsqYf+OJDEiO6/B9vDtNtRyAe1WN2Tn3EbC3hUN/BX4OuIC0s4GnnHM1zrlNwAZgZigyKiIi3S9w3+L2bJXYEz7duIcGj+No345P2emJXZratOrWfY25jWthp0RQYO5UTszsLGC7c26pWdAC30OBzwLe5/nSRESkFygo27cZRE19ZDR2fry+kOS4aA4ZHpp1q5Pi9oW+/151BGXV9W1Ot+pJHQ7MZpYE/BI4uaXDLaS5FtIwsyuBKwGGDx/e0WyIiEg3yC/ZF5gDa8/h9MWmIg4bNYC4mNBNJGrc1GJIv0RmjEgM2X1DoTOfcgwwClhqZpuBHOBLMxuMt4Y8LODcHGBHSzdxzj3onMt1zuVmZWV1IhsiIhJqQYE5QgZ/FVXWMjgttNOZTjt4CBA562MH6nBgds4td84NdM6NdM6NxBuMD3XO7QReBi40s3gzGwWMAz4PaY5FRKTb7IrAGnNFTX3IB2fdef403vvpcUHN2pGiPdOl5gCfAgeZWZ6ZXd7auc65lcDTwCrgTeBqjcgWEek9ymr2DfiKhMDs8TgqahtCPjgrITaaMVkpIb1nqLT5SZ1zF7VxfGST97cDt3ctWyIiEg41AVsrFlXW8VVhOaPDGMAa90qOpFHT3e3A+aQiIhKkuLKWfomxBM6uCdzz+OYXlgNw9vRs7r7wkB7PH8C8DXsAmDK0X1ieHw5aK1tE5AC0flcZ0299h2cW5QWlV9c1+Of2NnppyQ6q68LTK7liRwlx0VHkjgzNVKneQIFZROQAtMq3heIHawqC0qvqPKQlNh+p/Pry/B7JV1O7SqvJSo0ntpObVfRGB84nFRERv4oabw24acCrqm2gXwuB+SdPL+3Uc5blFTN/w25W7ijp1Nrbu8tryUzp+PKbvZn6mEVEDkD5JVWAd/3oQDX1DaQlBIeGY8Zm8smG3WzbW9nutbMbPI4xN78elHb97HH8+Gvj23W9c44XFm/ns417OH3qkHZd01eoxiwiEkH++OYalm4r7vbnbC/yBua9FbVB6VW1Dc3mDP/6jEkAfPrVnnbfv+l9AT5cW9DCmS3bureSnzy9lNoGD0eOzmj3dX2BArOISISob/Dwjw83cvbf53X7s7YXewPzzoAFRQCq6xuCNoi46tjRjB+UQkZyHJ9tbH9gfmVp80Ufl20vaTFgt2R3eY3/9ZFjFJhFRCQMenIJzMbAvGVvBc7t29KgqraBxIDA/ItTJ2BmjBmYQp7vmva49dVVzdKcgysfWxj0vNbsLvcG8J+dPD4itp7sSQrMIiIRoqdW2tpTXkNeURVpCTFU13l4ZmEeT3+xDYDqOk9QjTnK1wedlhDb7m0g97cr1cItRdQ17D8wb9pdwVWPLwLg4iNHtuuZfYkGf4mIRIieCsyNTeWzxmXx2vJ8fv7cMgAuOGwY1XUNJMRGcdjI/hw8NN1/TVpCDGt8q3C1pXHEN8AVs0aRnhRHZkocv3jOu2BJTX3DfneKei5gbnVLI8T7OgVmEZEIUdNDgTnPN/Brxoj+vBYwP/mnTy+lqs7blP3MD44KuiYtMZaSqvYF5vKAmvWPjh9L/+Q4nHM8vTCPRVuKWJ5XwlFjM1u9/t4PNnTk4/Q5asoWEYkQPdXHfOa0bAAuPnJEUPpzX+ZRWdtAYlx0s2uyUuMpq673T7Pan7IabwC//zuH0j/ZOwfZzDh/Rg4A3/rXglavDWwGf/Hqo9t8Vl+kwCwiEiF6qik7ymBkRlKrq2kF9jE3yk737of85IKtbd6/sWbdLzF4YZD42H3PK6lsufbdOI0LYPqw9Daf1RcpMIuIRIieCMxl1XXkFVX5g++wAYnNzmkpMJ851VvLbk+tvtQfmIP7h+Oi9913697KFq/d5gvMT191ZJvP6asUmEVEIkRlbfdvFHHCnXNZtKXI31z91wumNzsnsYXAHBMdxbABiexqMu+5Jf4ac1JwYI6J3rfK2LaiVgKzL2C39IXhQKHALCISIQrKvEEvqYU+3lCormvwL9wxIGlf3y9AXECzdkJsy6FhSFoi+SXVTP7fN/l/D3za6nOKK1uuMacGrCj2oye+5NcvruDe99f7gzHAy0u8C5MMSk1o9+fqaxSYRUQiREGpN2hmdNOmDY33h+araQVuFHF4K0tgDu6XwM7SaipqG1iwaW+rzympqiMmykhu8gXjyDEZvHzN0f7A//hnW7jz7XXM+tMH5BVVsmpHKZ9v9t43qska3gcSTZcSEYkAtfUeXl3mrS0mxXbPn+bA/uHDRg4A8O+9PDIzmSNGZ/DN3ByGprfcjDykXwJvrmy7Kbu4qo5+ibH+2ngjM2NqTjr9k+LIb9Ikvjq/jGcXbevQ5+mrFJhFRCLADc8uZWleCQAN7ViysjPqPd7AfNz4LKbm9ANgak4/fnzSeC6aOYyBaftvPh42IKnZALWSyjo+3lDIGb7BYQBLtxUzPKP1ZTRT4puHng/XFvDWyl0A3H3h9HZ9nr5KTdkiImHmnOOlJfs2fWjwdE9grqv33vfiI0b4a7NmxvUnjWszKMO+kdmBfv3SCq55cjFrdpYCUFlbz+r8Uo4dl9XqfTwtfPF4wjcN67HLZnL29KFtf5g+TIFZRCTMvtpdEfS+OwJzSWUdO0u9zcex+1kOc3+ajrIG2OW7Z95e7zSn1flleBxMGdqv1fsEfrwrZo0Kmq88pN+BO+irkZqyRUTC7ON1hUHv2wrMt7y8ko2F5Tx++eHtfsa0W9/2v46NDs3AKo/H+futK2q9y3Cu3OFtjp+cndbqdXW+a1699hgmZ6eRX1LNUXe8D9BsL+gDkWrMIiJhtru8lpgoY/Mdp3NBbk6bgfmR+Zv5eP3udt9/T8DexhA8NaorKusaKCzz3vv6p5bw6rIdrNxeyoDkuP3WfBs/X+MAsez0RP7vokPolxjbbSPSexMFZhGRMKtr8PgX34iOigrp4K+dJdXMuO3doLSYEAXm8up6dgaMrr7xueWsyi9l0pC0ZiOyA5128BAA0gOaxs+cls3S35xMfEz3zOHuTdr81zGzh82swMxWBKT92czWmNkyM3vBzNIDjt1kZhvMbK2ZndJN+RYR6TNqGzz+daujo0Lbx7w0r7hZWqiasueuK6C+SV7XF5QxblDKfq+7+bSJLPrVSaQmHHhbOrZHe742PQKc2iTtHWCKc24qsA64CcDMJgEXApN919xnZvr6IyKyH3UNHn/zcrRZuwOza0fNurqu+TKfLS252RmN+ys3Kq+pp7rOw6A2RnhHRxkZKfEhyUNf1GYvu3PuIzMb2STt7YC3nwHf9L0+G3jKOVcDbDKzDcBMoPW120REDnB19S5op6f27nucV1TFsAGtzxcGqPKtv/3adcewo7iaugYPozKTO53XhNgoquv2v5FFXQ/tktVXhaKj4TLgDd/roUDg0i15vrRmzOxKM1toZgsLCwtbOkVE5IBQ1+AhNsbbvNy4kcXanWUtnusJqE2/vjy/xXPeXJHPS0u2A1DlqzFn90vka5MGcdrBQ/bb/9uWV645hl+dPnG/59QoMHdJlwKzmf0SqAeeaExq4bQW21qccw8653Kdc7lZWa1PRBcR6esC+5jPmu5dxKNxtHNT5b5pSQA7iquaHV+dX8oP/vMl1z+1BMBfu00M0cYY4wal8p0jRgSlHT7Ku7xn42CuQ0ekh+RZB6pOTxgzs0uBM4DZbl9HRx4wLOC0HGBH02tFRGSfugYPsVHewDzQt6tScVVti+eWV+8LzHsq9p3jnGPtrjK+fvfH/rTaeo+/xhzfyUVFWpIQG82scZl8vH43t50zJShQ7ymvUf9xF3XqX8rMTgV+AZzlnAvcVPNl4EIzizezUcA44POuZ1NEpO+qa3D+puzGWmdr/cxlAYG5IKBWvXZXGaf+7eOgcx/6ZBMFpdUMSI7rUvN1SxrXu45rEvAVlLuuPdOl5uAdvHWQmeWZ2eXAvUAq8I6ZLTGz+wGccyuBp4FVwJvA1c657t/5W0SkF6sLaMpu3MO4cU/jpsprvOmZKfFB+xgHnt+43eIf31zD2l1ljG9j+lJnNAZmTzet630gazMwO+cucs4Ncc7FOudynHMPOefGOueGOeem+/77QcD5tzvnxjjnDnLOvbG/e4uICFTU1JMc5w10CbHRxMdE8c+Pv2pxqlOpr8Y8Zah3KcsnFmwBgqdFfevw4QCcOGEg63aWcdCg1JDnOSXBm9/ymvo2zpSO0spfIiJhVl5TT2rCviE/NfUeiivr+Mvba/1pdQ0e/vjmGpb7toacku3dJOKXL6xg4ea9QVOYYqKjOG58Fou3FlFR28D4waEPzKm+GnNg07qEhgKziEiYlVfXt7hH8a7SfX3Iry7bwT8+3Mhd76wDvDXmRt+8/1NeXrrd/z6/uIrs9ESKfM3bM0cOCHmez5uRQ0p8DGdPb74VpHSNArOISBhV1Tawq6zG3zQc6OWlO5jr23lqd1nwKO3pw/oHvV+x3bsf8oTBqXz36FEMTfeO7j5oUCrjuqEpe0RGMit+ewqjs0Lff32gU2AWEQmTXaXVHP3H92nwOP9c4KaufuJLAO55f31Q+uB+Cfz7u4f532/1DQR7/PLDmT4snez0RKD5qGmJfPoXExEJk8++2sNe31zkwBpw4FrW5TX1OOda7Ms9ckwGhwxPD0qLj/X+WW9crzoqKrTTpKT7KTCLiITBEwu28IlvT+UHLp7B4ID9i1ObNGs3XQWssRacEBvNn785LehYgm/bxJz+3hrz8eO1smJv0+mVv0REpPN++YJ/J12OGpMRdCwpYPnM9KRYNhSUBx1PC9guMXBFL7N9WzqOyEjm/Z8ex4iMzm9YIeGhGrOISJg1zmFudPLkwf7XsdFRbCz0BuYh/RJIjY/hySsO9x8P7ENOiIkOWuFrdFYK0WrK7nVUYxYR6WFNV8tq2g/8i1Mn8OBHXwFQUlnHr19aCcD8G09strRm4HaRjf3L0rvpX1FEpIdV1+9/peLoKOO/Vx7BocPTqW3Yt3BIS+tdRwekhXKjCgkf/SuKiPSwwFW6WnP46AxOCWjSbk3g/OeE2NBs7SjhpcAsItLDqlpYA7slSS2sBtZUdJTxjUOGAsHTrKT3UmAWEelhmwor2nVeSnz7Am2MbyT2gOS4TudJIocGf4mI9LClecUAXHPCWDJSWg+mSXHt+xPdOABMgblvUGAWEelh63eVkd0vgZ+dctB+z2tpY4uWnHvIULYVVXHG1CGhyJ6EmQKziEgPW7ervF0bSwQuNLI/uSMH8NhlM7uaLYkQ6mMWEelBDR7HxsJyxg1se1emwNnOwwckdV+mJKKoxiwi0oPyiiqpqfcwvh015vGDUhmRkcS5hwzlO0eM6IHcSSRQYBYR6UFb9ni3ZxyR0XYNOCU+hrk3nNDdWZIIo6ZsEZEeVOdbyUuLgUhrFJhFRHpQg2+dbG0uIa1RYBYR6UEKzNIWBWYRkR7U4LyBOUaBWVqhwCwi0oMaa8xNt3oUadRmYDazh82swMxWBKQNMLN3zGy972f/gGM3mdkGM1trZqd0V8ZFRHqj+gbVmGX/2lNjfgQ4tUnajcB7zrlxwHu+95jZJOBCYLLvmvvMTEMPRUR8Gpuyo1rYW1kE2hGYnXMfAXubJJ8NPOp7/ShwTkD6U865GufcJmADoHXiRER8GpuyG3eEEmmqs33Mg5xz+QC+nwN96UOBbQHn5fnSmjGzK81soZktLCws7GQ2RER6F43KlraEevBXS79proU0nHMPOudynXO5WVlZIc6GiEhk8gdmNWVLKzobmHeZ2RAA388CX3oeMCzgvBxgR+ezJyLSt/ibsqM0KUZa1tnfjJeBS32vLwVeCki/0MzizWwUMA74vGtZFBHp/d5bvYt5G3YHTJcKc4YkYrW5iYWZzQGOBzLNLA/4DXAH8LSZXQ5sBc4HcM6tNLOngVVAPXC1c66hm/IuItIrvLRkO9c/tQSAX5w6AVCNWVrXZmB2zl3UyqHZrZx/O3B7VzIlItJXVNc1+IMyQElVHaAas7ROvxoiIt2ocZvHRhsKygDVmKV1+s0QEekmNfUN/PSZJUFplbXe3j3NlpLWKDCLiHSTl5fsYMX2UgB+fupBAOSXVDMgOQ7TdClpRZt9zCIi0jnrdnmbrW85cxLThqUDsGl3BQmxqhNJ6/TbISLSTUqr6hmUFs93jx5FQuy+bQOq6zxhzJVEOtWYRUS6yX8X7luhOD5G9SBpH/2miIh0g4LS6qD38QE15gsPG9b0dBE/BWYRkW6wcEsRAP/+7mEAZKXEA/CNQ4fy+3MPDlu+JPKpKVtEJITuemcduSP68/mmvcTHRHH02EwA4mKiWPnbU4iLiSJKc6VkPxSYRURC6J731vtfT83pR1xA33JyvP7kStvUlC0iEiJVtcFbA1wxa3SYciK9mQKziEiIFFXW+l+nxsdw5rTsMOZGeisFZhGRENm6d9+62KOzksOYE+nN1OEhItJFu8trSIyNZnV+qT9tVKYCs3SOArOISBfl3vZu0PvMlHh+dMLYMOVGejsFZhGREFv4q5PCnQXpxdTHLCLSBR6PC3r/+nWzwpQT6SsUmEVEuqC8tt7/esLgVCZlp4UxN9IXKDCLiHRBWfW+wJyREhfGnEhfocAsItIFZdV1/tenHTwkjDmRvkKBWUSkC8oDasxnaUERCQEFZhGRLghsyk5NiA1jTqSvUGAWEemCxz/bQkyUseDm2eHOivQRXQrMZvZjM1tpZivMbI6ZJZjZADN7x8zW+372D1VmRUQiSWVtPe+vKeCKY0czKC0h3NmRPqLTgdnMhgLXAbnOuSlANHAhcCPwnnNuHPCe772ISI96ZekONhaWd+szSqq8A7+G9U/q1ufIgaWrTdkxQKKZxQBJwA7gbOBR3/FHgXO6+AwRkXapqW+grsHD68vzuXbOYmb/ZS419Q1tX9hJd7yxBoD4GPUKSuh0eklO59x2M7sT2ApUAW875942s0HOuXzfOflmNrCl683sSuBKgOHDh3c2GyIiAOytqGXGbe/gghfi4qBfvclHN5zA8IzQ1mqdc7y0ZAcA9R5PSO8tB7auNGX3x1s7HgVkA8lm9p32Xu+ce9A5l+ucy83KyupsNkREAMgrqmwWlBstySsO2XPeWbWL2X/5kLvfWw/AlKFpnHtITsjuL9KVTSxOAjY55woBzOx54Chgl5kN8dWWhwAFIciniEgzNfUN3PLyKl5ZuoPymvpWzyuprA3ZM694bCEAf3t3PQmxUTxz1VHEqSlbQqgrgXkrcISZJeFtyp4NLAQqgEuBO3w/X+pqJkVEWjLz9vf8A7ACnTRxIP+69DDKqus4+Ja32VvR/JyO+p+nFrOnYl+AnzUuk/85aTyJcdFdvrdIoK70MS8ws2eBL4F6YDHwIJACPG1ml+MN3ueHIqMiIoHKa+r9QXn6sHSWbCv2H0uJ9/5pS02IJTUhhr0VNV1+1ou+/mSAmCjj8csP79I9RVrTpfYX59xvnHMTnHNTnHMXO+dqnHN7nHOznXPjfD/3hiqzIiKNPt+0x//6ZycfFHQscAWuganx7CrtWmD+aF1h8LN/qf2WpfuoY0REeqUXF3trsFcdN5rDRw8IOpYUv695OTs9kfySqi49a3tR8PUDkrWLlHSfrvQxi4iEzZa9lcwal8lNX58IwJv/M4tP1u9me3EVZ08b6j8vu18ia3aWdelZeytriTK4/JhRfHPGsC7dS6QtCswi0isVlFYzbmCm//2EwWlMGJzW7Lwh6QnsLq+hvKae37++mv85aRwDUzu2fObushoyU+L55emTupxvkbaoKVtEepW6Bg/PLNxGfkk1A1Pj2zw/u18izsGj8zfz5IKt3Pbq6g4/c11BOWMHpnQmuyIdpsAsIr3Ko/M3c8OzywCo97SyokiA7PREAP781lqADi/R6ZxjY0E54weldjCnIp2jwCwivUp+SbX/9QW5bff3Nh2o1dCOYB4or6iK8pp6RmUmd+g6kc5SH7OI9Cr5JVUkx0Wz/JZTiIqyNs9PTQj+M1fX0P7AvHJHCaff8wkAo7MUmKVnqMYsIr3Giu0lfLx+NydOHNSuoAz7Fhtp1JGpUyu3l/pfTx+W3u7rRLpCgVlEeo0f/GcRZdX1XDlrdLuvSWlSY66s3X8f8/K8Eub6FhSJjfEG//Sk2KBFS0S6kwKziPQKBaXV5BVVcfUJYzg4p1+7r4uNDv4zl1dUxRvL81s9/8x7P+HShz9ne3EVJZXeJT/fuH5W5zIt0gkKzCLSKzyzKA+A4w9qcYv3/Tpp4qCg9z984ss2r/nnR19xyyurAMhKaXtalkioKDCLSMR7ddkO/vzWWg4e2o/cEf07fH3jFKmMDiyl+cj8zf7XMdH6Uyk9R79tIhLRVmwv4ZonFwNw8ZEjMGvfoK9AVb5+5REZSf60LXsqWjw3pp2DykS6iwKziES057/cDsCvTp/INw/N6dQ9qn015pEZ+6Y8/eyZpc3Oq2vwNFu05NkfHNmpZ4p0lgKziES0D9YWMHvCQL4/a3S7p0g11T/J24Q9IiAw19R7mp1XVl0P7Jv7HBNl5I4c0Ow8ke6kwCwiESm/pIq7313P5j0VTMpuvjlFR9x69hR++rXxzBq/b9OLmrrmgfk132jtxjnLPzphbJeeK9IZWvlLRCKCx+OorGugvsHD/I17eH9NAc/6RmIfOTqjS/celZnMtbPHsXVPpT+ttiE4MDvneHT+Zg4e2o9jx2Xx8frdpCXoT6T0PP3WiUjYVdc1cPFDC1izs8zfnBzoiC4G5kb9EvctElLbpCn7q90VbCgo57ZzpnB+bg51Hg8XHzkiJM8V6QgFZhEJuwm/frPVY29cP6vTfctN9UvaF5ir6oJXAHtr5U4AJg5JJT4mmh8dr2ZsCQ/1MYtIWH2wtqBZ2g+OGwN4a7gTh3Stf7mpY8dnAVBRE1wz/9Ob3m0hM5K1mIiEl2rMIhI2tfUefvzfJWSmxPHoZTOpb3AUV9UxOjOZ++du5JixmW3fpIMa69419R72lNcw+665PPq9mf7jmakKzBJeCswiEhbVdQ1c+OBnFFfWcc9FhzA5O3j960e+dxiHjwpN33KgwPVJPvtqL8WVdZz993kMSovnoMFpzXajEulpasoWkbB4fXk+S7YVc+ToDI4/KKvZ8eMPGkhiXHS35iGwOXtXaQ2jM7XnsoSfvhqKSFjsKPbui/zv7x1GQmz3BuDW3PP++qD3jQuRiIRTl2rMZpZuZs+a2RozW21mR5rZADN7x8zW+352fMV5EenT9pTXcOfb64iPierxoBwfs+/PXl5RVdCxASkKzBJ+XW3Kvht40zk3AZgGrAZuBN5zzo0D3vO9FxHxO+veeUDLy2J2t9vOObjVYwNUY5YI0OnAbGZpwLHAQwDOuVrnXDFwNvCo77RHgXO6lkUR6Uv2lNewvbiq7RO7SVZqPEP6JbR4LD1gnrNIuHSlxjwaKAT+bWaLzexfZpYMDHLO5QP4fra4q7mZXWlmC81sYWFhYReyISK9yZzPt/pfnzxpUFjyELii1/hBKf7XGpEtkaArv4UxwKHAtc65BWZ2Nx1otnbOPQg8CJCbm+vaOF1E+oDaeg93vr0OgPk3nhi2wVY/PG4Mi7cW886qXcTFRPH3bx3K4q1FTPNtXiESTl0JzHlAnnNuge/9s3gD8y4zG+KcyzezIUDzZX1E5IDinOOZhXksySsG4KpjR5Odnhi2/JgZib5BZ7HRUZw+dQinTx0StvyIBOp0YHbO7TSzbWZ2kHNuLTAbWOX771LgDt/Pl0KSUxHptdbtKufnzy0DvKOif3HqhDDniKDALBJJutqhci3whJnFAV8B38Pbb/20mV0ObAXO7+IzRKSX21VaDcCEwancfu6UkG1K0RUJsd6AHDh9SiQSdCkwO+eWALktHJrdlfuKhNsXm/cybmAK6Zo+ExKNgfn+78xgZISsrpXsG+hV36AhLhJZ9FVRpImiilrOv/9Trp2zONxZ6RP+9fFX3PCstxk7p3/4+pWbOmacd4OMT7/aE+aciARTYJYD0rpdZZx73zwuffhz6ho8lFbX+Y8t2LQXgI/X72ZjYXm4stgrzV1XyI7iKmrqvXsdv79mF7e9ttp/PCaC+nMbN8jQSGyJNJq0JwekB+Z+xeKtxQCcdvfHrC8oZ+PvTyO/pIqbnl/mP2/2X+ay+Y7Tw5TL3qXB47j04c/97//93cO47JGF/vf3ffvQcGSrVdFRxoKbZ3f7RhkiHRU5X19FetDibUVk+tZFXl/grRWv2VnKLS+vpKiyLmjhi/s+3MCHawv47SsrKaqo5ZmF28KS50hXXFkb9P57j3zhf3302AxOOzjypiMNSksgLUGrfUlkUY1ZDjgllXV8VVjBtSeO5f/e3+BPP/2eT/yv//7tQ/nmP+azNK+EP7251p/+3y+2UVnbwBGjMxg2IKlH8x3p9lbUtpjePymWm0+b2MO5Eem9FJjlgPHasny2FVWS7Gu6PGZsJtuLqnh+8fag87571Ehio6M4amwmS/NKgo5V1nr7Tus9GskL3oVDzIy6Bg/PLMoD4IUfHYWZsSyvmDOmZjMgWSPbRTpCgVkOGD9/dikVvsA6c9QAckcOYNqwdHJHDiAzJY6fPr2UK48dzbWzxwHg9hN7q3z3iVTOl3mz0MwXfnnpDp7/Mo9HvjfTn3bxQwvIL6nm3Z8cxxsrdvLgR19x0KBUJmf3Iy4miukaVCXSKQrMckBwzhHlC1LnTM/mtnMPJjrKiI6K5luHDwdg+W8HB13zjUOHcv/cjdz/nRmkxMfwnYcW+I9V1UVuYK6t9zD+V28wbVg6L119dJfu5Zxj855KrvNNHSurrmNHcTVzPt/Kx+t3A95NKZ5c4N2Y4qVrjiZOC3aIdIkCs/R5zjk2FlZQVlPPLWdO4rtHj2rXdeMHpQaNyF52y8lMveVtAP73pRXcfu7BEVcrXLKtmK98U7yWbitm4ea95I4c0On7PbMwz7+UJkBeURVfv/vjoHNuen65/3VCrEY4i3SVArP0aXe+tZZ7P/AO8EqNj+HECZ3fZjAtIZaXrzmas+6dx8odpZzz93kRNZWqsKyGc/4+Lyht0ZaiDgXmj9cXEmXGyMxkjr7jfX/64LQEdpZWk1fU+j7Kx43P6nimRaQZBWbps3aWVPuDMsBTVx3B8IyujaTO6R+ZI7E3FJRx4YMLmqW/tjyfq44b0657FJRVc/FDnzdLv2jmcG445SAO/d07XPHYvnnJ/RJjKanyLswy78YT6ZeoaUcioaDALH3W7vIaAG47ZwrnHZoTkoUkmo4wrqip96+5HA7FlbVc9sgXZKXGs7u8hr+cP42fPrMU8G7OsG5XGR6P2++mEfM3eFc4+/VLK4PSZ43LZNPuCn568ngGJMfRPymWosp9K6Q98f3D2ba3klMmD46ITSlE+goFZumzSn21ubEDU0K6utP/nDSOv727HoCNheVMzUkP2b076ponF/OlbwWzoemJnDcjh+z0RP7z2RaOPyiLG55dxrqCMiYMTmvx+i827+Vb/9pX085Kjeeyo0fhcY4fHT8maFR3dnoiRZV1nDp5MLedO4XMlHimDO3XrZ9P5ECkwCx9VrEvMIe6ifX62eP4+pQhnPK3j9hQ0LOBeWdJNVv3VjJz1AA+Wb+bTzbsJjU+hu8dPZLjDhoIwJFjMjhyTAYbfCuardhe2mJgfnrhNv77RfAqZk9deQRjslL2m4dzDskmMyU+RJ9IRJpSYJZeo7ymnuS46HbNzZ2/YTfLfIuDhDowmxmjs5KJiTLu/WADR47JYEi/ntk16bx/zGd7cRVf/f407npnLYPS4nn3J8eR2sKykiMykoiOMtYXlDU7VlRRy899Oz7FxUTx+GUzqfe4/QblCYPTWLmjlNFtBG4R6RoFZukVVu4o4dz75jNpSBq/PmMiM0Y0H2nc4HFU1tbz/poCrn9qiT+9OwYlxUZHMTA1nq8KK/j+owt57bpZIX9GS7YXe0dFP/dlHsvySrji2NEtBuXGPGamxPHA3K+Ij4nmJ18b7z/2+9e9Oz4dMjyd3541uV21/lvPnszJkwcxflBq1z+IiLRKgVkiinOOJduKmZqTTrRvQFF5TT3XzllMbb2HJduKOe8fn/L6dbOYlL2vefaFxXn8+L9LW7xnUjftHtS4KufKHaXdcv+mCsqq/a9veHYZQ9MT+dbM4fu9pqy6HoB73lvPWdOGMHagN6h+smE3Z0/P5u4LD2n385PjYzhl8uC2TxSRLlFgloiycEsR59//aYvH7rpgGl9s3sucz7dx2j0f8/HPT2BIvwTun7uRO99e5z8vKS6aP31zKv+et5nhA5JCtixlU/0SY9lZ6g2WjaOzG9eO7g6XNJnK9JcLprW5kcbYgSn+Jv2T7vqIzXecTn2Dh12l1YzQJhwiEUmBWSLKa8vym6VlpsSxt6KWr00axDcOzWFkRjJ/eGMNs/70QdB5hwxP5y/nT/P3gZ4xNbtb8/rAxTO4ds5ilm8vYWNhOf2T4pj1pw946NJcZk/s/EImLckrqmTNzjKOHJ3BXy6Yxq7Sag4Z3r/N6/55SS6ffbXH37RfU9/AV4UVeBzqKxaJUArM0q3amkMb6OmF23hk/mYumjmM83OHUVZdz7HjMgEoq6n396V+f9Zonliwla17K/3XJsZG8/wPj+q22mpLRmYm8+szJnHBA59SWFbDD//zJQDvrNoV8sD8qu8Ly2/Pnkx2eiLZ6e0bbDYoLYGzpw/l7VW7eG1ZPl9sKmJ7sbfcpuZoqpNIJFJglm5RU9/ADx5fRFl1Pc/84Mh2j6QenJbArWdPITY6eCOEwM3so6OMuTcczw/+s4iaeg+/On0Sg9LiezQoN2ocWPb84u3+gVkD0xJC/pxXlu7gkOHpnR54ddPXJ/De6l3+jTjioqMYmZEcyiyKSIgoMEu73fKyd2WoX58xyT8wK5Bzju8/6l2yceaoAXywthCAv727nh8HjAhutKGgjMc/3cJNp00kITaaPRW1DO6X0Cwot8TMeODi3K58nJBoDMzvrtrlTysMGKTVFZt2V/CH11ezq7SalTtKueGUgzp9r5z+Sbz7k+M45o++5n9Dq3WJRCjtz3YAWbWjlPW7vHNa6xo8bC+u8u/b2+g/n23h/rkbqfZta1hb7yG/pIpj/vg+j8zfzCPzN3PuffOa3Rtg7rpC3ltTwHtrCvjDG2sAyO6XwD3vr+ejdYVB51bXNfDD/3zJo59uYe66QuoaPHyxeS+D0nrXwhWD0uIZnZVMTb0HgBMnDOTFxTv85ddeLy3Zzln3fuJfe/qud9Zxwp0f8vaqXSz1Dd46wbeASGfl9E/idd+0rtQwLiMqIvvX5f87zSwaWAhsd86dYWYDgP8CI4HNwAXOuaKuPke6ZntxFefcN4/aeg83nHIQm3dX8MyiPI4/KIt/XZJLdJTx0pId/OrFFQB8vmkvD3/3MG54dikvLdkBgBkM65/EsrwSCkqr/U22hWU13D93Y7Pg+/Upg7n93IM59HfvcMsrK7li1mi+cehQHv5kM398c43/vMKyGvZW1FJd5yG3hfnJkczMOHNqNne/t54zpg7huPFZvL+mgEfnb+bw0Rnt3hbyd6+uYnd5LdN++zZm0Ph96eixGfRPimNPeS0Th3R9/vCk7DReu+4YmnwfE5EIEoqvzdcDq4HGSaU3Au855+4wsxt9738RgudIJznnuOShBdTWe8hKjefPb631H/twbSFn/N8nnDkt25+ekRzH+2sKGHnja/7zfnbyeK4+YSxfbC7iggc+5c9vreXP508D4IO1BTz0ySYAJgxO5fXrZgU1k16Qm8PTC/O46fnlbCwo51++c9MSYiirqafAF5gBcvr3zApaoXTlsaOZMaI/s8ZlMtf35aSxxaA920KWVdexu7zW/945SIiNYs4VR7Rr5HVHTc7WoC+RSNalpmwzywFOB/4VkHw28Kjv9aPAOV15hnTdmyt2srGwgl+dPpHvHzPKn371Cd7tANfsLPMH5Se+fzjzbjzRf86YrGRW/PYUrjlxHGbmH8n7zKI8vti8F/DWeAFuOOUg7v3WIc36LgMHLDUGZYCXrjmGjOQ4Cstq2OMLTP2b7N7UGyTHx3Ds+CzMjIOH9iO7377BX68u29Hm9Xf7NsR47odHMfeG49l8x+ms+d3XuyUoi0jk62qN+W/Az4HANrZBzrl8AOdcvpl1rWNMuuyHT3in8YzJSuGwUQPYtLuC2RMHcdz4LCYMTvOvqHXlsaP9C1Ys/c3JPPTJJi47eiQpAf2RCbHRvHH9LL5+98ecf/+nbPz9aWzbW8mA5DiuPmFsi89vafTv45fPZFRmMlmpCfz3i62At211eC9f9CIjJZ75N83mD6+v5oGPvuKaJxe3OZ/62S/zmJydxqHD08MyslxEIkunA7OZnQEUOOcWmdnxnbj+SuBKgOHD97+soHgt3lrE819u5wfHj2FoO+exrthe4n99zLhMYqOjuOO8qf60M6d5g8Z5M3KCruuXGBu0tnKgiUPSOP6gLD5cW8gj8zezeGsxk7Nb3lYQvAt/JMRGccWs0RwzNpNxg1L9+xpffMQIbn5hOXM+30aUweBumGoUDj/+2nge+OgrgP2uBubxOEqq6rjkiBEKyiICdK3GfDRwlpmdBiQAaWb2H2CXmQ3x1ZaHAAUtXeycexB4ECA3N1dDUZqormtgy55K5ny+lYuPHAHAt/65gKq6Bl5euoNpw9L58UnjWm3u3FlSTXJ8NM8uyiMxNpoFv5zdrmlI7XXuIUP5cG0hv3t1FQDnzRja6rkZKfGs+d3XWzz2rcOHs2JHCU8u2MqDF+f2mSk8CbHR3HzaBH7/+hoKy7196Gt3lnHWtOygALxg016cg5QEjZIWEa9O/zVwzt0E3ATgqzH/zDn3HTP7M3ApcIfv50tdz+aBxTnHSXfNJa/Iu2DFI/M3AxAfE8U/L8nliscW8tG6Qj5aV8jJkwZx5wXTghbgKCirZtaf3mdUZjIjMpIZPiAp6HgojMoMbp4+cULnV7r6/bkH8/tzD+5qliJO41aQM29/z582bmAqk7LTuOXllXy+aS+r8r0bYERHaeaiiHh1x1+DO4Cvmdl64Gu+933e5t0VLNqylwbPvsp/g8fh8XSsMaC23sOU37zlD8qBnvvhUXxt0iB+dPwYEmK9/3SNSy0ClFTW8cLiPGbe/h51DY51u8p5Z9UuUruhNnbw0OCRvWOytIpUU9npzZvln12UxwX3f8oj8zf7gzJ4lxQVEQGwpgtMhENubq5buHBhuLPRafUNHib971vUNniYPiyd6cPSGZqeyO2+PW/PnJbN/13U9vZ6eUWVrNhewg98ay4D3PftQ9ldXsOMEf2bTXNp8DiOuuM9oszILwlebeqMqUP4fNNeCspq+M/lh3OMb83pUFqdX8rX7/6Yi2YO4w/fmNr2BQeYHcVVHHXH+wB8c0YOzy7KCzoeG23UNTjuumAaZ03LJiaEXQ0iEvnMbJFzrtkShurYCoFfPLec2gbvyk9LthWzZFtx0PFXlu7Yb2Curffw1Bdb+d+XVvrT7vv2oRwyPN3fHNqS6CjjqDGZvLB4uz9t9oSB3H/xjJD2J7dm4pA0Nv3htG5/Tm81KGAgW9Om/6S4aFbccgo19R4Su2m/aBHpnRSYu2h3eQ3PfZlHbLRhZtTWe3jj+lk0eBzb9layblc5f313HTX1DcTHNP8DvGVPBdfNWexfdrHR+EGp+w3KjX54/Bjmb9zNOdOHctNpE0P2udpLI4lbFx1lnDRxIO+uLggKzHOuOILxg1KIijIFZRFpRoG5Cypr68m97V0AXr9uFolx0ZRU1TFxiHfq0JSh/YiO2gnAyX/9iOnD0vE4mDQkje8dPZL4mCjufHsdS/NKmD1hIFefOJbbX1uNx7lmNazWjB+UyoKbT2q25rVEhv+76FA+WFvgX5glMyWeI8dkhDlXIhLJFJjb8NG6Qr7cWsSO4iqumDWasQNTMDM+XFvAzc8vB2DYgETG+Va3ymkye6lxX94teyrZsse7D+4rS3cErRX93aNGcstZkwHvAK/OUM01MiXGRXPawUP8S46eMjm0+zSLSN+jwV8tKKuu4/01BSzaUsRjn24JOpaWEENpdb3//UUzh3H7OQfvd/7tlj0VHPfnDwH43TlT+LVvowiAK2aN4oZTJhAXo4E/fd2m3RXk9E/skf5/EYl8rQ3+UmAGSqvrmHrL24zKTCY7PYF5G/YEHf/dOVOYMbw/33/0C3b4Rj8PTkvgn5fkMmVoWrtqq/M37KZfUqx/ZLVzjsXbijlkmJZhFBE5ECkwN+Gc48utxTyxYAurdpSyZmdZ0PERGUlMy0nn4iNHkDuiP2aGc47txVWUVNUxdmBKi4O5RERE2kPTpZq4570N/PXddQAMTI3nlMmDuOeiQ3xb7rUccM2MnP5JzfqRRUREQuWAC8wej+PaOYt5bXk+k4ak8cT3D++VWw2KiEjfdEAF5uLKWn714gpeW57PkaMzuP/iGfRLDO0a0iIiIl1xQAXmBz/6ileX5fOtw4dz29lT+sxORiIi0nccUIF5p29EdV/cyUhERPqGAyIwV9U28LNnlvr7lUVERCJVnwzMdQ0eHvzoK576Yit19Y6dpft2Xjp6rJZDFBGRyNXnAnNNfQNn3PMJ6wvKGZgaz+TsNM45ZChD+iVw8REj1K8sIiIRrc8F5m17Kykoq+HiI0bwu3OmhDs7IiIiHdLnAvPYgaks/c3J4c6GiIhIp2g1fRERkQiiwCwiIhJBFJhFREQiiAKziIhIBFFgFhERiSAKzCIiIhFEgVlERCSCKDCLiIhEEAVmERGRCGLOuXDnATMrBLaE8JaZwO4Q3u9AprIMHZVl6KgsQ0vlGTodKcsRzrmspokREZhDzcwWOudyw52PvkBlGToqy9BRWYaWyjN0QlGWasoWERGJIArMIiIiEaSvBuYHw52BPkRlGToqy9BRWYaWyjN0ulyWfbKPWUREpLfqqzVmERGRXkmBWUREJIIoMIuEkJlZuPPQV6gsJRL1xO9lrw3MZnaSmc0Idz76AjPrF/Bafwy7JibcGehDYsOdgb7EzKLDnYc+otvjZq8LzGZ2iJm9AbwAjA13fnozMzvczF4C/mVml5lZvNNowE4xsyPM7AngVjMbpz+CnWdmR5rZM8CdZjZJZdl5vrK8FcA51xDu/PRmZjbTzP4D/MHMDjazboufvSYwm1m0mT0I/BN4AHgSmOg71ms+R6Qws6nA34FngWeAE9EXnU4xsynA/wGvAruAK4FLfMfUAtEBZjYQuBd4He+yhtcDl/mOqSw7wMwuBR4FfmVmF/jS1KLTQWYWZWa/Af4FvIG3VexqYFp3PbPXBDTft703gVnOuReB54ATzCzBOecJa+Z6pxnABufc48A7QAKwtfGg/gh2yBHAGufcHLxfHCuBb5vZSOecU1l2yDRgnXPu38BfgOeBs81svMqyw7bj/cJ9Kt6yxDlXrzLsGF98yQO+65x7ArgdGAF0W0tORAdmMzvOzA5vfO+ce945V+X7xfIA64CksGWwF2lalsBrwLlmdjuwHMgB7jGzXwCoSbt1LZTlF8AwMxvjnKvA+7tZAlwBKsv9MbNzzOxmMzvdl7QEyA0oyy+AhcBVoLLcn4CyPMOX9AGwyzn3NrDFzH7nS1etuQ0t/F7OAZb6uvv2AGXAkO56fkQGZjNLNbPn8fYjX2Vm/X3pZmbm+59zDTAbb01PNbxWtFaWzrkCvLWTGOBm59wRwCPAMWZ2ZLjyG8laKMsBvkMbgc+Bf5vZi0Au3u6BGDNLCEtmI5yZZfnK6ifAXrxl903nXCHe1rBrfacWA+8CSWbWbX8Ie7MWyvJhMzvX18rY+HfxKuA6MxvknKsLU1YjXiu/l+c65yqdcw3OuRozi8VbkVnbXfmIyMAM1ALvA98BdgDng/fbsq85K8o5lwcsAL7ZeCxcmY1wLZYlgHNuDTAB2OZLWgQUADU9nMfeorXfy3Ln3M+Ba4BHnHNnAhuAqc656nBlNsKNAeY55451zt0P/BT4se/YHGCCmc32NSPuAYbibYWQ5loqyxsAnHO1ZhbtnFuJ98viHQBm9vWw5TaytVqWASbibYlY5/uyPjPUmYiYwGxml/iaCNOdczV4O9rfxdtcnWtm433nRTnnPL5BDOuBivDlOjK1tyx93gZu8bU4XAhMxvuHUGizLGcElqVzbplv/AN4+/Y+U0vOPr6yPN7MkvB+CXzMlx4NrPL9B96ulaeAu81sLN6WMQPiej7XkakdZbnc994AB+Cc+z5wqZkVAdM0aNarA2XZ2AUwAKg0s+8C84GDQ/3/eVj7GnwfZjDeEdYevE2CV5rZ9c653b5zPgXGAxcAt/mCcpRvEEMqMDI8uY8sHSzL/wc09jc9jHfw0pt4BzNc5pzb0sPZjyid+b0MuHYG3oE2DcCVB3pLTitleQVwvXNul68212BmE4F+4B9s84h5R2jfiLdV5wrnXHE4PkOk6GBZNnZZOcCZ2Qjgr8DHwNXOuRVh+RARopNlWe+7/BTgIrwti992zi0Ldf7C9o3J98EdkApsd87NBn6Et13/gcbznHPr8X6LyTazsb4+u0Tf4Z84537dw1mPOJ0oyyHmnWub5JyrAr4HXOqcO8k5t6qFRxwwuvB72fg7uRn4jXNutnNuY8/mPrK0UZZNd+A5Ge/UPcxsMIBz7k/Aj5xzxzjnVvdcziNPF8oyy5dWAtzhnDtOQbnTZTnIl/YqcJFz7rLuCMoQhhqzrzngViDazF4H0vDWLhqH8l8H7DCz45xzc33pL/i+ubwJpAAnAKtVG+lSWb4BpJjZCb4/ejvD8ykiQyh+L83sRN8Xm7nh+RSRoTNlCZQDm8y7GMY3zOxU51yec642HJ8hUoSoLE9zzm3FO0DxgBWisvy6c25ed+e1R2vMZnYc3lpGf7yDY34H1OGdjzwT/E0vtwK3BFx3PvBLvMP/px7o355BZRlKISzLA7q1ATpXlr6+vMvw1kzSgBOcd3DnAS2EZbm12c0PMCEsy23Nbt4d+e3JSqeZzQJGOu+iFpjZfXg71quAa51zM3wDEgYC9wC/cM5t8l2Hc+7jHstshFNZho7KMnQ6UZY34G25uxZ4zDn3ZXhyHnlUlqHT28qyp/uYFwFP2761b+cBw51zj+BtXrjWN/AjB2hwzm0C7x8+/fFrRmUZOirL0OlIWXqcc1uccxudc/+jQNKMyjJ0elVZ9mhgdt5J2jVu32LqXwMKfa+/B0w0s1fxzmPUL9Z+qCxDR2UZOh0sy0WgxYFao7IMnd5WlmGZLuX71uKAQcDLvuQy4GZgCrDJObc9HHnrbVSWoaOyDJ2OlOWBPoizLSrL0OktZRmu6VIevHut7gam+r6p/BpvE8In+uPXISrL0FFZho7KMnRUlqHTK8qyRwd/BT3Y7Ai8q6bMB/7tnHsoLBnpA1SWoaOyDB2VZeioLEOnN5RlOANzDnAxcJfzLnUonaSyDB2VZeioLENHZRk6vaEswxaYRUREpDktYi4iIhJBFJhFREQiiAKziIhIBFFgFhERiSAKzCJ9kJk1mNkSM1tpZkvN7Ce+tYD3d81IM/tWT+VRRFqmwCzSN1U556Y75ybjXX7wNOA3bVwzElBgFgkzTZcS6YPMrNw5lxLwfjTwBZAJjAAeB5J9h69xzs03s8+AicAm4FG8u+zcARwPxAN/d8490GMfQuQApcAs0gc1Dcy+tCJgAt61gT3OuWozGwfMcc7lmtnxwM+cc2f4zr8SGOicu83M4vHuyHN+4+5aItI9wrKJhYiEReNuObHAvWY2HWgAxrdy/sl41xP+pu99P2Ac3hq1iHQTBWaRA4CvKbsBKMDb17wLmIZ3nEl1a5fh3UT+rR7JpIgAGvwl0ueZWRZwP3Cvbyu7fkC+b2P4i4HGzePLgNSAS98Cfmhmsb77jDezZESkW6nGLNI3JZrZErzN1vV4B3vd5Tt2H/CcmZ0PfABU+NKXAfVmthR4BLgb70jtL32bxhcC5/RM9kUOXBr8JSIiEkHUlC0iIhJBFJhFREQiiAKziIhIBFFgFhERiSAKzCIiIhFEgVlERCSCKDCLiIhEEAVmERGRCPL/AbwZfXTPQ1rMAAAAAElFTkSuQmCC\n",
      "text/plain": [
       "<Figure size 576x360 with 1 Axes>"
      ]
     },
     "metadata": {
      "needs_background": "light"
     },
     "output_type": "display_data"
    }
   ],
   "source": [
    "ticker = ['AAPL']\n",
    "start_date = '2017-01-01'\n",
    "\n",
    "closes_aapl = get_adj_closes(ticker, start_date)\n",
    "closes_aapl.plot(figsize=(8,5));\n",
    "plt.legend(ticker);"
   ]
  },
  {
   "cell_type": "code",
   "execution_count": 13,
   "metadata": {},
   "outputs": [],
   "source": [
    "def calc_daily_ret(closes):\n",
    "    return np.log(closes/closes.shift(1)).iloc[1:]"
   ]
  },
  {
   "cell_type": "code",
   "execution_count": 14,
   "metadata": {},
   "outputs": [
    {
     "data": {
      "image/png": "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\n",
      "text/plain": [
       "<Figure size 576x432 with 1 Axes>"
      ]
     },
     "metadata": {
      "needs_background": "light"
     },
     "output_type": "display_data"
    }
   ],
   "source": [
    "ret_aapl = calc_daily_ret(closes_aapl)\n",
    "ret_aapl.plot(figsize=(8,6));"
   ]
  },
  {
   "cell_type": "code",
   "execution_count": 16,
   "metadata": {},
   "outputs": [
    {
     "ename": "RemoteDataError",
     "evalue": "Unable to read URL: https://query1.finance.yahoo.com/v7/finance/options/AAPL\nResponse Text:\nb'Forbidden'",
     "output_type": "error",
     "traceback": [
      "\u001b[0;31m---------------------------------------------------------------------------\u001b[0m",
      "\u001b[0;31mRemoteDataError\u001b[0m                           Traceback (most recent call last)",
      "\u001b[0;32m<ipython-input-16-4fc15fc40591>\u001b[0m in \u001b[0;36m<module>\u001b[0;34m\u001b[0m\n\u001b[1;32m      1\u001b[0m \u001b[0;31m#datos de opciones de Apple\u001b[0m\u001b[0;34m\u001b[0m\u001b[0;34m\u001b[0m\u001b[0;34m\u001b[0m\u001b[0m\n\u001b[1;32m      2\u001b[0m \u001b[0maapl\u001b[0m \u001b[0;34m=\u001b[0m \u001b[0mweb\u001b[0m\u001b[0;34m.\u001b[0m\u001b[0mYahooOptions\u001b[0m\u001b[0;34m(\u001b[0m\u001b[0;34m'AAPL'\u001b[0m\u001b[0;34m)\u001b[0m\u001b[0;34m\u001b[0m\u001b[0;34m\u001b[0m\u001b[0m\n\u001b[0;32m----> 3\u001b[0;31m \u001b[0maapl_opt\u001b[0m \u001b[0;34m=\u001b[0m \u001b[0maapl\u001b[0m\u001b[0;34m.\u001b[0m\u001b[0mget_all_data\u001b[0m\u001b[0;34m(\u001b[0m\u001b[0;34m)\u001b[0m\u001b[0;34m.\u001b[0m\u001b[0mreset_index\u001b[0m\u001b[0;34m(\u001b[0m\u001b[0;34m)\u001b[0m\u001b[0;34m\u001b[0m\u001b[0;34m\u001b[0m\u001b[0m\n\u001b[0m\u001b[1;32m      4\u001b[0m \u001b[0maapl_opt\u001b[0m\u001b[0;34m.\u001b[0m\u001b[0mset_index\u001b[0m\u001b[0;34m(\u001b[0m\u001b[0;34m'Expiry'\u001b[0m\u001b[0;34m)\u001b[0m\u001b[0;34m.\u001b[0m\u001b[0msort_index\u001b[0m\u001b[0;34m(\u001b[0m\u001b[0;34m)\u001b[0m\u001b[0;34m\u001b[0m\u001b[0;34m\u001b[0m\u001b[0m\n",
      "\u001b[0;32m~/opt/anaconda3/lib/python3.8/site-packages/pandas_datareader/yahoo/options.py\u001b[0m in \u001b[0;36mget_all_data\u001b[0;34m(self, call, put)\u001b[0m\n\u001b[1;32m    618\u001b[0m         \"\"\"\n\u001b[1;32m    619\u001b[0m \u001b[0;34m\u001b[0m\u001b[0m\n\u001b[0;32m--> 620\u001b[0;31m         \u001b[0;32mreturn\u001b[0m \u001b[0mself\u001b[0m\u001b[0;34m.\u001b[0m\u001b[0m_load_data\u001b[0m\u001b[0;34m(\u001b[0m\u001b[0;34m)\u001b[0m\u001b[0;34m\u001b[0m\u001b[0;34m\u001b[0m\u001b[0m\n\u001b[0m\u001b[1;32m    621\u001b[0m \u001b[0;34m\u001b[0m\u001b[0m\n\u001b[1;32m    622\u001b[0m     \u001b[0;32mdef\u001b[0m \u001b[0m_get_data_in_date_range\u001b[0m\u001b[0;34m(\u001b[0m\u001b[0mself\u001b[0m\u001b[0;34m,\u001b[0m \u001b[0mdates\u001b[0m\u001b[0;34m,\u001b[0m \u001b[0mcall\u001b[0m\u001b[0;34m=\u001b[0m\u001b[0;32mTrue\u001b[0m\u001b[0;34m,\u001b[0m \u001b[0mput\u001b[0m\u001b[0;34m=\u001b[0m\u001b[0;32mTrue\u001b[0m\u001b[0;34m)\u001b[0m\u001b[0;34m:\u001b[0m\u001b[0;34m\u001b[0m\u001b[0;34m\u001b[0m\u001b[0m\n",
      "\u001b[0;32m~/opt/anaconda3/lib/python3.8/site-packages/pandas_datareader/yahoo/options.py\u001b[0m in \u001b[0;36m_load_data\u001b[0;34m(self, exp_dates)\u001b[0m\n\u001b[1;32m    852\u001b[0m         \u001b[0;32mtry\u001b[0m\u001b[0;34m:\u001b[0m\u001b[0;34m\u001b[0m\u001b[0;34m\u001b[0m\u001b[0m\n\u001b[1;32m    853\u001b[0m             \u001b[0;32mif\u001b[0m \u001b[0mexp_dates\u001b[0m \u001b[0;32mis\u001b[0m \u001b[0;32mNone\u001b[0m\u001b[0;34m:\u001b[0m\u001b[0;34m\u001b[0m\u001b[0;34m\u001b[0m\u001b[0m\n\u001b[0;32m--> 854\u001b[0;31m                 \u001b[0mexp_dates\u001b[0m \u001b[0;34m=\u001b[0m \u001b[0mself\u001b[0m\u001b[0;34m.\u001b[0m\u001b[0m_get_expiry_dates\u001b[0m\u001b[0;34m(\u001b[0m\u001b[0;34m)\u001b[0m\u001b[0;34m\u001b[0m\u001b[0;34m\u001b[0m\u001b[0m\n\u001b[0m\u001b[1;32m    855\u001b[0m             exp_unix_times = [\n\u001b[1;32m    856\u001b[0m                 int(\n",
      "\u001b[0;32m~/opt/anaconda3/lib/python3.8/site-packages/pandas_datareader/yahoo/options.py\u001b[0m in \u001b[0;36m_get_expiry_dates\u001b[0;34m(self)\u001b[0m\n\u001b[1;32m    679\u001b[0m \u001b[0;34m\u001b[0m\u001b[0m\n\u001b[1;32m    680\u001b[0m         \u001b[0murl\u001b[0m \u001b[0;34m=\u001b[0m \u001b[0mself\u001b[0m\u001b[0;34m.\u001b[0m\u001b[0m_OPTIONS_BASE_URL\u001b[0m\u001b[0;34m.\u001b[0m\u001b[0mformat\u001b[0m\u001b[0;34m(\u001b[0m\u001b[0msym\u001b[0m\u001b[0;34m=\u001b[0m\u001b[0mself\u001b[0m\u001b[0;34m.\u001b[0m\u001b[0msymbol\u001b[0m\u001b[0;34m)\u001b[0m\u001b[0;34m\u001b[0m\u001b[0;34m\u001b[0m\u001b[0m\n\u001b[0;32m--> 681\u001b[0;31m         \u001b[0mjd\u001b[0m \u001b[0;34m=\u001b[0m \u001b[0mself\u001b[0m\u001b[0;34m.\u001b[0m\u001b[0m_parse_url\u001b[0m\u001b[0;34m(\u001b[0m\u001b[0murl\u001b[0m\u001b[0;34m)\u001b[0m\u001b[0;34m\u001b[0m\u001b[0;34m\u001b[0m\u001b[0m\n\u001b[0m\u001b[1;32m    682\u001b[0m \u001b[0;34m\u001b[0m\u001b[0m\n\u001b[1;32m    683\u001b[0m         expiry_dates = [\n",
      "\u001b[0;32m~/opt/anaconda3/lib/python3.8/site-packages/pandas_datareader/yahoo/options.py\u001b[0m in \u001b[0;36m_parse_url\u001b[0;34m(self, url)\u001b[0m\n\u001b[1;32m    705\u001b[0m         \u001b[0mA\u001b[0m \u001b[0mJSON\u001b[0m \u001b[0mobject\u001b[0m\u001b[0;34m\u001b[0m\u001b[0;34m\u001b[0m\u001b[0m\n\u001b[1;32m    706\u001b[0m         \"\"\"\n\u001b[0;32m--> 707\u001b[0;31m         \u001b[0mjd\u001b[0m \u001b[0;34m=\u001b[0m \u001b[0mjson\u001b[0m\u001b[0;34m.\u001b[0m\u001b[0mloads\u001b[0m\u001b[0;34m(\u001b[0m\u001b[0mself\u001b[0m\u001b[0;34m.\u001b[0m\u001b[0m_read_url_as_StringIO\u001b[0m\u001b[0;34m(\u001b[0m\u001b[0murl\u001b[0m\u001b[0;34m)\u001b[0m\u001b[0;34m.\u001b[0m\u001b[0mread\u001b[0m\u001b[0;34m(\u001b[0m\u001b[0;34m)\u001b[0m\u001b[0;34m)\u001b[0m\u001b[0;34m\u001b[0m\u001b[0;34m\u001b[0m\u001b[0m\n\u001b[0m\u001b[1;32m    708\u001b[0m         \u001b[0;32mif\u001b[0m \u001b[0mjd\u001b[0m \u001b[0;32mis\u001b[0m \u001b[0;32mNone\u001b[0m\u001b[0;34m:\u001b[0m  \u001b[0;31m# pragma: no cover\u001b[0m\u001b[0;34m\u001b[0m\u001b[0;34m\u001b[0m\u001b[0m\n\u001b[1;32m    709\u001b[0m             raise RemoteDataError(\n",
      "\u001b[0;32m~/opt/anaconda3/lib/python3.8/site-packages/pandas_datareader/base.py\u001b[0m in \u001b[0;36m_read_url_as_StringIO\u001b[0;34m(self, url, params)\u001b[0m\n\u001b[1;32m    117\u001b[0m         \u001b[0mOpen\u001b[0m \u001b[0murl\u001b[0m \u001b[0;34m(\u001b[0m\u001b[0;32mand\u001b[0m \u001b[0mretry\u001b[0m\u001b[0;34m)\u001b[0m\u001b[0;34m\u001b[0m\u001b[0;34m\u001b[0m\u001b[0m\n\u001b[1;32m    118\u001b[0m         \"\"\"\n\u001b[0;32m--> 119\u001b[0;31m         \u001b[0mresponse\u001b[0m \u001b[0;34m=\u001b[0m \u001b[0mself\u001b[0m\u001b[0;34m.\u001b[0m\u001b[0m_get_response\u001b[0m\u001b[0;34m(\u001b[0m\u001b[0murl\u001b[0m\u001b[0;34m,\u001b[0m \u001b[0mparams\u001b[0m\u001b[0;34m=\u001b[0m\u001b[0mparams\u001b[0m\u001b[0;34m)\u001b[0m\u001b[0;34m\u001b[0m\u001b[0;34m\u001b[0m\u001b[0m\n\u001b[0m\u001b[1;32m    120\u001b[0m         \u001b[0mtext\u001b[0m \u001b[0;34m=\u001b[0m \u001b[0mself\u001b[0m\u001b[0;34m.\u001b[0m\u001b[0m_sanitize_response\u001b[0m\u001b[0;34m(\u001b[0m\u001b[0mresponse\u001b[0m\u001b[0;34m)\u001b[0m\u001b[0;34m\u001b[0m\u001b[0;34m\u001b[0m\u001b[0m\n\u001b[1;32m    121\u001b[0m         \u001b[0mout\u001b[0m \u001b[0;34m=\u001b[0m \u001b[0mStringIO\u001b[0m\u001b[0;34m(\u001b[0m\u001b[0;34m)\u001b[0m\u001b[0;34m\u001b[0m\u001b[0;34m\u001b[0m\u001b[0m\n",
      "\u001b[0;32m~/opt/anaconda3/lib/python3.8/site-packages/pandas_datareader/base.py\u001b[0m in \u001b[0;36m_get_response\u001b[0;34m(self, url, params, headers)\u001b[0m\n\u001b[1;32m    179\u001b[0m             \u001b[0mmsg\u001b[0m \u001b[0;34m+=\u001b[0m \u001b[0;34m\"\\nResponse Text:\\n{0}\"\u001b[0m\u001b[0;34m.\u001b[0m\u001b[0mformat\u001b[0m\u001b[0;34m(\u001b[0m\u001b[0mlast_response_text\u001b[0m\u001b[0;34m)\u001b[0m\u001b[0;34m\u001b[0m\u001b[0;34m\u001b[0m\u001b[0m\n\u001b[1;32m    180\u001b[0m \u001b[0;34m\u001b[0m\u001b[0m\n\u001b[0;32m--> 181\u001b[0;31m         \u001b[0;32mraise\u001b[0m \u001b[0mRemoteDataError\u001b[0m\u001b[0;34m(\u001b[0m\u001b[0mmsg\u001b[0m\u001b[0;34m)\u001b[0m\u001b[0;34m\u001b[0m\u001b[0;34m\u001b[0m\u001b[0m\n\u001b[0m\u001b[1;32m    182\u001b[0m \u001b[0;34m\u001b[0m\u001b[0m\n\u001b[1;32m    183\u001b[0m     \u001b[0;32mdef\u001b[0m \u001b[0m_get_crumb\u001b[0m\u001b[0;34m(\u001b[0m\u001b[0mself\u001b[0m\u001b[0;34m,\u001b[0m \u001b[0;34m*\u001b[0m\u001b[0margs\u001b[0m\u001b[0;34m)\u001b[0m\u001b[0;34m:\u001b[0m\u001b[0;34m\u001b[0m\u001b[0;34m\u001b[0m\u001b[0m\n",
      "\u001b[0;31mRemoteDataError\u001b[0m: Unable to read URL: https://query1.finance.yahoo.com/v7/finance/options/AAPL\nResponse Text:\nb'Forbidden'"
     ]
    }
   ],
   "source": [
    "#datos de opciones de Apple\n",
    "aapl = web.YahooOptions('AAPL')\n",
    "aapl_opt = aapl.get_all_data().reset_index()\n",
    "aapl_opt.set_index('Expiry').sort_index()"
   ]
  },
  {
   "cell_type": "code",
   "execution_count": 15,
   "metadata": {},
   "outputs": [
    {
     "ename": "NameError",
     "evalue": "name 'aapl_opt' is not defined",
     "output_type": "error",
     "traceback": [
      "\u001b[0;31m---------------------------------------------------------------------------\u001b[0m",
      "\u001b[0;31mNameError\u001b[0m                                 Traceback (most recent call last)",
      "\u001b[0;32m<ipython-input-15-0a4e7ae1ab45>\u001b[0m in \u001b[0;36m<module>\u001b[0;34m\u001b[0m\n\u001b[1;32m      1\u001b[0m \u001b[0mK\u001b[0m \u001b[0;34m=\u001b[0m \u001b[0;36m290\u001b[0m\u001b[0;31m# strike price\u001b[0m\u001b[0;34m\u001b[0m\u001b[0;34m\u001b[0m\u001b[0m\n\u001b[0;32m----> 2\u001b[0;31m \u001b[0mindice_opt\u001b[0m \u001b[0;34m=\u001b[0m \u001b[0maapl_opt\u001b[0m\u001b[0;34m.\u001b[0m\u001b[0mloc\u001b[0m\u001b[0;34m[\u001b[0m\u001b[0;34m(\u001b[0m\u001b[0maapl_opt\u001b[0m\u001b[0;34m.\u001b[0m\u001b[0mType\u001b[0m\u001b[0;34m==\u001b[0m\u001b[0;34m'put'\u001b[0m\u001b[0;34m)\u001b[0m \u001b[0;34m&\u001b[0m \u001b[0;34m(\u001b[0m\u001b[0maapl_opt\u001b[0m\u001b[0;34m.\u001b[0m\u001b[0mStrike\u001b[0m\u001b[0;34m==\u001b[0m\u001b[0mK\u001b[0m\u001b[0;34m)\u001b[0m \u001b[0;34m&\u001b[0m \u001b[0;34m(\u001b[0m\u001b[0maapl_opt\u001b[0m\u001b[0;34m.\u001b[0m\u001b[0mExpiry\u001b[0m\u001b[0;34m==\u001b[0m\u001b[0;34m'2021-01-15'\u001b[0m\u001b[0;34m)\u001b[0m\u001b[0;34m]\u001b[0m\u001b[0;34m\u001b[0m\u001b[0;34m\u001b[0m\u001b[0m\n\u001b[0m\u001b[1;32m      3\u001b[0m \u001b[0mindice_opt\u001b[0m\u001b[0;34m\u001b[0m\u001b[0;34m\u001b[0m\u001b[0m\n",
      "\u001b[0;31mNameError\u001b[0m: name 'aapl_opt' is not defined"
     ]
    }
   ],
   "source": [
    "K = 290# strike price\n",
    "indice_opt = aapl_opt.loc[(aapl_opt.Type=='put') & (aapl_opt.Strike==K) & (aapl_opt.Expiry=='2021-01-15')]\n",
    "indice_opt"
   ]
  },
  {
   "cell_type": "code",
   "execution_count": null,
   "metadata": {},
   "outputs": [],
   "source": [
    "i_opt= indice_opt.index\n",
    "opcion_valuar = aapl_opt.loc[i_opt[0]]\n",
    "opcion_valuar['JSON']"
   ]
  },
  {
   "cell_type": "code",
   "execution_count": null,
   "metadata": {},
   "outputs": [],
   "source": [
    "print('Precio del activo subyacente actual = ',opcion_valuar.Underlying_Price)"
   ]
  },
  {
   "cell_type": "markdown",
   "metadata": {},
   "source": [
    "### Simulación de precios usando rendimiento simple y logarítmico "
   ]
  },
  {
   "cell_type": "markdown",
   "metadata": {},
   "source": [
    "#### Rendimiento Simple"
   ]
  },
  {
   "cell_type": "code",
   "execution_count": 17,
   "metadata": {},
   "outputs": [
    {
     "data": {
      "text/html": [
       "<div>\n",
       "<style scoped>\n",
       "    .dataframe tbody tr th:only-of-type {\n",
       "        vertical-align: middle;\n",
       "    }\n",
       "\n",
       "    .dataframe tbody tr th {\n",
       "        vertical-align: top;\n",
       "    }\n",
       "\n",
       "    .dataframe thead th {\n",
       "        text-align: right;\n",
       "    }\n",
       "</style>\n",
       "<table border=\"1\" class=\"dataframe\">\n",
       "  <thead>\n",
       "    <tr style=\"text-align: right;\">\n",
       "      <th>Symbols</th>\n",
       "      <th>AAPL</th>\n",
       "    </tr>\n",
       "    <tr>\n",
       "      <th>Date</th>\n",
       "      <th></th>\n",
       "    </tr>\n",
       "  </thead>\n",
       "  <tbody>\n",
       "    <tr>\n",
       "      <th>2017-01-04</th>\n",
       "      <td>-0.001</td>\n",
       "    </tr>\n",
       "    <tr>\n",
       "      <th>2017-01-05</th>\n",
       "      <td>0.005</td>\n",
       "    </tr>\n",
       "    <tr>\n",
       "      <th>2017-01-06</th>\n",
       "      <td>0.011</td>\n",
       "    </tr>\n",
       "    <tr>\n",
       "      <th>2017-01-09</th>\n",
       "      <td>0.009</td>\n",
       "    </tr>\n",
       "    <tr>\n",
       "      <th>2017-01-10</th>\n",
       "      <td>0.001</td>\n",
       "    </tr>\n",
       "    <tr>\n",
       "      <th>...</th>\n",
       "      <td>...</td>\n",
       "    </tr>\n",
       "    <tr>\n",
       "      <th>2021-11-16</th>\n",
       "      <td>0.007</td>\n",
       "    </tr>\n",
       "    <tr>\n",
       "      <th>2021-11-17</th>\n",
       "      <td>0.016</td>\n",
       "    </tr>\n",
       "    <tr>\n",
       "      <th>2021-11-18</th>\n",
       "      <td>0.029</td>\n",
       "    </tr>\n",
       "    <tr>\n",
       "      <th>2021-11-19</th>\n",
       "      <td>0.017</td>\n",
       "    </tr>\n",
       "    <tr>\n",
       "      <th>2021-11-22</th>\n",
       "      <td>0.022</td>\n",
       "    </tr>\n",
       "  </tbody>\n",
       "</table>\n",
       "<p>1231 rows × 1 columns</p>\n",
       "</div>"
      ],
      "text/plain": [
       "Symbols      AAPL\n",
       "Date             \n",
       "2017-01-04 -0.001\n",
       "2017-01-05  0.005\n",
       "2017-01-06  0.011\n",
       "2017-01-09  0.009\n",
       "2017-01-10  0.001\n",
       "...           ...\n",
       "2021-11-16  0.007\n",
       "2021-11-17  0.016\n",
       "2021-11-18  0.029\n",
       "2021-11-19  0.017\n",
       "2021-11-22  0.022\n",
       "\n",
       "[1231 rows x 1 columns]"
      ]
     },
     "execution_count": 17,
     "metadata": {},
     "output_type": "execute_result"
    }
   ],
   "source": [
    "Ri = closes_aapl.pct_change(1).iloc[1:]\n",
    "# Obtenemos su media y desviación estándar de los rendimientos\n",
    "mu_R = Ri.mean()[0]\n",
    "sigma_R = Ri.std()[0]\n",
    "Ri"
   ]
  },
  {
   "cell_type": "code",
   "execution_count": 18,
   "metadata": {},
   "outputs": [
    {
     "ename": "NameError",
     "evalue": "name 'opcion_valuar' is not defined",
     "output_type": "error",
     "traceback": [
      "\u001b[0;31m---------------------------------------------------------------------------\u001b[0m",
      "\u001b[0;31mNameError\u001b[0m                                 Traceback (most recent call last)",
      "\u001b[0;32m<ipython-input-18-fd67b8995c67>\u001b[0m in \u001b[0;36m<module>\u001b[0;34m\u001b[0m\n\u001b[1;32m      2\u001b[0m \u001b[0;34m\u001b[0m\u001b[0m\n\u001b[1;32m      3\u001b[0m \u001b[0mtoday\u001b[0m \u001b[0;34m=\u001b[0m \u001b[0mpd\u001b[0m\u001b[0;34m.\u001b[0m\u001b[0mTimestamp\u001b[0m\u001b[0;34m(\u001b[0m\u001b[0mdate\u001b[0m\u001b[0;34m.\u001b[0m\u001b[0mtoday\u001b[0m\u001b[0;34m(\u001b[0m\u001b[0;34m)\u001b[0m\u001b[0;34m)\u001b[0m\u001b[0;34m\u001b[0m\u001b[0;34m\u001b[0m\u001b[0m\n\u001b[0;32m----> 4\u001b[0;31m \u001b[0mexpiry\u001b[0m \u001b[0;34m=\u001b[0m \u001b[0mopcion_valuar\u001b[0m\u001b[0;34m.\u001b[0m\u001b[0mExpiry\u001b[0m\u001b[0;34m\u001b[0m\u001b[0;34m\u001b[0m\u001b[0m\n\u001b[0m\u001b[1;32m      5\u001b[0m \u001b[0;34m\u001b[0m\u001b[0m\n\u001b[1;32m      6\u001b[0m \u001b[0mnscen\u001b[0m \u001b[0;34m=\u001b[0m \u001b[0;36m10000\u001b[0m \u001b[0;31m# cantidad de escenarios a simular con montecarlo\u001b[0m\u001b[0;34m\u001b[0m\u001b[0;34m\u001b[0m\u001b[0m\n",
      "\u001b[0;31mNameError\u001b[0m: name 'opcion_valuar' is not defined"
     ]
    }
   ],
   "source": [
    "from datetime import date\n",
    "\n",
    "today = pd.Timestamp(date.today())\n",
    "expiry = opcion_valuar.Expiry\n",
    "\n",
    "nscen = 10000 # cantidad de escenarios a simular con montecarlo\n",
    "dates = pd.date_range(start = today, end= expiry, freq='B')\n",
    "ndays = len(dates)\n",
    "dates"
   ]
  },
  {
   "cell_type": "code",
   "execution_count": 19,
   "metadata": {},
   "outputs": [
    {
     "ename": "NameError",
     "evalue": "name 'ndays' is not defined",
     "output_type": "error",
     "traceback": [
      "\u001b[0;31m---------------------------------------------------------------------------\u001b[0m",
      "\u001b[0;31mNameError\u001b[0m                                 Traceback (most recent call last)",
      "\u001b[0;32m<ipython-input-19-51d2e4b12773>\u001b[0m in \u001b[0;36m<module>\u001b[0;34m\u001b[0m\n\u001b[1;32m      1\u001b[0m \u001b[0mdt\u001b[0m \u001b[0;34m=\u001b[0m \u001b[0;36m1\u001b[0m\u001b[0;34m;\u001b[0m \u001b[0;31m# Rendimiento diario\u001b[0m\u001b[0;34m\u001b[0m\u001b[0;34m\u001b[0m\u001b[0m\n\u001b[0;32m----> 2\u001b[0;31m \u001b[0mZ\u001b[0m \u001b[0;34m=\u001b[0m \u001b[0mnp\u001b[0m\u001b[0;34m.\u001b[0m\u001b[0mrandom\u001b[0m\u001b[0;34m.\u001b[0m\u001b[0mrandn\u001b[0m\u001b[0;34m(\u001b[0m\u001b[0mndays\u001b[0m\u001b[0;34m,\u001b[0m\u001b[0mnscen\u001b[0m\u001b[0;34m)\u001b[0m  \u001b[0;31m# Z ~ N(0,1)\u001b[0m\u001b[0;34m\u001b[0m\u001b[0;34m\u001b[0m\u001b[0m\n\u001b[0m\u001b[1;32m      3\u001b[0m \u001b[0;31m# Simulación normal de los rendimientos\u001b[0m\u001b[0;34m\u001b[0m\u001b[0;34m\u001b[0m\u001b[0;34m\u001b[0m\u001b[0m\n\u001b[1;32m      4\u001b[0m \u001b[0mRi_dt\u001b[0m \u001b[0;34m=\u001b[0m \u001b[0mpd\u001b[0m\u001b[0;34m.\u001b[0m\u001b[0mDataFrame\u001b[0m\u001b[0;34m(\u001b[0m\u001b[0mmu_R\u001b[0m\u001b[0;34m*\u001b[0m\u001b[0mdt\u001b[0m\u001b[0;34m+\u001b[0m\u001b[0mZ\u001b[0m\u001b[0;34m*\u001b[0m\u001b[0msigma_R\u001b[0m\u001b[0;34m*\u001b[0m\u001b[0mnp\u001b[0m\u001b[0;34m.\u001b[0m\u001b[0msqrt\u001b[0m\u001b[0;34m(\u001b[0m\u001b[0mdt\u001b[0m\u001b[0;34m)\u001b[0m\u001b[0;34m,\u001b[0m\u001b[0mindex\u001b[0m\u001b[0;34m=\u001b[0m\u001b[0mdates\u001b[0m\u001b[0;34m)\u001b[0m\u001b[0;34m\u001b[0m\u001b[0;34m\u001b[0m\u001b[0m\n\u001b[1;32m      5\u001b[0m \u001b[0mRi_dt\u001b[0m\u001b[0;34m.\u001b[0m\u001b[0mcumprod\u001b[0m\u001b[0;34m(\u001b[0m\u001b[0;34m)\u001b[0m \u001b[0;31m#producto acumulado\u001b[0m\u001b[0;34m\u001b[0m\u001b[0;34m\u001b[0m\u001b[0m\n",
      "\u001b[0;31mNameError\u001b[0m: name 'ndays' is not defined"
     ]
    }
   ],
   "source": [
    "dt = 1; # Rendimiento diario \n",
    "Z = np.random.randn(ndays,nscen)  # Z ~ N(0,1)\n",
    "# Simulación normal de los rendimientos\n",
    "Ri_dt = pd.DataFrame(mu_R*dt+Z*sigma_R*np.sqrt(dt),index=dates)\n",
    "Ri_dt.cumprod() #producto acumulado"
   ]
  },
  {
   "cell_type": "code",
   "execution_count": null,
   "metadata": {},
   "outputs": [],
   "source": [
    "# Simulación del precio\n",
    "S_0 = closes_aapl.iloc[-1,0] #ultimo de los precios\n",
    "S_T = S_0*(1+Ri_dt).cumprod() #precio en el tiempo de cierre "
   ]
  },
  {
   "cell_type": "markdown",
   "metadata": {},
   "source": [
    "#### Rendimiento logarítmico "
   ]
  },
  {
   "cell_type": "code",
   "execution_count": 20,
   "metadata": {},
   "outputs": [
    {
     "ename": "NameError",
     "evalue": "name 'Z' is not defined",
     "output_type": "error",
     "traceback": [
      "\u001b[0;31m---------------------------------------------------------------------------\u001b[0m",
      "\u001b[0;31mNameError\u001b[0m                                 Traceback (most recent call last)",
      "\u001b[0;32m<ipython-input-20-8f9840142c60>\u001b[0m in \u001b[0;36m<module>\u001b[0;34m\u001b[0m\n\u001b[1;32m      7\u001b[0m \u001b[0;31m# mu_r2 = mu_R - (sigma_R**2)/2\u001b[0m\u001b[0;34m\u001b[0m\u001b[0;34m\u001b[0m\u001b[0;34m\u001b[0m\u001b[0m\n\u001b[1;32m      8\u001b[0m \u001b[0;34m\u001b[0m\u001b[0m\n\u001b[0;32m----> 9\u001b[0;31m \u001b[0msim_ret_ri\u001b[0m \u001b[0;34m=\u001b[0m \u001b[0mpd\u001b[0m\u001b[0;34m.\u001b[0m\u001b[0mDataFrame\u001b[0m\u001b[0;34m(\u001b[0m\u001b[0mmu_r\u001b[0m\u001b[0;34m*\u001b[0m\u001b[0mdt\u001b[0m\u001b[0;34m+\u001b[0m\u001b[0mZ\u001b[0m\u001b[0;34m*\u001b[0m\u001b[0msigma_r\u001b[0m\u001b[0;34m*\u001b[0m\u001b[0mnp\u001b[0m\u001b[0;34m.\u001b[0m\u001b[0msqrt\u001b[0m\u001b[0;34m(\u001b[0m\u001b[0mdt\u001b[0m\u001b[0;34m)\u001b[0m\u001b[0;34m,\u001b[0m \u001b[0mindex\u001b[0m\u001b[0;34m=\u001b[0m\u001b[0mdates\u001b[0m\u001b[0;34m)\u001b[0m\u001b[0;34m\u001b[0m\u001b[0;34m\u001b[0m\u001b[0m\n\u001b[0m\u001b[1;32m     10\u001b[0m \u001b[0;34m\u001b[0m\u001b[0m\n\u001b[1;32m     11\u001b[0m \u001b[0;31m# Simulación del precio\u001b[0m\u001b[0;34m\u001b[0m\u001b[0;34m\u001b[0m\u001b[0;34m\u001b[0m\u001b[0m\n",
      "\u001b[0;31mNameError\u001b[0m: name 'Z' is not defined"
     ]
    }
   ],
   "source": [
    "ri = calc_daily_ret(closes_aapl)\n",
    "# Usando la media y desviación estándar de los rendimientos logarítmicos\n",
    "mu_r = ri.mean()[0]\n",
    "sigma_r = ri.std()[0]\n",
    "\n",
    "# # Usando la equivalencia teórica\n",
    "# mu_r2 = mu_R - (sigma_R**2)/2\n",
    "\n",
    "sim_ret_ri = pd.DataFrame(mu_r*dt+Z*sigma_r*np.sqrt(dt), index=dates)\n",
    "\n",
    "# Simulación del precio\n",
    "S_0 = closes_aapl.iloc[-1,0]\n",
    "S_T2 = S_0*np.exp(sim_ret_ri.cumsum())\n",
    "\n",
    "# Se muestran los precios simulados con los precios descargados\n",
    "# pd.concat([closes_aapl,S_T2]).plot(figsize=(8,6));\n",
    "# plt.title('Simulación de precios usando rendimiento logarítmico');\n",
    "\n",
    "# from sklearn.metrics import mean_absolute_error\n",
    "e1 = np.abs(S_T-S_T2).mean().mean()\n",
    "e1"
   ]
  },
  {
   "cell_type": "code",
   "execution_count": null,
   "metadata": {},
   "outputs": [],
   "source": [
    "print('Las std usando rendimientos logarítmicos y simples son similares')\n",
    "sigma_R,sigma_r"
   ]
  },
  {
   "cell_type": "markdown",
   "metadata": {},
   "source": [
    "$$ max\\{K-S(T),0\\} \\rightarrow \\text{En el caso de Put}$$ "
   ]
  },
  {
   "cell_type": "code",
   "execution_count": null,
   "metadata": {},
   "outputs": [],
   "source": [
    "opcion_valuar['JSON']"
   ]
  },
  {
   "cell_type": "code",
   "execution_count": null,
   "metadata": {},
   "outputs": [],
   "source": [
    "strike = pd.DataFrame(opcion_valuar['JSON']['strike']*np.ones([ndays,nscen]), index=dates)\n",
    "put = pd.DataFrame({'Prima':np.exp(-mu_r*ndays) \\\n",
    "              *np.fmax(strike-S_T2,np.zeros([ndays,nscen])).mean(axis=1)}, index=dates)\n",
    "put.plot();\n",
    "#para ver si nos aproximamos al last price 33.4\n",
    "put.iloc[-1]"
   ]
  },
  {
   "cell_type": "markdown",
   "metadata": {},
   "source": [
    "### 2. Valuación usando simulación: modelo normal para los rendimientos"
   ]
  },
  {
   "cell_type": "code",
   "execution_count": null,
   "metadata": {},
   "outputs": [],
   "source": [
    "# media y desviación estándar muestral de los rendimientos logarítmicos\n",
    "mu = ret_aapl.mean()[0]\n",
    "sigma = ret_aapl.std()[0]\n",
    "mu, sigma"
   ]
  },
  {
   "cell_type": "code",
   "execution_count": null,
   "metadata": {},
   "outputs": [],
   "source": [
    "# Tasa de bonos de 1 yr de fecha 30/04/20 -> 0.16%\n",
    "r = 0.0016/360 # Tasa diaria\n",
    "r"
   ]
  },
  {
   "cell_type": "code",
   "execution_count": null,
   "metadata": {},
   "outputs": [],
   "source": [
    "#Simulacion de tiempo de contrato hoy hasta la fecha Expiry\n",
    "\n",
    "today = pd.Timestamp(date.today())\n",
    "expiry = opcion_valuar.Expiry\n",
    "\n",
    "ndays = (expiry - today).days\n",
    "nscen = 10 #Escenarios a simular\n",
    "dates = pd.date_range(start='2019-11-14', periods = ndays)\n",
    "dates"
   ]
  },
  {
   "cell_type": "code",
   "execution_count": null,
   "metadata": {},
   "outputs": [],
   "source": [
    "#Rendimientos simulados \n",
    "\n",
    "sim_ret = pd.DataFrame(sigma*np.random.randn(ndays,nscen)+r, index=dates)\n",
    "sim_ret.cumsum()\n",
    "# Las columnas son los escenarios y las filas son las días de contrato"
   ]
  },
  {
   "cell_type": "code",
   "execution_count": null,
   "metadata": {},
   "outputs": [],
   "source": [
    "#Escenarios de precios respectivos\n",
    "\n",
    "S0 = closes_aapl.iloc[-1,0]  # Condición inicial del precio a simular\n",
    "sim_closes = S0*np.exp(sim_ret.cumsum())\n",
    "sim_closes"
   ]
  },
  {
   "cell_type": "code",
   "execution_count": null,
   "metadata": {},
   "outputs": [],
   "source": [
    "sim_closes.plot(figsize=(8,6));"
   ]
  },
  {
   "cell_type": "code",
   "execution_count": null,
   "metadata": {},
   "outputs": [],
   "source": [
    "# Se muestran los precios simulados con los precios descargados\n",
    "pd.concat([closes_aapl,sim_closes]).plot(figsize=(8,6));"
   ]
  },
  {
   "cell_type": "code",
   "execution_count": null,
   "metadata": {},
   "outputs": [],
   "source": [
    "opcion_valuar['JSON']"
   ]
  },
  {
   "cell_type": "code",
   "execution_count": null,
   "metadata": {},
   "outputs": [],
   "source": [
    "opcion_valuar['JSON']['impliedVolatility']"
   ]
  },
  {
   "cell_type": "code",
   "execution_count": null,
   "metadata": {},
   "outputs": [],
   "source": [
    "sigma = opcion_valuar['JSON']['impliedVolatility']/np.sqrt(252)\n",
    "sigma"
   ]
  },
  {
   "cell_type": "code",
   "execution_count": null,
   "metadata": {},
   "outputs": [],
   "source": [
    "Hoy = date.today()\n",
    "K = opcion_valuar['JSON']['strike']  # strike price\n",
    "ndays = (opcion_valuar.Expiry - today).days\n",
    "nscen = 100000\n",
    "dates = pd.date_range(start= Hoy, periods = ndays)\n",
    "S0 = closes_aapl.iloc[-1,0]  # Condición inicial del precio a simular\n",
    "\n",
    "sim_ret = pd.DataFrame(sigma*np.random.randn(ndays,nscen)+r,index=dates)\n",
    "sim_closes = S0*np.exp(sim_ret.cumsum())\n",
    "#strike = pd.DataFrame({'Strike':K*np.ones(ndays)}, index=dates)\n",
    "#simul = pd.concat([closes_aapl.T,strike.T,sim"
   ]
  },
  {
   "cell_type": "code",
   "execution_count": null,
   "metadata": {},
   "outputs": [],
   "source": [
    "strike = pd.DataFrame(K*np.ones([ndays,nscen]), index=dates)\n",
    "put = pd.DataFrame({'Prima':np.exp(-r*ndays) \\\n",
    "              *np.fmax(strike-sim_closes,np.zeros([ndays,nscen])).mean(axis=1)}, index=dates)\n",
    "put.plot();"
   ]
  },
  {
   "cell_type": "code",
   "execution_count": null,
   "metadata": {},
   "outputs": [],
   "source": [
    "#LA VALUACION DE LA OPCION ES:\n",
    "put.iloc[-1]"
   ]
  },
  {
   "cell_type": "code",
   "execution_count": null,
   "metadata": {},
   "outputs": [],
   "source": [
    "# Intervalo de confianza del 99%\n",
    "\n",
    "confianza = 0.99\n",
    "sigma_est = sim_closes.iloc[-1].sem()\n",
    "mean_est = put.iloc[-1].Prima\n",
    "i1 = st.t.interval(confianza,nscen-1, loc=mean_est, scale=sigma_est)\n",
    "i2 = st.norm.interval(confianza, loc=mean_est, scale=sigma_est)\n",
    "print(i1)\n",
    "print(i1)"
   ]
  },
  {
   "cell_type": "markdown",
   "metadata": {},
   "source": [
    "### Precios simulados usando técnicas de reducción de varianza"
   ]
  },
  {
   "cell_type": "code",
   "execution_count": null,
   "metadata": {},
   "outputs": [],
   "source": [
    "# Usando muestreo estratificado----> #estratros = nscen\n",
    "U = (np.arange(0,nscen)+np.random.rand(ndays,nscen))/nscen\n",
    "Z = st.norm.ppf(U)\n",
    "\n",
    "sim_ret2 = pd.DataFrame(sigma*Z+r,index=dates)\n",
    "sim_closes2 = S0*np.exp(sim_ret.cumsum())\n",
    "\n",
    "# Función de pago\n",
    "strike = pd.DataFrame(K*np.ones([ndays,nscen]), index=dates)\n",
    "put = pd.DataFrame({'Prima':np.exp(-r*ndays) \\\n",
    "              *np.fmax(strike-sim_closes2,np.zeros([ndays,nscen])).T.mean()}, index=dates)\n",
    "put.plot();"
   ]
  },
  {
   "cell_type": "code",
   "execution_count": null,
   "metadata": {},
   "outputs": [],
   "source": [
    "#LA VALUACION DE LA OPCION ES:\n",
    "put.iloc[-1]"
   ]
  },
  {
   "cell_type": "markdown",
   "metadata": {},
   "source": [
    "Intervalo de confianza del 99%"
   ]
  },
  {
   "cell_type": "code",
   "execution_count": null,
   "metadata": {},
   "outputs": [],
   "source": [
    "confianza = 0.99\n",
    "sigma_est = sim_closes2.iloc[-1].sem()\n",
    "mean_est = put.iloc[-1].Prima\n",
    "i1 = st.t.interval(confianza,nscen-1, loc=mean_est, scale=sigma_est)\n",
    "i2 = st.norm.interval(confianza, loc=mean_est, scale=sigma_est)\n",
    "print(i1)\n",
    "print(i1)"
   ]
  },
  {
   "cell_type": "markdown",
   "metadata": {},
   "source": [
    "### Análisis de la distribución de los rendimientos"
   ]
  },
  {
   "cell_type": "markdown",
   "metadata": {},
   "source": [
    "#### Ajustando norm"
   ]
  },
  {
   "cell_type": "code",
   "execution_count": null,
   "metadata": {},
   "outputs": [],
   "source": [
    "ren = calc_daily_ret(closes_aapl) # rendimientos \n",
    "y,x,des = plt.hist(ren['AAPL'],bins=50,density=True,label='Histograma rendimientos')\n",
    "\n",
    "mu_fit,sd_fit = st.norm.fit(ren) # Se ajustan los parámetros de una normal\n",
    "# Valores máximo y mínimo de los rendiemientos a generar\n",
    "ren_max = max(x);ren_min = min(x)\n",
    "# Vector de rendimientos generados\n",
    "ren_gen = np.arange(ren_min,ren_max,0.001)\n",
    "# Generación de la normal ajustado con los parámetros encontrados\n",
    "curve_fit = st.norm.pdf(ren_gen,loc=mu_fit,scale=sd_fit)\n",
    "plt.plot(ren_gen,curve_fit,label='Distribución ajustada')\n",
    "plt.legend()\n",
    "plt.show()"
   ]
  },
  {
   "cell_type": "markdown",
   "metadata": {},
   "source": [
    "#### Ajustando t"
   ]
  },
  {
   "cell_type": "code",
   "execution_count": null,
   "metadata": {},
   "outputs": [],
   "source": [
    "ren = calc_daily_ret(closes_aapl) # rendimientos \n",
    "y,x,des = plt.hist(ren['AAPL'],bins=50,density=True,label='Histograma rendimientos')\n",
    "\n",
    "dof,mu_fit,sd_fit = st.t.fit(ren) # Se ajustan los parámetros de una normal\n",
    "# Valores máximo y mínimo de los rendiemientos a generar\n",
    "# ren_max = max(x);ren_min = min(x)\n",
    "# Vector de rendimientos generados\n",
    "ren_gen = np.arange(ren_min,ren_max,0.001)\n",
    "# Generación de la normal ajustado con los parámetros encontrados\n",
    "curve_fit = st.t.pdf(ren_gen,df=dof,loc=mu_fit,scale=sd_fit)\n",
    "plt.plot(ren_gen,curve_fit,label='Distribución ajustada')\n",
    "plt.legend()\n",
    "plt.show()"
   ]
  },
  {
   "cell_type": "code",
   "execution_count": null,
   "metadata": {},
   "outputs": [],
   "source": [
    "st.probplot(ren['AAPL'],sparams= dof, dist='t', plot=plt);"
   ]
  },
  {
   "cell_type": "markdown",
   "metadata": {},
   "source": [
    "### 3. Valuación usando simulación: uso del histograma de rendimientos\n",
    "\n",
    "Todo el análisis anterior se mantiene. Solo cambia la forma de generar los números aleatorios para la simulación montecarlo.\n",
    "\n",
    "Ahora, generemos un histograma de los rendimientos diarios para generar valores aleatorios de los rendimientos simulados."
   ]
  },
  {
   "cell_type": "code",
   "execution_count": null,
   "metadata": {},
   "outputs": [],
   "source": [
    "# Cantidad de dias y numero de escenarios\n",
    "ndays = 109 \n",
    "nscen = 10"
   ]
  },
  {
   "cell_type": "code",
   "execution_count": null,
   "metadata": {},
   "outputs": [],
   "source": [
    "#Probabilidad de ocurrencia es y\n",
    "prob = y/np.sum(y)\n",
    "values = x[1:]"
   ]
  },
  {
   "cell_type": "code",
   "execution_count": null,
   "metadata": {},
   "outputs": [],
   "source": [
    "ret = np.random.choice(values, ndays*nscen, p=prob)\n",
    "dates = pd.date_range(start=Hoy,periods=ndays)\n",
    "sim_ret_hist = pd.DataFrame(ret.reshape((ndays,nscen)),index=dates)\n",
    "sim_ret_hist"
   ]
  },
  {
   "cell_type": "code",
   "execution_count": null,
   "metadata": {},
   "outputs": [],
   "source": [
    "sim_closes_hist = (closes_aapl.iloc[-1,0])*np.exp(sim_ret_hist.cumsum())\n",
    "sim_closes_hist"
   ]
  },
  {
   "cell_type": "code",
   "execution_count": null,
   "metadata": {},
   "outputs": [],
   "source": [
    "sim_closes_hist.plot(figsize=(8,6),legend=False);"
   ]
  },
  {
   "cell_type": "code",
   "execution_count": null,
   "metadata": {},
   "outputs": [],
   "source": [
    "pd.concat([closes_aapl,sim_closes_hist]).plot(figsize=(8,6),legend=False);\n",
    "plt.title('Simulación usando el histograma de los rendimientos')"
   ]
  },
  {
   "cell_type": "code",
   "execution_count": null,
   "metadata": {},
   "outputs": [],
   "source": [
    "K=240\n",
    "ndays = 109\n",
    "nscen = 10000\n",
    "freq, values = np.histogram(ret_aapl+r-mu, bins=2000)\n",
    "prob = freq/np.sum(freq)\n",
    "ret=np.random.choice(values[1:],ndays*nscen,p=prob)\n",
    "dates=pd.date_range('2018-10-29',periods=ndays)\n",
    "sim_ret_hist = pd.DataFrame(ret.reshape((ndays,nscen)),index=dates)\n",
    "sim_closes_hist = (closes_aapl.iloc[-1,0])*np.exp(sim_ret_hist.cumsum())"
   ]
  },
  {
   "cell_type": "code",
   "execution_count": null,
   "metadata": {},
   "outputs": [],
   "source": [
    "strike = pd.DataFrame(K*np.ones(ndays*nscen).reshape((ndays,nscen)), index=dates)\n",
    "put_hist = pd.DataFrame({'Prima':np.exp(-r*ndays)*np.fmax(strike-sim_closes_hist,np.zeros(ndays*nscen).reshape((ndays,nscen))).T.mean()}, index=dates)\n",
    "put_hist.plot();"
   ]
  },
  {
   "cell_type": "code",
   "execution_count": null,
   "metadata": {},
   "outputs": [],
   "source": [
    "put_hist.iloc[-1]"
   ]
  },
  {
   "cell_type": "code",
   "execution_count": null,
   "metadata": {},
   "outputs": [],
   "source": [
    "opcion_valuar['JSON']"
   ]
  },
  {
   "cell_type": "markdown",
   "metadata": {},
   "source": [
    "Intervalo de confianza del 95%"
   ]
  },
  {
   "cell_type": "code",
   "execution_count": null,
   "metadata": {},
   "outputs": [],
   "source": [
    "confianza = 0.95\n",
    "sigma_est = sim_closes_hist.iloc[-1].sem()\n",
    "mean_est = put_hist.iloc[-1].Prima\n",
    "i1 = st.t.interval(confianza,nscen-1, loc=mean_est, scale=sigma_est)\n",
    "i2 = st.norm.interval(confianza, loc=mean_est, scale=sigma_est)\n",
    "print(i1)\n",
    "print(i1)"
   ]
  },
  {
   "cell_type": "code",
   "execution_count": null,
   "metadata": {},
   "outputs": [],
   "source": []
  },
  {
   "cell_type": "code",
   "execution_count": 22,
   "metadata": {},
   "outputs": [
    {
     "name": "stdout",
     "output_type": "stream",
     "text": [
      "Collecting yfinance\n",
      "  Downloading yfinance-0.1.67-py2.py3-none-any.whl (25 kB)\n",
      "Requirement already satisfied: pandas>=0.24 in /Users/marcosanchez/opt/anaconda3/lib/python3.8/site-packages (from yfinance) (1.2.4)\n",
      "Requirement already satisfied: lxml>=4.5.1 in /Users/marcosanchez/opt/anaconda3/lib/python3.8/site-packages (from yfinance) (4.6.3)\n",
      "Requirement already satisfied: requests>=2.20 in /Users/marcosanchez/opt/anaconda3/lib/python3.8/site-packages (from yfinance) (2.25.1)\n",
      "Collecting multitasking>=0.0.7\n",
      "  Downloading multitasking-0.0.10.tar.gz (8.2 kB)\n",
      "Requirement already satisfied: numpy>=1.15 in /Users/marcosanchez/opt/anaconda3/lib/python3.8/site-packages (from yfinance) (1.20.1)\n",
      "Requirement already satisfied: python-dateutil>=2.7.3 in /Users/marcosanchez/opt/anaconda3/lib/python3.8/site-packages (from pandas>=0.24->yfinance) (2.8.1)\n",
      "Requirement already satisfied: pytz>=2017.3 in /Users/marcosanchez/opt/anaconda3/lib/python3.8/site-packages (from pandas>=0.24->yfinance) (2021.1)\n",
      "Requirement already satisfied: six>=1.5 in /Users/marcosanchez/opt/anaconda3/lib/python3.8/site-packages (from python-dateutil>=2.7.3->pandas>=0.24->yfinance) (1.15.0)\n",
      "Requirement already satisfied: chardet<5,>=3.0.2 in /Users/marcosanchez/opt/anaconda3/lib/python3.8/site-packages (from requests>=2.20->yfinance) (4.0.0)\n",
      "Requirement already satisfied: certifi>=2017.4.17 in /Users/marcosanchez/opt/anaconda3/lib/python3.8/site-packages (from requests>=2.20->yfinance) (2020.12.5)\n",
      "Requirement already satisfied: urllib3<1.27,>=1.21.1 in /Users/marcosanchez/opt/anaconda3/lib/python3.8/site-packages (from requests>=2.20->yfinance) (1.26.4)\n",
      "Requirement already satisfied: idna<3,>=2.5 in /Users/marcosanchez/opt/anaconda3/lib/python3.8/site-packages (from requests>=2.20->yfinance) (2.10)\n",
      "Building wheels for collected packages: multitasking\n",
      "  Building wheel for multitasking (setup.py) ... \u001b[?25ldone\n",
      "\u001b[?25h  Created wheel for multitasking: filename=multitasking-0.0.10-py3-none-any.whl size=8488 sha256=854ddc4ec8778fa56441b6c51efcd493f77cefaad4308430d7cf7919aa2ed62e\n",
      "  Stored in directory: /Users/marcosanchez/Library/Caches/pip/wheels/21/c9/66/b41c847de65c7985db52ec21d59996841598b8b0e93f2b9500\n",
      "Successfully built multitasking\n",
      "Installing collected packages: multitasking, yfinance\n",
      "Successfully installed multitasking-0.0.10 yfinance-0.1.67\n",
      "Note: you may need to restart the kernel to use updated packages.\n"
     ]
    }
   ],
   "source": [
    "pip install yfinance"
   ]
  },
  {
   "cell_type": "code",
   "execution_count": 23,
   "metadata": {},
   "outputs": [],
   "source": []
  },
  {
   "cell_type": "code",
   "execution_count": null,
   "metadata": {},
   "outputs": [],
   "source": [
    "\n",
    " \n"
   ]
  },
  {
   "cell_type": "markdown",
   "metadata": {},
   "source": [
    "#### Solución estudiante 2"
   ]
  },
  {
   "cell_type": "code",
   "execution_count": 15,
   "metadata": {},
   "outputs": [],
   "source": [
    "# Librerías necesarias\n",
    "import pandas as pd\n",
    "import numpy as np\n",
    "import datetime\n",
    "import yfinance as yf\n",
    "import scipy.stats as st\n",
    "import matplotlib.pyplot as plt\n",
    "%matplotlib inline"
   ]
  },
  {
   "cell_type": "code",
   "execution_count": 36,
   "metadata": {},
   "outputs": [],
   "source": [
    "# Funciones necesarias\n",
    "def options_yf(ticker):\n",
    "    stock = yf.Ticker(ticker)\n",
    "    calls, puts = {}, {}\n",
    "    def options_yf_(n):\n",
    "        nonlocal stock\n",
    "        calls[stock.options[n]] = stock.option_chain(stock.options[n])[0]\n",
    "        puts[stock.options[n]] = stock.option_chain(stock.options[n])[1]\n",
    "    [options_yf_(n) for n in range(len(stock.options))]\n",
    "    return calls, puts\n",
    "\n",
    "def valuacionPut(ticker, fechaInicio, precioEjercicio, fechaExpiracion, rf, escenarios, \n",
    "                  metodo : \"Rendimientos simples, Rendimientos logarítmicos, Modelo Normal, Histograma\"):\n",
    "    precios = yf.download(ticker, start = fechaInicio, end = None, progress = False)[\"Adj Close\"]\n",
    "    precioInicial = precios.iloc[-1] # se descargan los precios\n",
    "    \n",
    "    #Metodos \n",
    "    if metodo == \"Rendimientos simples\":\n",
    "        rendimiento = precios.pct_change().dropna()\n",
    "        media = rendimiento.mean()\n",
    "        volatilidad = rendimiento.std()\n",
    "        \n",
    "    elif metodo == \"Rendimientos logarítmicos\":\n",
    "        rendimiento = np.log(precios / precios.shift(1)).dropna()\n",
    "        media = rendimiento.mean()\n",
    "        volatilidad = rendimiento.std()\n",
    "        \n",
    "    elif metodo == \"Modelo Normal\":\n",
    "        rendimiento = np.log(precios / precios.shift(1)).dropna()\n",
    "        volatilidad = rendimiento.std()\n",
    "        \n",
    "    else:\n",
    "        rendimiento = np.log(precios / precios.shift(1)).dropna()\n",
    "        media = rendimiento.mean()\n",
    "        volatilidad = rendimiento.std()\n",
    "\n",
    "    # Simulación de precios\n",
    "    fechas = pd.date_range(start = datetime.date.today(), end = fechaExpiracion, freq = \"B\") \n",
    "    dias = len(fechas)\n",
    "    \n",
    "    if metodo == \"Rendimientos simples\" or metodo == \"Rendimientos logarítmicos\":\n",
    "        Z = np.random.randn(dias, escenarios)\n",
    "        rendimientosSimulados = pd.DataFrame(media + Z * volatilidad, index = fechas)\n",
    "        \n",
    "        if metodo == \"Rendimientos simples\":\n",
    "            preciosSimulados = precioInicial * (rendimientosSimulados + 1).cumprod()\n",
    "            preciosSimulados.iloc[0, :] = precioInicial \n",
    "    \n",
    "        else:\n",
    "            preciosSimulados = precioInicial * np.exp(rendimientosSimulados.cumsum())\n",
    "            preciosSimulados.iloc[0, :] = precioInicial \n",
    "        \n",
    "    elif metodo == \"Modelo Normal\":\n",
    "        Z = np.random.randn(dias, escenarios)\n",
    "        rendimientosSimulados = pd.DataFrame(volatilidad * Z + rf, index = fechas)\n",
    "        preciosSimulados = precioInicial * np.exp(rendimientosSimulados.cumsum())\n",
    "        preciosSimulados.iloc[0, :] = precioInicial\n",
    "        \n",
    "    else:\n",
    "        y, x = np.histogram(rendimiento + rf - media, bins = 2000)\n",
    "        y = y / np.sum(y)\n",
    "        rendimientosSimulados_ = np.random.choice(x[1:], dias * escenarios, p = y)\n",
    "        rendimientosSimulados = pd.DataFrame(rendimientosSimulados_.reshape((dias, escenarios)), index = fechas)\n",
    "        preciosSimulados = precioInicial * np.exp(rendimientosSimulados.cumsum())\n",
    "        \n",
    "    # Valuación\n",
    "    if metodo == \"Simple\" or metodo == \"Logarítmico\":\n",
    "        put = pd.DataFrame({\"Prima\" : np.exp(-media * dias) * np.fmax(precioEjercicio - preciosSimulados, 0).mean(axis = 1)}, \n",
    "                           index = fechas) \n",
    "    else:\n",
    "        put = pd.DataFrame({\"Prima\" : np.exp(-rf * dias) * np.fmax(precioEjercicio - preciosSimulados, 0).mean(axis = 1)}, \n",
    "                           index = fechas) \n",
    "    \n",
    "    intervaloConfianza = st.norm.interval(0.99, loc = put.iloc[-1].values[0], scale = st.sem(preciosSimulados.iloc[-1]))\n",
    "    \n",
    "    # Resultados\n",
    "    put.plot(figsize = (8, 5), title = metodo)\n",
    "        \n",
    "    return put.iloc[-1].values[0], intervaloConfianza[0], intervaloConfianza[1]"
   ]
  },
  {
   "cell_type": "code",
   "execution_count": 38,
   "metadata": {},
   "outputs": [],
   "source": [
    "def blackScholesPut(ticker, fechaInicio, precioEjercicio, fechaExpiracion, rf):\n",
    "    # Descarga de precios de cierre históricos para la acción\n",
    "    precios = yf.download(ticker, start = fechaInicio, end = None, progress = False)[\"Adj Close\"]\n",
    "    precioInicial = precios.iloc[-1]\n",
    "    \n",
    "    # Rendimientos logarítmicos\n",
    "    rendimiento = np.log(precios / precios.shift(1)).dropna()\n",
    "    volatilidad = rendimiento.std()\n",
    "    \n",
    "    # Black and Scholes\n",
    "    t = len(pd.date_range(start = datetime.date.today(), end = fechaExpiracion, freq = \"B\"))\n",
    "    \n",
    "    d1 = (np.log(precioInicial / precioEjercicio) + (rf + 0.5 * volatilidad ** 2) * t) / (volatilidad * np.sqrt(t))\n",
    "    d2 = (np.log(precioInicial / precioEjercicio) + (rf - 0.5 * volatilidad ** 2) * t) / (volatilidad * np.sqrt(t))\n",
    "    return precioEjercicio * np.exp(-rf * t) * st.norm.cdf(-d2)  - precioInicial * st.norm.cdf(-d1) "
   ]
  },
  {
   "cell_type": "code",
   "execution_count": 39,
   "metadata": {},
   "outputs": [
    {
     "data": {
      "text/html": [
       "<div>\n",
       "<style scoped>\n",
       "    .dataframe tbody tr th:only-of-type {\n",
       "        vertical-align: middle;\n",
       "    }\n",
       "\n",
       "    .dataframe tbody tr th {\n",
       "        vertical-align: top;\n",
       "    }\n",
       "\n",
       "    .dataframe thead th {\n",
       "        text-align: right;\n",
       "    }\n",
       "</style>\n",
       "<table border=\"1\" class=\"dataframe\">\n",
       "  <thead>\n",
       "    <tr style=\"text-align: right;\">\n",
       "      <th></th>\n",
       "      <th>contractSymbol</th>\n",
       "      <th>lastTradeDate</th>\n",
       "      <th>strike</th>\n",
       "      <th>...</th>\n",
       "      <th>inTheMoney</th>\n",
       "      <th>contractSize</th>\n",
       "      <th>currency</th>\n",
       "    </tr>\n",
       "  </thead>\n",
       "  <tbody>\n",
       "    <tr>\n",
       "      <th>53</th>\n",
       "      <td>MSFT220121P00335000</td>\n",
       "      <td>2021-11-23 20:57:57</td>\n",
       "      <td>335.0</td>\n",
       "      <td>...</td>\n",
       "      <td>False</td>\n",
       "      <td>REGULAR</td>\n",
       "      <td>USD</td>\n",
       "    </tr>\n",
       "    <tr>\n",
       "      <th>54</th>\n",
       "      <td>MSFT220121P00340000</td>\n",
       "      <td>2021-11-23 20:44:05</td>\n",
       "      <td>340.0</td>\n",
       "      <td>...</td>\n",
       "      <td>True</td>\n",
       "      <td>REGULAR</td>\n",
       "      <td>USD</td>\n",
       "    </tr>\n",
       "    <tr>\n",
       "      <th>55</th>\n",
       "      <td>MSFT220121P00345000</td>\n",
       "      <td>2021-11-23 20:59:18</td>\n",
       "      <td>345.0</td>\n",
       "      <td>...</td>\n",
       "      <td>True</td>\n",
       "      <td>REGULAR</td>\n",
       "      <td>USD</td>\n",
       "    </tr>\n",
       "    <tr>\n",
       "      <th>56</th>\n",
       "      <td>MSFT220121P00350000</td>\n",
       "      <td>2021-11-23 20:57:49</td>\n",
       "      <td>350.0</td>\n",
       "      <td>...</td>\n",
       "      <td>True</td>\n",
       "      <td>REGULAR</td>\n",
       "      <td>USD</td>\n",
       "    </tr>\n",
       "    <tr>\n",
       "      <th>57</th>\n",
       "      <td>MSFT220121P00355000</td>\n",
       "      <td>2021-11-23 20:59:05</td>\n",
       "      <td>355.0</td>\n",
       "      <td>...</td>\n",
       "      <td>True</td>\n",
       "      <td>REGULAR</td>\n",
       "      <td>USD</td>\n",
       "    </tr>\n",
       "    <tr>\n",
       "      <th>58</th>\n",
       "      <td>MSFT220121P00360000</td>\n",
       "      <td>2021-11-23 19:01:43</td>\n",
       "      <td>360.0</td>\n",
       "      <td>...</td>\n",
       "      <td>True</td>\n",
       "      <td>REGULAR</td>\n",
       "      <td>USD</td>\n",
       "    </tr>\n",
       "    <tr>\n",
       "      <th>59</th>\n",
       "      <td>MSFT220121P00365000</td>\n",
       "      <td>2021-11-23 16:45:11</td>\n",
       "      <td>365.0</td>\n",
       "      <td>...</td>\n",
       "      <td>True</td>\n",
       "      <td>REGULAR</td>\n",
       "      <td>USD</td>\n",
       "    </tr>\n",
       "    <tr>\n",
       "      <th>60</th>\n",
       "      <td>MSFT220121P00370000</td>\n",
       "      <td>2021-11-23 19:57:41</td>\n",
       "      <td>370.0</td>\n",
       "      <td>...</td>\n",
       "      <td>True</td>\n",
       "      <td>REGULAR</td>\n",
       "      <td>USD</td>\n",
       "    </tr>\n",
       "    <tr>\n",
       "      <th>61</th>\n",
       "      <td>MSFT220121P00375000</td>\n",
       "      <td>2021-11-23 15:02:15</td>\n",
       "      <td>375.0</td>\n",
       "      <td>...</td>\n",
       "      <td>True</td>\n",
       "      <td>REGULAR</td>\n",
       "      <td>USD</td>\n",
       "    </tr>\n",
       "  </tbody>\n",
       "</table>\n",
       "<p>9 rows × 14 columns</p>\n",
       "</div>"
      ],
      "text/plain": [
       "         contractSymbol       lastTradeDate  strike  ...  inTheMoney  \\\n",
       "53  MSFT220121P00335000 2021-11-23 20:57:57   335.0  ...       False   \n",
       "54  MSFT220121P00340000 2021-11-23 20:44:05   340.0  ...        True   \n",
       "55  MSFT220121P00345000 2021-11-23 20:59:18   345.0  ...        True   \n",
       "56  MSFT220121P00350000 2021-11-23 20:57:49   350.0  ...        True   \n",
       "57  MSFT220121P00355000 2021-11-23 20:59:05   355.0  ...        True   \n",
       "58  MSFT220121P00360000 2021-11-23 19:01:43   360.0  ...        True   \n",
       "59  MSFT220121P00365000 2021-11-23 16:45:11   365.0  ...        True   \n",
       "60  MSFT220121P00370000 2021-11-23 19:57:41   370.0  ...        True   \n",
       "61  MSFT220121P00375000 2021-11-23 15:02:15   375.0  ...        True   \n",
       "\n",
       "    contractSize  currency  \n",
       "53       REGULAR       USD  \n",
       "54       REGULAR       USD  \n",
       "55       REGULAR       USD  \n",
       "56       REGULAR       USD  \n",
       "57       REGULAR       USD  \n",
       "58       REGULAR       USD  \n",
       "59       REGULAR       USD  \n",
       "60       REGULAR       USD  \n",
       "61       REGULAR       USD  \n",
       "\n",
       "[9 rows x 14 columns]"
      ]
     },
     "execution_count": 39,
     "metadata": {},
     "output_type": "execute_result"
    }
   ],
   "source": [
    "ticker = \"MSFT\"\n",
    "fechaExpiracion = \"2022-01-21\"\n",
    "calls , puts = options_yf(ticker)\n",
    "puts = puts[fechaExpiracion][(puts[fechaExpiracion][\"strike\"] >= 335) & (puts[fechaExpiracion][\"strike\"] <= 375)]\n",
    "puts"
   ]
  },
  {
   "cell_type": "code",
   "execution_count": 44,
   "metadata": {},
   "outputs": [
    {
     "data": {
      "text/html": [
       "<div>\n",
       "<style scoped>\n",
       "    .dataframe tbody tr th:only-of-type {\n",
       "        vertical-align: middle;\n",
       "    }\n",
       "\n",
       "    .dataframe tbody tr th {\n",
       "        vertical-align: top;\n",
       "    }\n",
       "\n",
       "    .dataframe thead th {\n",
       "        text-align: right;\n",
       "    }\n",
       "</style>\n",
       "<table border=\"1\" class=\"dataframe\">\n",
       "  <thead>\n",
       "    <tr style=\"text-align: right;\">\n",
       "      <th></th>\n",
       "      <th>Prima Real</th>\n",
       "      <th>Prima Teórica B&amp;S</th>\n",
       "      <th>% Error relativo (prima real)</th>\n",
       "    </tr>\n",
       "  </thead>\n",
       "  <tbody>\n",
       "    <tr>\n",
       "      <th>K = 350.0 2022-01-21</th>\n",
       "      <td>19.0</td>\n",
       "      <td>22.152</td>\n",
       "      <td>16.59</td>\n",
       "    </tr>\n",
       "  </tbody>\n",
       "</table>\n",
       "</div>"
      ],
      "text/plain": [
       "                      Prima Real  Prima Teórica B&S  \\\n",
       "K = 350.0 2022-01-21        19.0             22.152   \n",
       "\n",
       "                      % Error relativo (prima real)  \n",
       "K = 350.0 2022-01-21                          16.59  "
      ]
     },
     "execution_count": 44,
     "metadata": {},
     "output_type": "execute_result"
    }
   ],
   "source": [
    "# Modelo de Black & Scholes\n",
    "fechaInicio = \"2015-11-15\" \n",
    "indicePut = 56\n",
    "precioEjercicio = puts.loc[indicePut].strike \n",
    "rf = 0.0018 / 360 \n",
    "N = 10000 \n",
    "primaReal = puts.loc[indicePut].lastPrice \n",
    "primaTeorica = blackScholesPut(ticker, fechaInicio, precioEjercicio, fechaExpiracion, rf)\n",
    "resultados = pd.DataFrame({\"Prima Real\" : primaReal, \"Prima Teórica B&S\" : primaTeorica}, \n",
    "                         index = [\"K = \" + str(precioEjercicio)+ \" \" + fechaExpiracion])\n",
    "\n",
    "resultados[\"% Error relativo (prima real)\"] = np.round(abs(primaTeorica - primaReal) / primaReal * 100, 2)\n",
    "resultados"
   ]
  },
  {
   "cell_type": "code",
   "execution_count": 41,
   "metadata": {},
   "outputs": [
    {
     "data": {
      "text/html": [
       "<div>\n",
       "<style scoped>\n",
       "    .dataframe tbody tr th:only-of-type {\n",
       "        vertical-align: middle;\n",
       "    }\n",
       "\n",
       "    .dataframe tbody tr th {\n",
       "        vertical-align: top;\n",
       "    }\n",
       "\n",
       "    .dataframe thead th {\n",
       "        text-align: right;\n",
       "    }\n",
       "</style>\n",
       "<table border=\"1\" class=\"dataframe\">\n",
       "  <thead>\n",
       "    <tr style=\"text-align: right;\">\n",
       "      <th></th>\n",
       "      <th>Prima</th>\n",
       "      <th>Límite inferior (99% confianza)</th>\n",
       "      <th>Límite superior (99% confianza)</th>\n",
       "      <th>% Error relativo (prima real)</th>\n",
       "      <th>% Error relativo (prima teórica B&amp;S)</th>\n",
       "    </tr>\n",
       "  </thead>\n",
       "  <tbody>\n",
       "    <tr>\n",
       "      <th>Rendimientos simples</th>\n",
       "      <td>11.417</td>\n",
       "      <td>10.394</td>\n",
       "      <td>12.440</td>\n",
       "      <td>39.91</td>\n",
       "      <td>48.46</td>\n",
       "    </tr>\n",
       "    <tr>\n",
       "      <th>Rendimientos logarítmicos</th>\n",
       "      <td>11.397</td>\n",
       "      <td>10.353</td>\n",
       "      <td>12.441</td>\n",
       "      <td>40.02</td>\n",
       "      <td>48.55</td>\n",
       "    </tr>\n",
       "    <tr>\n",
       "      <th>Modelo Normal</th>\n",
       "      <td>21.007</td>\n",
       "      <td>20.034</td>\n",
       "      <td>21.981</td>\n",
       "      <td>10.56</td>\n",
       "      <td>5.17</td>\n",
       "    </tr>\n",
       "    <tr>\n",
       "      <th>Histograma</th>\n",
       "      <td>20.309</td>\n",
       "      <td>19.331</td>\n",
       "      <td>21.286</td>\n",
       "      <td>6.89</td>\n",
       "      <td>8.32</td>\n",
       "    </tr>\n",
       "  </tbody>\n",
       "</table>\n",
       "</div>"
      ],
      "text/plain": [
       "                            Prima  Límite inferior (99% confianza)  \\\n",
       "Rendimientos simples       11.417                           10.394   \n",
       "Rendimientos logarítmicos  11.397                           10.353   \n",
       "Modelo Normal              21.007                           20.034   \n",
       "Histograma                 20.309                           19.331   \n",
       "\n",
       "                           Límite superior (99% confianza)  \\\n",
       "Rendimientos simples                                12.440   \n",
       "Rendimientos logarítmicos                           12.441   \n",
       "Modelo Normal                                       21.981   \n",
       "Histograma                                          21.286   \n",
       "\n",
       "                           % Error relativo (prima real)  \\\n",
       "Rendimientos simples                               39.91   \n",
       "Rendimientos logarítmicos                          40.02   \n",
       "Modelo Normal                                      10.56   \n",
       "Histograma                                          6.89   \n",
       "\n",
       "                           % Error relativo (prima teórica B&S)  \n",
       "Rendimientos simples                                      48.46  \n",
       "Rendimientos logarítmicos                                 48.55  \n",
       "Modelo Normal                                              5.17  \n",
       "Histograma                                                 8.32  "
      ]
     },
     "execution_count": 41,
     "metadata": {},
     "output_type": "execute_result"
    },
    {
     "data": {
      "image/png": "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\n",
      "text/plain": [
       "<Figure size 576x360 with 1 Axes>"
      ]
     },
     "metadata": {
      "needs_background": "light"
     },
     "output_type": "display_data"
    },
    {
     "data": {
      "image/png": "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\n",
      "text/plain": [
       "<Figure size 576x360 with 1 Axes>"
      ]
     },
     "metadata": {
      "needs_background": "light"
     },
     "output_type": "display_data"
    },
    {
     "data": {
      "image/png": "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\n",
      "text/plain": [
       "<Figure size 576x360 with 1 Axes>"
      ]
     },
     "metadata": {
      "needs_background": "light"
     },
     "output_type": "display_data"
    },
    {
     "data": {
      "image/png": "iVBORw0KGgoAAAANSUhEUgAAAeAAAAFhCAYAAACoOHnoAAAAOXRFWHRTb2Z0d2FyZQBNYXRwbG90bGliIHZlcnNpb24zLjMuNCwgaHR0cHM6Ly9tYXRwbG90bGliLm9yZy8QVMy6AAAACXBIWXMAAAsTAAALEwEAmpwYAAA1YUlEQVR4nO3dd3xW5fnH8c8VIIS9EoaBEPZeEhBBBUct4t5S+xOLlaqtnda66qijjqq12taioqIU91aKWEEcyJS9N4FAIDEJIzvX7488WEoJGSQ5efJ8368XrzzPOXfOuU5yHr65z7iPuTsiIiJSvaKCLkBERCQSKYBFREQCoAAWEREJgAJYREQkAApgERGRACiARUREAqAAFgmQma0ws1FB1yEi1U8BLFKFzGyzmZ1x2LSrzewLAHfv4+6zSllGopm5mdWtwlJFpJopgEUinIJdJBgKYJEAHdpDNrOhZrbAzLLMbJeZPRZqNjv0NcPM9pnZiWYWZWZ3mNkWM0s1s8lm1uyQ5V4VmpdmZr8/bD13m9kbZvaymWUBV4fWPcfMMswsxcyeMrPoQ5bnZnaDma0zs71mdq+ZdQl9T5aZvXawvZm1MLMPzGy3mX0bet2+Wn6gImFEASxSczwBPOHuTYEuwGuh6aeEvjZ398buPge4OvTvVKAz0Bh4CsDMegN/A64E2gHNgPjD1nU+8AbQHJgCFAK/AmKBE4HTgRsO+57RwGBgGHAzMDG0jg5AX2BsqF0U8DzQEUgAsg/WJiL/oQAWqXrvhHqWGWaWQXE4Hkk+0NXMYt19n7t/fZRlXgk85u4b3X0fcCtwRehw8iXA++7+hbvnAXcChw/6Psfd33H3InfPdveF7v61uxe4+2bgH8DIw77nIXfPcvcVwHLg49D6M4FpwCAAd09z9zfd/YC77wXuP8KyRCKeAlik6l3g7s0P/uN/e5YHXQN0B1ab2XwzO+coyzwO2HLI+y1AXaBNaN62gzPc/QCQdtj3bzv0jZl1Dx0q3hk6LP0Axb3hQ+065HX2Ed43Di2roZn9I3QIPIviQ+jNzazOUbZHJOIogEVqCHdf5+5jgdbAQ8AbZtaI/+29Auyg+BDvQQlAAcWhmAJ8d87VzBoArQ5f3WHv/w6sBrqFDoHfBlgFN+U3QA/ghNCyDh5Cr+jyRGolBbBIDWFmPzSzOHcvAjJCkwuB3UARxed6D5oK/MrMOplZY4p7rK+6ewHF53bPNbPhoQuj7qH08GsCZAH7zKwncP0xbEoTinvEGWbWErjrGJYlUmspgEVqjtHACjPbR/EFWVe4e07oEPL9wJeh88jDgEnASxQf3t0E5AA3AoTO0d4IvEJxb3gvkArkHmXdNwE/CLV9Bnj1GLbjz0ADYA/wNfCvY1iWSK1l7kc6uiUitUWoh5xB8eHlTQGXIyIh6gGL1EJmdm7oYqhGwJ+AZcDmYKsSkUMpgEVqp/MpvlBrB9CN4sPZOtwlUoPoELSIiEgA1AMWEREJQLUOwh4bG+uJiYnVuUoREZHALFy4cI+7xx1pXrUGcGJiIgsWLKjOVYqIiATGzLaUNE+HoEVERAKgABYREQmAAlhERCQA1XoO+Ejy8/NJTk4mJycn6FICERMTQ/v27alXr17QpYiISDUKPICTk5Np0qQJiYmJmEXWw1LcnbS0NJKTk+nUqVPQ5YiISDUK/BB0Tk4OrVq1irjwBTAzWrVqFbG9fxGRSBZ4AAMRGb4HRfK2i4hEshoRwCIiIpFGAQzUqVOHgQMH0rdvXy699FIOHDhwxHbDhw+v5spERKS2UgADDRo0YPHixSxfvpzo6Giefvrp/5pfWFgIwFdffRVEeSIiEobyCoqOOl8BfJiTTz6Z9evXM2vWLE499VR+8IMf0K9fPwAaN24MwKxZsxg5ciSXXXYZ3bt355ZbbmHKlCkMHTqUfv36sWHDBgDef/99TjjhBAYNGsQZZ5zBrl27AtsuERGperkFhfx71S5+/dpiBt8346htA78N6VD3vL+ClTuyKnWZvY9ryl3n9ilT24KCAqZNm8bo0aMBmDdvHsuXLz/iLUJLlixh1apVtGzZks6dO/PjH/+YefPm8cQTT/Dkk0/y5z//mZNOOomvv/4aM+PZZ5/l4Ycf5tFHH63U7RMRkWDlFhTy+do9fLQshRmrdrE3p4AmMXU5s3dblh/l+2pUAAclOzubgQMHAsU94GuuuYavvvqKoUOHlnh/7pAhQ2jXrh0AXbp04cwzzwSgX79+zJw5Eyi+x/nyyy8nJSWFvLw83esrIlJL5OQX8vm64tD9ZOUu9uYW0DSmLt/v05az+7VjRNdYoutG8djlJS+jRgVwWXuqle3gOeDDNWrUqMTvqV+//nevo6KivnsfFRVFQUEBADfeeCO//vWvOe+885g1axZ33313pdYtIiLVKzUrhyf+vY73Fu9gb24BzRrUY3Tftozp344RXYpDt6xqVADXNpmZmcTHxwPw4osvBlyNiIhU1IG8AibO3sjE2RvJKyji/IHxnDugHcPLGbqHUgBXobvvvptLL72U+Ph4hg0bxqZNm4IuSUREyqGwyHl9wTYem7GW1L25jOnXlpu/35PE2JKPkJaVuXsllFg2SUlJvmDBgv+atmrVKnr16lVtNdRE+hmIiNQs7s6stbt58KPVrNm1l+MTmnP72b0Y3LFluZZjZgvdPelI80rtAZtZB2Ay0BYoAia6+xNm1hJ4FUgENgOXufu35apMRESkhlmxI5M/frSaL9bvoWOrhvztyuM5q2/bSh86uCyHoAuA37j7IjNrAiw0sxnA1cC/3f1BM7sFuAX4XaVWJyIiUk1SMrP50/S1vPVNMs0a1OPOc3rzw2EdK3yOtzSlBrC7pwApodd7zWwVEA+cD4wKNXsRmEUFA9jdI/ahBNV5CkBERIrtyy1g5Y4sVuzIZPn24q/rU/cRZcaEkztzw6ldadagap/TXq6LsMwsERgEzAXahMIZd08xs9YlfM8EYAJAQkLC/8yPiYkhLS0tIh9JePB5wDExMUGXIiJSa6Xty2XFjixW7Mhi+Y5MVu7IYtOe/d/Nj21cnz7HNeWMXm24fEgHOrRsWC11lTmAzawx8CbwS3fPKmtYuvtEYCIUX4R1+Pz27duTnJzM7t27y1pKrRITE0P79u2DLkNEpFYpKnL+vTqVZ2ZvZN7m9O+md2jZgD7tmnHRoHj6xjejz3FNad00mE5QmQLYzOpRHL5T3P2t0ORdZtYu1PttB6RWpIB69epphCgREakUOfmFvP3Ndp75fCMbd++nfYsG/Pb7PRiU0Jw+7ZrRrGHVHlYuj7JcBW3Ac8Aqd3/skFnvAeOAB0Nf362SCkVERErx7f48Xv56Cy/O2cyefXn0i2/Gk2MHcVbfttStUzOfO1SWHvAI4P+AZWa2ODTtNoqD9zUzuwbYClxaJRWKiIiUYGvaAZ77YiOvLUgmO7+QU3vEMeGULgzr3LLGX1dUlqugvwBK2orTK7ccERGR0i1NzuAfn21k2vIU6kQZFwyM59pTOtO9TZOgSyszDUUpIiJhY+2uvfxp+ho+XrmLJjF1mXBKF340IpE2AV1IdSwUwCIiUuNtSz/A45+s5e1vttM4ui6//l53fjQikSYxNeeiqvJSAIuISI2VujeHv366nn/O20qUGdee3JnrR3ahRaPooEs7ZgpgERGpcTKz85k4ewOTvthMXmERlyW15+end6NdswZBl1ZpFMAiIlJjZOcV8sJXm3n6sw1kZudz7oDj+NUZ3egc1zjo0iqdAlhERAKXvj+PqfO28uJXm0ndm8uoHnHcdGYP+sY3C7q0KqMAFhGRwCxLzuSFrzbz/tId5BUUMaJrK576wfEM7VS+5+6GIwWwiIhUq7yCIqYtT+HFrzazaGsGDaPrcFlSe8admEi3MLqP91gpgEVEpFqk7s3hn3O3MmXuVnbvzSWxVUPuPKc3Fw9uX+WP/quJFMAiIlJl8gqKmL85ndcWbOOjZSnkFzqjesQxbngiI7vFERVVs4eLrEoKYBERqVSpe3OYtXo3n65O5Yv1e9iXW0CT+nX5v2GJXHViRxJjGwVdYo2gABYRkWNSVOQs3Z7Jp6tTmbk6lWXbMwFo2zSGcwccx2k9WzOiaysaRityDqWfhoiIlFv6/jzmbEjj09WpfLY2lT378jCDQR2a89vv9+DUHq3p1a5JjX8iUZAUwCIiUqq9OfnM35zOV+vT+GpDGitTsgBoGlOXkT1ac1rPOEZ2b03LWjBEZHVRAIuIyP/IyS9k0ZZv+WpDGl9u2MPS5EwKi5zoulEMTmjBb77XneFdWzGgffMa+8D7mk4BLCIiAOQWFPLu4h28vWg7C7d+S15BEXWijP7tm3HdyM6M6BLL8R1bEFOvTtCl1goKYBGRCJe2L5cpc7cyec4W9uzLpUtcI64a1pHhXVsxJLFlWD/yryZTAIuIRKj1qft47otNvLUomdyCIkb1iOPHJ3VmRNdWuniqGiiARUQiiLszZ0Maz36xiU9XpxJdN4qLj49n/IhOETUMZE2gABYRiQB5BUW8v2QHz36xiVUpWcQ2juZXZ3TnymEJxDauH3R5EUkBLCJSi+UXFvHGwmSe/Pc6dmTm0K11Yx66uB/nD4zXxVQBUwCLiNRChUXO+0t28Pgna9mSdoCBHZrzwEX9GNk9Tud3a4hSA9jMJgHnAKnu3jc0bQDwNNAY2Axc6e5ZVViniIiUgbszfcUuHpuxhrW79tGzbROeG5fEaT1bK3hrmLL0gF8AngImHzLtWeAmd//MzMYDvwV+X/nliYhIWbg7n6/bw6Mfr2FJciadYxvx5NhBnN2vXUQ/cagmKzWA3X22mSUeNrkHMDv0egYwHQWwiEgg5m9O55Hpa5i3KZ345g14+JL+XDQoXiNU1XAVPQe8HDgPeBe4FOhQUkMzmwBMAEhISKjg6kRE5HBrdu7lj9NWMWvNbuKa1OcP5/fh8iEdqF9XF1eFg4oG8HjgL2Z2J/AekFdSQ3efCEwESEpK8gquT0REQvbsy+WxGWt5Zd5WmsTU49azenLViYk0iFbwhpMKBbC7rwbOBDCz7sDZlVmUiIj8r9yCQl74cjNPfbqe7PxCxg1P5Bend6N5Qz2BKBxVKIDNrLW7p5pZFHAHxVdEi4hIFXB3/rV8J3+ctpqt6Qc4vWdrbju7F13iGgddmhyDstyGNBUYBcSaWTJwF9DYzH4aavIW8HyVVSgiEsGWb8/kDx+sZN6mdHq0acJL1wzl5G5xQZcllaAsV0GPLWHWE5Vci4iIhOzKyuGR6Wt4c1EyLRtGc/+Ffbk8qYOubK5FNBKWiEgNkpNfyLOfb+RvszZQUOhMOLkzPz2tK031SMBaRwEsIlIDuDvTlu/k/g9XsT0jm9F92nLrmJ50bNUo6NKkiiiARUQCtmJHJve8X3yet2fbJvzz2hMY3iU26LKkiimARUQCsmdfLo9+vJZX5m+leYN63H9hX64YkkAdDR0ZERTAIiLVLK+giMlzNvPEJ+vIzi/kR8M78YvTu9Gsoc7zRhIFsIhINXF3Zq5J5b4PVrFxz35G9YjjjrN707W17ueNRApgEZEqlLo3h6XbMlmanMGcjWnM3/wtneMa8fzVQzi1Z+ugy5MAKYBFRCpJVk4+y5IzWZKcwdJtxV9TMnMAiDLo3qYJd5zdi6tOTCS6ru7njXQKYBGRY7BkWwYvztnM4m0ZbNy9/7vpHVs1JCmxJQPaN2NAh+b0Oa4pDaP1X678h/YGEZEK2JmZw8PTV/PWou00a1CPIYktuXBgPAM6NKd/+2Z6QIKUSgEsIlIOOfmFPDO7eKSqwiLnupFd+OmpXWiikaqknBTAIiJl4O58sDSFB6et/m6kqtvG9CKhVcOgS5MwpQAWESnF0uQM/vD+ShZs+ZZe7Zryp0sHcGKXVkGXJWFOASwiUoKDTyR6Y2EysY2jefCiflya1EEjVUmlUACLiBxmW/oBXpm/lee/3ExBofOTkZ352alddZ5XKpUCWESE4uEhZ6zcxSvzt/LF+j0AjO7TllvO0hOJpGoogEUkom3YvY9X52/jzYXJpO3P47hmMfzi9G5cmtSB+OYNgi5PajEFsIhEnJz8Qj5alsIr87Yxb3M6daOMM3q14fKhHTilW5zO8Uq1UACLSMTYlZXD32dt4K1FyWTlFJDYqiG/G92TiwfH07pJTNDlSYRRAItIrbc3J59/fLaRZ7/YSGGRM6ZfO64YksCwzi0xU29XgqEAFpFaK6+giH/O3cJfPl1P+v48zhtwHDed2UODZ0iNoAAWkVrH3flo2U4enr6aLWkHOLFzK24d05P+7ZsHXZrId0oNYDObBJwDpLp739C0gcDTQAxQANzg7vOqsE4RkTKZuzGNB6atZsm2DHq0acLzPxrCqO5xOtQsNU5ZesAvAE8Bkw+Z9jBwj7tPM7MxofejKr06EZEyWrdrLw/9azWfrEqlbdMYHr6kPxcf315XNEuNVWoAu/tsM0s8fDLQNPS6GbCjkusSESlVUZHz+fo9vDJvK9NX7KRRdF1uHt2D8SM6EVOvTtDliRxVRc8B/xKYbmZ/AqKA4SU1NLMJwASAhISECq5OROQ/UjKzeX1BMq/O38b2jGxaNKzHtSd35icju9CykZ7DK+GhogF8PfArd3/TzC4DngPOOFJDd58ITARISkryCq5PRCJcQWERM9fs5pV5W5m5JpUihxFdW3HLWT05s08b6tdVj1fCS0UDeBzwi9Dr14FnK6ccEZH/tjXtAK8u2MrrC5JJ3ZtL6yb1uX5UFy5L6qAxmiWsVTSAdwAjgVnAacC6yipIRCS3oLD4wQjztvHF+j1EGYzq0ZorhnTgtJ6tqVsnKugSRY5ZWW5DmkrxFc6xZpYM3AVcCzxhZnWBHELneEVEjsX61L28Mm8bb32znfT9ecQ3b8CvzujOZUPa066ZHowgtUtZroIeW8KswZVci4hEoOy8Qj5clsKr87cyf/O31I0yvte7DVcMTeCkrrG6jUhqLY2EJSKBWL49k1fnb+OdxdvZm1NAp9hG3HpWTy4e3J7YxvWDLk+kyimARaTaFBY505anMHH2RpYmZxJdN4qz+7Xj8iEdOKGTHowgkUUBLCJVrqCwiA+WpvDkp+vYsHs/neMacfe5vblwUHuaNawXdHkigVAAi0iVyS8s4p1vtvPXmevZnHaAHm2a8NQPBnFW33Y6tysRTwEsIpUur6CINxcl89eZ60n+Nps+xzXl6R8O5szebYhS8IoACmARqUQ5+YW8vmAbf5+1gR2ZOQzo0Jx7zuvDaT1b6/yuyGEUwCJyzDIO5PHagm0898UmdmXlktSxBX+8uD+ndItV8IqUQAEsIhW2emcWL361mbe/2U5OfhEndm7F45cP5MTOrRS8IqVQAItIuRQUFjFj5S5e+GozczelE1MvigsGxjNueCK92jUtfQEiAiiARaSM0vfnMXXeVqZ8vYUdmTm0b9GAW8/qyeVDOtC8oR4BKFJeCmAROaoVOzJ5/svNvLdkB3kFRYzo2oq7z+vD6b3a6FYikWOgABaRI9qadoCHpq/mw6UpNIyuw2VJ7Rl3YiLd2jQJujSRWkEBLCL/JeNAHk9+up7JczZTNyqKn5/WlWtO7kyzBhqxSqQyKYBFBCh+Bu/kr7bw5Kfr2JtbwGWDO/DrM7vTpmlM0KWJ1EoKYJEI5+68vzSFR6avZlt6NiO7x3HrmJ70bKsrmkWqkgJYJILN3ZjGAx+tYklyJr3aNeWla/pxcre4oMsSiQgKYJEItCVtP/d/uIqPV+6ibdMY/nTpAC4cFK+rmkWqkQJYJILkFhTy9KyN/HXWeupFGb/9fg/Gj+hEg+g6QZcmEnEUwCIR4ot1e/j9u8vZtGc/5/Rvx+/P6a0LrEQCpAAWqeVSs3K498NVvL9kB4mtGjJ5/FBO6a7zvCJBUwCL1FKFRc5Lczbz6MdryS0o4hend+P6UV2IqafDzSI1gQJYpBZasi2D299ZxvLtWZzcLZY/nN+XTrGNgi5LRA6hABapRTKz8/nT9DW8PHcLcY3r8+TYQZzTv50eDShSA5UawGY2CTgHSHX3vqFprwI9Qk2aAxnuPrCKahSRUuQVFDFl7hb+8u91ZGbnM+7ERH59Zneaxmj4SJGaqiw94BeAp4DJBye4++UHX5vZo0BmpVcmIqVydz5YmsIj09ewNf0AJ3Zuxe1n96JvfLOgSxORUpQawO4+28wSjzTPio9rXQacVsl1iUgp5mxI48FpxaNY9WzbhOd/NIRR3eN0uFkkTBzrOeCTgV3uvq6kBmY2AZgAkJCQcIyrE5E1O/fy4LRVzFyzm3bNYnjkkv5cdHx7jWIlEmaONYDHAlOP1sDdJwITAZKSkvwY1ycSsVIys3l8xlreWJhMo/p1+d3onvxoRKJuKxIJUxUOYDOrC1wEDK68ckTkcFk5+Tw9awPPfbEJdxg/ohM/PbUrLRpFB12aiByDY+kBnwGsdvfkyipGRP4jv7CIqfO28udP1pG+P48LBh7Hb87sQYeWDYMuTUQqQVluQ5oKjAJizSwZuMvdnwOuoJTDzyJSfu7OjJW7eHDaajbu2c+wzi25fUxv+rXXlc0itUlZroIeW8L0qyu9GpEIt3hbBg98uIp5m9PpEteI58YlcVrP1rqyWaQW0khYIjXAtvQDPDJ9De8t2UFs42juu6AvVwzpQN06UUGXJiJVRAEsEqDMA/n8ddZ6XvhyM1FRcONpXfnJyC40rq+Ppkhtp0+5SADyC4t4+estPBEaOvLi49vzmzO7065Zg6BLE5FqogAWqUbuzr9XpfLAR6vYuGc/J3WN5bYxveh9XNOgSxORaqYAFqkmK3dkcf9HK/lyfRqd4xox6eokTu2hC6xEIpUCWKSKpe7N4bGP1/Lqgm00a1CPu8/tzZXDOlJPF1iJRDQFsEgVyckv5LkvNvG3mevJLShi/IhO/Py0bjRrqEcEiogCWKTSuTvvL03hoWmr2Z6Rzfd6t+G2Mb3oFNso6NJEpAZRAItUovT9eVz/8kLmbkqnd7umPHJpf4Z3iQ26LBGpgRTAIpUk+dsDXDVpHsnfZvPHi/pxWVIHPSJQREqkABapBKt3ZjFu0jwO5BXy0vihnNC5VdAliUgNpwAWOUbzNqVzzYvzaRhdh9evO5GebXVPr4iUTgEscgw+XrGTG6d+Q3yLBkweP5T2LfSoQBEpGwWwSAVNnbeV299eRr/2zXn+6iG0bBQddEkiEkYUwCLl5O48+el6HpuxlpHd4/j7D4+nYbQ+SiJSPvpfQ6QcCoucu99bwUtfb+GiQfE8dEl/jWglIhWiABYpo9yCQn716mI+WraTn5zSmd+N7kmUbjMSkQpSAIuUwbf787hhyiLmbEzj9jG9uPaUzkGXJCJhTgEsUoppy1L4/bvLyTiQz+OXD+DCQe2DLklEagEFsEgJdu/N5a73lvPRsp30jW/K5PEn6Lm9IlJpFMAih3F33luyg7vfW8H+3EJuHt2DCSd3pq4uthKRSqQAFjnEzswc7nhnGZ+sSmVQQnMeuaQ/XVs3CbosEamFSg1gM5sEnAOkunvfQ6bfCPwMKAA+dPebq6xKkSrm7ry+MJl7P1hJfmERd5zdix+N6KSHKYhIlSlLD/gF4Clg8sEJZnYqcD7Q391zzax11ZQnUvW2Z2Rzy5tL+XzdHoZ2asnDF/cnUc/uFZEqVmoAu/tsM0s8bPL1wIPunhtqk1oFtYlUKXfnlfnbuO+DlThw7/l9uPKEjrq3V0SqRUXPAXcHTjaz+4Ec4CZ3n3+khmY2AZgAkJCQUMHViVSub/fncctbS5m+YhcjurbiwYv606GlHqQgItWnogFcF2gBDAOGAK+ZWWd398MbuvtEYCJAUlLS/8wXqW5fbdjDr19dQtr+XO44uxfjR3RSr1dEql1FAzgZeCsUuPPMrAiIBXZXWmUilSy/sIjHZ6zl759toFNsI54dN4K+8c2CLktEIlRFA/gd4DRglpl1B6KBPZVVlEhl27xnP7945RuWJGcydmgHfn9Obz3BSEQCVZbbkKYCo4BYM0sG7gImAZPMbDmQB4w70uFnkaC5O28u2s5d7y6nbp0o/n7l8ZzVr13QZYmIlOkq6LElzPphJdciUqkys/O5453lvL9kByd0asnjlw/kuOYNgi5LRATQSFhSSy3YnM4vXlnMzqwcbjqzO9eP6qpBNUSkRlEAS61yIK+ARz9ey/NfbiK+RQNev+5Ejk9oEXRZIiL/QwEstcZna3dz+9vLSP42mytPSOCWs3rSJKZe0GWJiByRAljC3rf787j3g5W89c12Osc14rWfnMjQTi2DLktE5KgUwBK2Dj428A/vryQzO58bT+vKT0/tSky9OkGXJiJSKgWwhKXtGdnc8fYyZq7ZzcAOzZlycT96tm0adFkiImWmAJawUljkvDRnM49MX4MDd57Tm3HDE3WFs4iEHQWwhI0tafv55auL+WZrBiO7x3HfBX31AAURCVsKYAkLS5Mz+NHz8yl058+XD+T8gcdhpl6viIQvBbDUeLPX7ua6lxfSqnE0k8efQKfYRkGXJCJyzBTAUqO98812bnp9Cd3bNOGF8UNo3SQm6JJERCqFAlhqrGdmb+T+j1YxvEsr/vF/gzWohojUKgpgqXGKipwHPlrFs19s4uz+7XjssgHUr6t7e0WkdlEAS42SV1DEzW8s4Z3FO7h6eCJ3ntObKN1iJCK1kAJYaox9uQVc//JCPl+3h99+vwc3jOqiK51FpNZSAEuNsGdfLj96fj4rU7J45JL+XJrUIeiSRESqlAJYArc17QBXTZrLzqwcnrlqMKf1bBN0SSIiVU4BLIFZn7qPSV9u4q1FycTUq8M/rx2mZ/eKSMRQAEu1cnfmbEjj2S828enqVKLrRnHx8fFcP7IrCa00rKSIRA4FsFSL3IJC3l+SwrOfb2T1zr3ENo7mV2d058phCcQ2rh90eSIi1U4BLFUqfX8eU77ewuSvt7B7by492jTh4Uv6c96A4/TcXhGJaApgqRJp+3J5bMZa3liYTG5BEaN6xHHNSZ04qWusbi0SEaEMAWxmk4BzgFR37xuadjdwLbA71Ow2d/+oqoqU8PLxip3c9vYysrILuHhwPONHdKJbmyZBlyUiUqOUpQf8AvAUMPmw6Y+7+58qvSIJW1k5+fzh/ZW8sTCZ3u2aMuXHA+nRVsErInIkpQawu882s8RqqEXC2Fcb9vDb15eSkpnNz07tys9P70Z03aigyxIRqbGO5Rzwz8zsKmAB8Bt3//ZIjcxsAjABICEh4RhWJzVRTn4hD/9rDZO+3ESn2Ea8cf1w3csrIlIGFe2i/B3oAgwEUoBHS2ro7hPdPcndk+Li4iq4OqmJliZncPZfPmfSl5u46sSOfPjzkxS+IiJlVKEesLvvOvjazJ4BPqi0iqTGyy8s4q8z1/Pkp+uJa1yfl64Zysnd9MeViEh5VCiAzaydu6eE3l4ILK+8kqQmW5+6l1+/toSlyZlcOCieu8/tQ7OG9YIuS0Qk7JTlNqSpwCgg1sySgbuAUWY2EHBgM/CTqitRaoL8wiImzt7IE5+so1H9OvztyuMZ069d0GWJiIStslwFPfYIk5+rglqkhlq5I4ub31zC8u1ZjOnXlnvO60tcEw0fKSJyLDQSlpQor6CIp2au528z19O8YT3+fuXxnKVer4hIpVAAyxEt2ZbBzW8sZc2uvVw0KJ7fn9ObFo2igy5LRKTWUADLf8nJL+TxGWt55vONtG4Sw6SrkzitZ5ugyxIRqXUUwPKd+ZvTufmNpWzas5+xQztw65heNI3RFc4iIlVBASwUFBbxx2mrmfTlJuKbN+Dla07gpG6xQZclIlKrKYAjXHZeITdOXcQnq1K56sSO/G50TxrV124hIlLV9D9tBMs4kMc1Ly5g0dZvue+CvvxwWMegSxIRiRgK4Ai1IyObcZPmsSXtAH/7gW4vEhGpbgrgCLRu116umjSPfTkFTL5mKMM6twq6JBGRiKMAjjALt6Qz/oUFRNeN4tWfnEjv45oGXZKISERSAEeQT1bu4mdTF9GuWQMmjx9Kh5YNgy5JRCRiKYAjxGsLtnHrW8voc1xTnr96CK0aayxnEZEgKYBrOXfnb7M28Mj0NZzcLZanfzhYtxmJiNQA+p+4Fisqcv7wwUpe+GozFww8jocvGUB03aigyxIRERTAtVbytwe46fUlfL0xnR+f1InbxvQiKsqCLktEREIUwLWMu/Pmou3c894Kitx5+OL+XDakQ9BliYjIYRTAtciefbnc9tYyPl65i6GdWvLopQN0pbOISA2lAK4lZqzcxa1vLSUru4Dbx/TimpM66ZCziEgNpgAOc3tz8rn3g5W8tiCZ3u2aMuXHA+nRtknQZYmISCkUwGHs641p/Oa1JaRkZvOzU7vy89O76SpnEZEwoQAOQzn5hTz68Rqe/WITHVs25PXrhjO4Y4ugyxIRkXJQAIeZ7RnZXPviAlamZPHDYQncNqYXDaP1axQRCTelHq80s0lmlmpmy48w7yYzczOLrZry5FALt3zL+U99ybb0Azw3Lon7Luin8BURCVNlOWH4AjD68Ilm1gH4HrC1kmuSI3j7m2TGPvM1jerX4e2fDuf0Xm2CLklERI5BqQHs7rOB9CPMehy4GfDKLkr+o6jIeehfq/nVq0s4PqE579wwgq6tdZWziEi4q9DxSzM7D9ju7kvMjn6vqZlNACYAJCQkVGR1EWt/bgG/fHUxM1bu4gcnJHDPeX2oV0dXOYuI1AblDmAzawjcDpxZlvbuPhGYCJCUlKTechklf3uAH7+4gLW79nL3ub0ZNzyR0v7YERGR8FGRHnAXoBNwsPfbHlhkZkPdfWdlFhepFmxO5ycvLSSvsIgXfjSUU7rHBV2SiIhUsnIHsLsvA1offG9mm4Ekd99TiXVFrDcWJnPbW8uIb9GAZ8cl0SWucdAliYhIFSjLbUhTgTlADzNLNrNrqr6syFNY5Pzxo1Xc9PoShnRqwds3DFf4iojUYqX2gN19bCnzEyutmgiVeSCfG1/5htlrd/N/wzpy57m9dbGViEgtp1EcArZm514mvLSAHRnZPHBhP35wgq4UFxGJBArgAE1blsJvXl9Co/p1eWXCMAZ3bBl0SSIiUk0UwAEoLHIem7GGv87cwKCE5jz9w8G0aRoTdFkiIlKNFMDVLDM7n1+88g2z1uzmiiEduOf8PtSvWyfoskREpJopgKvR2l17mTB5Adszsrn/wr5ceULHoEsSEZGAKICryb+Wp/Cb15bQILouU68dRlKizveKiEQyBXAVKypyHv9kLU9+up6BHYrP97ZtpvO9IiKRTgFchfblFvDLV77hk1WpXJbUnnsv6KvzvSIiAiiAq8zWtAP8ePJ8Nuzezz3n9eGqEzvqYQoiIvIdBXAVmLMhjRumLKTIYfL4oYzoGht0SSIiUsMogCvZlLlbuOvdFXRs1ZDnxg0hMbZR0CWJiEgNpACuJPmFRdz7wUomz9nCqB5x/GXsIJrG1Au6LBERqaEUwJUg40AeN0xZxFcb0phwSmd+N7ondaJ0vldEREqmAD5G61P3cs2LC0jJyOFPlw7gksHtgy5JRETCgAL4GMxcncqNU78hpl4dpk4YxuCOLYIuSUREwoQCuALcnWc/38QD01bRu11TnrkqieOaNwi6LBERCSMK4HIqKnLu+3AVk77cxFl92/LoZQNoGK0fo4iIlI+SoxzyCor47RtLeHfxDq4ensid5/QmShdbiYhIBSiAy2h/bgHXvbyQz9ft4ebRPbh+ZBeNbCUiIhWmAC6DtH25jH9hPst3ZPHwxf25bEiHoEsSEZEwpwAuxbb0A1w1aR47MrL5xw8Hc0bvNkGXJCIitYAC+ChWpWQxbtI8cvILmfLjE/QMXxERqTRRpTUws0lmlmpmyw+Zdq+ZLTWzxWb2sZkdV7VlVr+5G9O47B9ziDLjjeuHK3xFRKRSlRrAwAvA6MOmPeLu/d19IPABcGcl1xWo6St28n+T5tG6SX3evGE43ds0CbokERGpZUoNYHefDaQfNi3rkLeNAK/kugLzz7lbuf7lhfRu15Q3rhtOvAbYEBGRKlDhc8Bmdj9wFZAJnHqUdhOACQAJCQkVXV2V256RzQMfreLDpSmM6hHH3648XgNsiIhIlTH30juvZpYIfODufY8w71Ygxt3vKm05SUlJvmDBgorUWWWy8wp5+rMNPP3ZBszgupFd+OmpXalXpyxH50VEREpmZgvdPelI8yqji/dP4EOg1ACuSdydD5el8MePVrM9I5tz+rfj1jG9dMhZRESqRYUC2My6ufu60NvzgNWVV1LVW7Ejk3veX8m8Ten0ateUxy4bwAmdWwVdloiIRJBSA9jMpgKjgFgzS6a4pzvGzHoARcAW4LqqLLKypO/P408fr+GVeVtp1qAe91/YlyuGJFBH4zmLiEg1KzWA3X3sESY/VwW1VJn8wiJemrOFP3+ylv15hYwbnsgvT+9Os4b1gi5NREQiVK2/zHfuxjR+/+5y1u7ax8ndYrnznN500329IiISsFobwKl7c/jjR6t5+5vtxDdvwMT/G8z3erfRE4xERKRGqHUBXFBYxMtfb+HRj9eSW1DEz07tyk9P7UqD6DpBlyYiIvKdWhXAi7Z+yx1vL2dlShYnd4vlnvP60DmucdBliYiI/I9aEcDp+/N4+F+reWX+Nto2jeGvPzieMf3a6nCziIjUWGEdwEVFzqsLtvHQv1azL6eACad05uend6Nx/bDeLBERiQBhk1T5hUVsTT/AhtR9bNyzn42797F4WwZrd+1jaKeW3HdBXz21SEREwkaNC+CCwiKWJGewIXU/G3bvY8Pu/Wzcs4+taQcoKPrPuNWxjevTJa4Rj18+gAsGxutws4iIhJUaE8B5BUW8/U0yf525ga3pBwCIrhNFYmxDurduwll929I5tjGd4xrROa4xzRpoEA0REQlfgQdwbkEhry9I5u+zNrA9I5t+8c34y9hBDGjfjPYtGmqYSBERqZUCC+Cc/EJembeVpz/byM6sHAZ2aM59F/RlVI84HU4WEZFar9oD+EBeAf+cu5V/zN7I7r25DElswSOX9uekrrEKXhERiRjVGsC79+Zy8kMzSdufx/AurfjLFYMY1rmlgldERCJOtQbwzqwcRsY34+endSUpsWV1rlpERKRGqdYA7hLXmMnjh1bnKkVERGqkqOpcWUM9EEFERASo5gAWERGRYgpgERGRACiARUREAqAAFhERCYACWEREJAAKYBERkQCUGsBmNsnMUs1s+SHTHjGz1Wa21MzeNrPmVVqliIhILVOWHvALwOjDps0A+rp7f2AtcGsl1yUiIlKrlRrA7j4bSD9s2sfuXhB6+zXQvgpqExERqbUq4xzweGBaSTPNbIKZLTCzBbt3766E1YmIiIS/YxoL2sxuBwqAKSW1cfeJwMRQ+71mtqYMi24GZJaxjLK2rex25WkbC+yp5GUGuT217fcTDuuuimVG6rrL07asn91w2R6tu/qX2aPEOe5e6j8gEVh+2LRxwBygYVmWEfqeBWVsN7EcyyxT28puV85llmm7w2h7atvvp8avu7ZtTxj9LGv8/1m17fdTC3+WJe5DFeoBm9lo4HfASHc/UJFllOL9Kmhb2e3K27aylxnk9tS23084rLsqlhmp6y5v26DWHam/n9r2syyRhRK65AZmU4FRFB+K2QXcRfFVz/WBtFCzr939ulJXZrbA3ZOOpeBwFKnbLRLu9NmVY3W0fajUHrC7jz3C5OcqWMvECn5fuIvU7RYJd/rsyrEqcR8qtQcsIiIilS+ih6I0sw5mNtPMVpnZCjP7RWj6ADObY2bLzOx9M2sadK1lZWajzWyNma03s1sOmX5jaPoKM3s4yBrLqoRR2O4NjcC22Mw+NrPjgqyxPI6yv7U0sxlmti70tUXQtZbmKNvyauh3s9jMNpvZ4oBLjVglfH7Cbl87qITtCev9LaJ7wGbWDmjn7ovMrAmwELgAeBG4yd0/M7PxQCd3/32ApZaJmdWheGSy7wHJwHxgLNAGuB04291zzay1u6cGV2nZmNkpwD5gsrv3DU1r6u5Zodc/B3qX5fqDmuAo+9vVQLq7Pxj6o6mFu/8uuEpLV9K2uPvKQ9o8CmS6+x+CqjOSlfD5eZgw29cOOtL2HDY/7Pa3iO4Bu3uKuy8Kvd4LrALiKb5va3ao2Qzg4mAqLLehwHp33+juecArwPnA9cCD7p4LEA7hCyWOwpZ1yNtGQNj8BXmU/e18iv/oI/T1gkAKLIejbAsAZmbAZcDUYCqUI31+CMN97aAStgcI3/0togP4UGaWCAwC5gLLgfNCsy4FOgRUVnnFA9sOeZ8cmtYdONnM5prZZ2Y2JJDqKomZ3W9m24ArgTuDrqciDtvf2rh7ChQHG9A6wNLK7bBtOehkYJe7rwukKClJWO9rRxGW+5sCGDCzxsCbwC9DPazxwE/NbCHQBMgLsr5ysCNMc4qvdm8BDAN+C7wW+osxLLn77e7egeIR2H4WdD3ldYT9LWwdZVvGEma9EQlrYbm/RXwAm1k9iv8DmeLubwG4+2p3P9PdB1P8S90QZI3lkMx/99bbAztC09/yYvOAIorv6w53/yR8Tg8AR97fgF2hc6oHz62GxSmCErYFM6sLXAS8GlRtUqKw3NeOJpz3t4gO4FAv8Dlglbs/dsj01qGvUcAdwNPBVFhu84FuZtbJzKKBK4D3gHeA0wDMrDsQTdnHpq5RzKzbIW/PA1YHVUt5lbS/Ufw7Ghd6PQ54t7prK6+jbAvAGcBqd0+u/sqkFGG3r5VB2O5vkX4V9EnA58AyinuFALcB3YCfht6/BdzqYfKDMrMxwJ+BOsAkd78/FMaTgIEUH06/yd0/DazIMrIjj8I2huKL5IqALcB17r49qBrL4yj721zgNSAB2Apc6u5HvNikpihpW9z9IzN7geLR8cLlD9daqYTPzzuE2b520JG2x92fC+f9LaIDWEREJCgRfQhaREQkKApgERGRACiARUREAqAAFhERCYACWEREJAAKYBERkQAogEVERAKgABYREQmAAlhERCQACmAREZEAKIBFREQCoAAWEREJgAJYREQkAApgERGRACiARUREAqAAFhERCYACuBKYWaGZLTazFWa2xMx+bWb62YqECTPbF3QNEnnqBl1ALZHt7gMBzKw18E+gGXBXkEWJiEjNpV5aJXP3VGAC8DMrVsfMHjGz+Wa21Mx+crCtmd1sZstCveYHg6taRMyssZn928wWhT6X54emJ5rZKjN7JnSU62MzaxB0vRL+1AOuAu6+MXQIujVwPpDp7kPMrD7wpZl9DPQELgBOcPcDZtYyuIpFBMgBLnT3LDOLBb42s/dC87oBY939WjN7DbgYeDmoQqV2UABXHQt9PRPob2aXhN43o/jDfAbwvLsfAHD39OovUUQOYcADZnYKUATEA21C8za5++LQ64VAYrVXJ7WOArgKmFlnoBBIpfhDfaO7Tz+szWjAAyhPRI7sSiAOGOzu+Wa2GYgJzcs9pF0hoEPQcsx0DriSmVkc8DTwlLs7MB243szqheZ3N7NGwMfAeDNrGJquQ9AiwWoGpIbC91SgY9AFSe2mHnDlaGBmi4F6QAHwEvBYaN6zFB+uWmRmBuwGLnD3f5nZQGCBmeUBHwG3VXPdIhHPzOpS3MOdArxvZguAxcDqIOuS2s+KO2kiIpHJzAYAz7j70KBrkciiQ9AiErHM7DpgKnBH0LVI5FEPWEREJADqAYuIiARAASwiEcPMOpjZzNDIVivM7Beh6S3NbIaZrQt9bRGa/j0zWxgaGWuhmZ0Wmt7QzD40s9Wh5WgkOyk3HYIWkYhhZu2Adu6+yMyaUDyoxgXA1UC6uz9oZrcALdz9d2Y2CNjl7jvMrC8w3d3jQ7cPnuDuM80sGvg38IC7TwtkwyQsqQcsIhHD3VPcfVHo9V5gFcUjXp0PvBhq9iLFoYy7f+PuO0LTVwAxZlbf3Q+4+8xQmzxgEdC+2jZEagUFsIhEJDNLBAYBc4E27p4CxSFN8Tjuh7sY+MbdDx0VCzNrDpxLcS9YpMw0EIeIRBwzawy8Cfwy9PCF0tr3AR6ieGz3Q6fXpfg2pr+4+8YqKldqKfWARSSihIaFfROY4u5vhSbvCp0fPnieOPWQ9u2Bt4Gr3H3DYYubCKxz9z9XeeFS6yiARSRihIaDfQ5Y5e6PHTLrPWBc6PU44N1Q++bAh8Ct7v7lYcu6j+Lxo39ZtVVLbaWroEUkYpjZScDnwDKKHzkIxWOwzwVeAxKArcCl7p5uZncAtwLrDlnMmUA0sI3i8aIPnhN+yt2frfKNkFpDASwiIhIAHYIWEREJgAJYREQkAApgERGRACiARUREAqAAFhERCYACWEREJAAKYBERkQD8P+/FlswLobqVAAAAAElFTkSuQmCC\n",
      "text/plain": [
       "<Figure size 576x360 with 1 Axes>"
      ]
     },
     "metadata": {
      "needs_background": "light"
     },
     "output_type": "display_data"
    }
   ],
   "source": [
    "metodos = [\"Rendimientos simples\", \"Rendimientos logarítmicos\", \"Modelo Normal\", \"Histograma\"]\n",
    "comparacion = pd.DataFrame([valuacionPut(ticker, fechaInicio, precioEjercicio, fechaExpiracion, rf, N, metodo) \n",
    "                       for metodo in metodos],\n",
    "                       columns = [\"Prima\", \"Límite inferior (99% confianza)\", \"Límite superior (99% confianza)\"], \n",
    "                       index = metodos)\n",
    "\n",
    "comparacion[\"% Error relativo (prima real)\"] = np.round(abs(comparacion[\"Prima\"] - primaReal) / primaReal * 100, 2)\n",
    "comparacion[\"% Error relativo (prima teórica B&S)\"] = np.round(abs(comparacion[\"Prima\"] - primaTeorica) / primaTeorica * 100, 2)\n",
    "comparacion"
   ]
  },
  {
   "cell_type": "markdown",
   "metadata": {},
   "source": [
    "El Modelo Normal y el histograma tienen un mejor rendimiento ya que tienen un error relativo más bajo"
   ]
  },
  {
   "cell_type": "code",
   "execution_count": null,
   "metadata": {},
   "outputs": [],
   "source": []
  }
 ],
 "metadata": {
  "kernelspec": {
   "display_name": "Python 3",
   "language": "python",
   "name": "python3"
  },
  "language_info": {
   "codemirror_mode": {
    "name": "ipython",
    "version": 3
   },
   "file_extension": ".py",
   "mimetype": "text/x-python",
   "name": "python",
   "nbconvert_exporter": "python",
   "pygments_lexer": "ipython3",
   "version": "3.8.8"
  }
 },
 "nbformat": 4,
 "nbformat_minor": 2
}
